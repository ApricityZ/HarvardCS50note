{
 "cells": [
  {
   "cell_type": "markdown",
   "source": [
    "# Class"
   ],
   "metadata": {
    "collapsed": false
   },
   "id": "99473583b454673b"
  },
  {
   "cell_type": "code",
   "execution_count": null,
   "outputs": [],
   "source": [
    "class Student:\n",
    "    \n",
    "    \n",
    "    \n",
    "def main():\n",
    "    if student[\"name\"] == \"Padma\":\n",
    "        student[\"house\"] = \"Ravenclaw\"\n",
    "    \n",
    "    print(f\"{stud}\")\n",
    "    "
   ],
   "metadata": {
    "collapsed": false
   },
   "id": "ca954d6f3499362a"
  }
 ],
 "metadata": {
  "kernelspec": {
   "display_name": "Python 3",
   "language": "python",
   "name": "python3"
  },
  "language_info": {
   "codemirror_mode": {
    "name": "ipython",
    "version": 2
   },
   "file_extension": ".py",
   "mimetype": "text/x-python",
   "name": "python",
   "nbconvert_exporter": "python",
   "pygments_lexer": "ipython2",
   "version": "2.7.6"
  }
 },
 "nbformat": 4,
 "nbformat_minor": 5
}
