{
 "cells": [
  {
   "cell_type": "markdown",
   "source": [
    "# Conditionals\n",
    "- Conditionals allow your program to make decisions;\n",
    "- Bulit within Python are a set of \"operators\" that are used to ask mathematical questions:\n",
    "- `>` and `<`\n",
    "- `>=` : \"greater than or equal to\"\n",
    "- `<= `: \"less tha or equal to\"\n",
    "- `==` : \"equals. A single equal sign would assign a value. Double equal signs are used to compare variables.\"\n",
    "- `!=` : \"not equal to\"\n",
    "- Conditional statements compare a left-hand to a right-hand term."
   ],
   "metadata": {
    "collapsed": false
   },
   "id": "85a908836847fb14"
  },
  {
   "cell_type": "markdown",
   "source": [
    "# if Statements"
   ],
   "metadata": {
    "collapsed": false
   },
   "id": "3c6427b057a6e16e"
  },
  {
   "cell_type": "code",
   "outputs": [],
   "source": [
    "# compare.py\n",
    "\n",
    "x = int(input(\"What's x? \"))\n",
    "y = int(input(\"What's y? \"))\n",
    "\n",
    "if x < y:\n",
    "    print(\"x is less than y\")"
   ],
   "metadata": {
    "collapsed": false,
    "ExecuteTime": {
     "end_time": "2024-03-08T02:46:02.615636Z",
     "start_time": "2024-03-08T02:45:58.935148Z"
    }
   },
   "id": "483d5ae6bb91b55b",
   "execution_count": 2
  },
  {
   "cell_type": "markdown",
   "source": [
    "`if` statement use `bool` or boolean values(true or false) to decide whether to execute."
   ],
   "metadata": {
    "collapsed": false
   },
   "id": "bdab7f5c01550241"
  },
  {
   "cell_type": "markdown",
   "source": [
    "# Control Flow, elif, and else"
   ],
   "metadata": {
    "collapsed": false
   },
   "id": "6bf824801d79f108"
  },
  {
   "cell_type": "code",
   "outputs": [
    {
     "name": "stdout",
     "output_type": "stream",
     "text": [
      "x is equal to y\n"
     ]
    }
   ],
   "source": [
    "x = int(input(\"What's x? \"))\n",
    "y = int(input(\"What's y? \"))\n",
    "\n",
    "if x < y:\n",
    "    print(\"x is less than y\")\n",
    "if x > y:\n",
    "    print(\"x is greater than y\")\n",
    "if x == y:\n",
    "    print(\"x is equal to y\")"
   ],
   "metadata": {
    "collapsed": false,
    "ExecuteTime": {
     "end_time": "2024-03-08T02:53:55.345372Z",
     "start_time": "2024-03-08T02:53:53.254930Z"
    }
   },
   "id": "cb077df72d46dbe9",
   "execution_count": 3
  },
  {
   "cell_type": "markdown",
   "source": [
    "This program can be improved by not asking three consecutive questions."
   ],
   "metadata": {
    "collapsed": false
   },
   "id": "89861c3da40b52fa"
  },
  {
   "cell_type": "code",
   "outputs": [
    {
     "name": "stdout",
     "output_type": "stream",
     "text": [
      "x is equal to y\n"
     ]
    }
   ],
   "source": [
    "x = int(input(\"What's x? \"))\n",
    "y = int(input(\"What's y? \"))\n",
    "\n",
    "if x < y:\n",
    "    print(\"x is less than y\")\n",
    "elif x > y:\n",
    "    print(\"x is greater than y\")\n",
    "elif x == y:\n",
    "    print(\"x is equal to y\")"
   ],
   "metadata": {
    "collapsed": false,
    "ExecuteTime": {
     "end_time": "2024-03-08T03:00:06.625995Z",
     "start_time": "2024-03-08T03:00:04.669675Z"
    }
   },
   "id": "64cf6d99348a69ca",
   "execution_count": 8
  },
  {
   "cell_type": "markdown",
   "source": [],
   "metadata": {
    "collapsed": false
   },
   "id": "cd551ad622e28dbd"
  },
  {
   "cell_type": "code",
   "outputs": [
    {
     "name": "stdout",
     "output_type": "stream",
     "text": [
      "x is equal to y\n"
     ]
    }
   ],
   "source": [
    "x = int(input(\"What's x? \"))\n",
    "y = int(input(\"What's y? \"))\n",
    "\n",
    "if x < y:\n",
    "    print(\"x is less than y\")\n",
    "elif x > y:\n",
    "    print(\"x is greater than y\")\n",
    "else:\n",
    "    print(\"x is equal to y\")"
   ],
   "metadata": {
    "collapsed": false,
    "ExecuteTime": {
     "end_time": "2024-03-08T03:00:50.408439Z",
     "start_time": "2024-03-08T03:00:48.914808Z"
    }
   },
   "id": "2a0572600a27b85e",
   "execution_count": 9
  },
  {
   "cell_type": "markdown",
   "source": [
    "# or"
   ],
   "metadata": {
    "collapsed": false
   },
   "id": "418bf0de508727f5"
  },
  {
   "cell_type": "markdown",
   "source": [
    "`or` allow to decide between one or more alternatives."
   ],
   "metadata": {
    "collapsed": false
   },
   "id": "971123a1bce1741a"
  },
  {
   "cell_type": "code",
   "outputs": [
    {
     "name": "stdout",
     "output_type": "stream",
     "text": [
      "x is equal to y\n"
     ]
    }
   ],
   "source": [
    "x = int(input(\"What's x? \"))\n",
    "y = int(input(\"What's y? \"))\n",
    "\n",
    "if x < y or x > y:\n",
    "    print(\"x is not equal to y\")\n",
    "else:\n",
    "    print(\"x is equal to y\")"
   ],
   "metadata": {
    "collapsed": false,
    "ExecuteTime": {
     "end_time": "2024-03-08T03:03:15.440176Z",
     "start_time": "2024-03-08T03:03:13.736157Z"
    }
   },
   "id": "2770132772c3be4f",
   "execution_count": 10
  },
  {
   "cell_type": "code",
   "outputs": [
    {
     "name": "stdout",
     "output_type": "stream",
     "text": [
      "x is equal to y\n"
     ]
    }
   ],
   "source": [
    "x = int(input(\"What's x? \"))\n",
    "y = int(input(\"What's y? \"))\n",
    "\n",
    "if x != y:\n",
    "    print(\"x is not equal to y\")\n",
    "else:\n",
    "    print(\"x is equal to y\")\n"
   ],
   "metadata": {
    "collapsed": false,
    "ExecuteTime": {
     "end_time": "2024-03-08T03:04:04.882219Z",
     "start_time": "2024-03-08T03:04:03.168787Z"
    }
   },
   "id": "e228cb8e48bf4792",
   "execution_count": 11
  },
  {
   "cell_type": "code",
   "outputs": [
    {
     "name": "stdout",
     "output_type": "stream",
     "text": [
      "x is equal to y\n"
     ]
    }
   ],
   "source": [
    "x = int(input(\"What's x? \"))\n",
    "y = int(input(\"What's y? \"))\n",
    "\n",
    "if x == y:\n",
    "    print(\"x is equal to y\")\n",
    "else:\n",
    "    print(\"x is not equal to y\")\n",
    "\n"
   ],
   "metadata": {
    "collapsed": false,
    "ExecuteTime": {
     "end_time": "2024-03-08T03:05:36.405835Z",
     "start_time": "2024-03-08T03:05:35.096485Z"
    }
   },
   "id": "a43e146e5ca1c734",
   "execution_count": 12
  },
  {
   "cell_type": "markdown",
   "source": [
    "# and"
   ],
   "metadata": {
    "collapsed": false
   },
   "id": "ba1760e3780980ac"
  },
  {
   "cell_type": "code",
   "outputs": [
    {
     "name": "stdout",
     "output_type": "stream",
     "text": [
      "Grade: F\n"
     ]
    }
   ],
   "source": [
    "# grade.py\n",
    "\n",
    "score = int(input(\"Score: \"))\n",
    "\n",
    "if score >= 90 and score <= 100:\n",
    "    print(\"Grade: A\")\n",
    "elif score >= 80 and score < 90:\n",
    "    print(\"Grade: B\")\n",
    "elif score >= 70 and score < 80:\n",
    "    print(\"Grade: C\")\n",
    "elif score >= 60 and score < 70:\n",
    "    print(\"Grade: D\")\n",
    "else:\n",
    "    print(\"Grade: F\")"
   ],
   "metadata": {
    "collapsed": false,
    "ExecuteTime": {
     "end_time": "2024-03-08T03:09:05.080894Z",
     "start_time": "2024-03-08T03:09:02.446827Z"
    }
   },
   "id": "97beeb08962d6a01",
   "execution_count": 13
  },
  {
   "cell_type": "code",
   "outputs": [
    {
     "name": "stdout",
     "output_type": "stream",
     "text": [
      "Grade: D\n"
     ]
    }
   ],
   "source": [
    "score = int(input(\"Score: \"))\n",
    "\n",
    "if 90<= score <=100:\n",
    "    print(\"Grade: A\")\n",
    "elif 80 <= score < 90:\n",
    "    print(\"Grade: B\")\n",
    "elif 70 <= score <80:\n",
    "    print(\"Grade: C\")\n",
    "elif 60 <= score <70:\n",
    "    print(\"Grade: D\")\n",
    "else:\n",
    "    print(\"Grade: F\")"
   ],
   "metadata": {
    "collapsed": false,
    "ExecuteTime": {
     "end_time": "2024-03-08T04:46:11.261622Z",
     "start_time": "2024-03-08T04:46:07.705526Z"
    }
   },
   "id": "52c0880c9b911a6e",
   "execution_count": 14
  },
  {
   "cell_type": "code",
   "outputs": [
    {
     "name": "stdout",
     "output_type": "stream",
     "text": [
      "Grade: E\n"
     ]
    }
   ],
   "source": [
    "# we can further improve our code:\n",
    "\n",
    "score = int(input(\"Score: \"))\n",
    "\n",
    "if score >= 90:\n",
    "    print(\"Grade: A\")\n",
    "elif score >= 80:\n",
    "    print(\"Grade: B\")\n",
    "elif score >= 70:\n",
    "    print(\"Grade: C\")\n",
    "elif score >= 60:\n",
    "    print(\"Grade: D\")\n",
    "else:\n",
    "    print(\"Grade: F\")\n"
   ],
   "metadata": {
    "collapsed": false,
    "ExecuteTime": {
     "end_time": "2024-03-08T04:49:36.441850Z",
     "start_time": "2024-03-08T04:49:32.475970Z"
    }
   },
   "id": "f12670636c10e25f",
   "execution_count": 16
  },
  {
   "cell_type": "markdown",
   "source": [
    "# Modulo (取模)"
   ],
   "metadata": {
    "collapsed": false
   },
   "id": "6c2a2a2d6ec82dcf"
  },
  {
   "cell_type": "code",
   "outputs": [
    {
     "name": "stdout",
     "output_type": "stream",
     "text": [
      "Odd\n"
     ]
    }
   ],
   "source": [
    "# parity.py\n",
    "\n",
    "x = int(input(\"What's x? \"))\n",
    "\n",
    "if x % 2 == 0:\n",
    "    print(\"Even\")\n",
    "else:\n",
    "    print(\"Odd\")"
   ],
   "metadata": {
    "collapsed": false,
    "ExecuteTime": {
     "end_time": "2024-03-08T05:14:05.268562Z",
     "start_time": "2024-03-08T05:14:02.877827Z"
    }
   },
   "id": "43275c7da36c7d55",
   "execution_count": 18
  },
  {
   "cell_type": "code",
   "outputs": [
    {
     "name": "stdout",
     "output_type": "stream",
     "text": [
      "Odd\n"
     ]
    }
   ],
   "source": [
    "# Creating our own Parity function\n",
    "\n",
    "def main():\n",
    "    x = int(input(\"What's x?\"))\n",
    "    if is_even(x):\n",
    "        print(\"Even\")\n",
    "    else:\n",
    "        print(\"Odd\")\n",
    "\n",
    "\n",
    "def is_even(n):\n",
    "    if n % 2 == 0:\n",
    "        return True\n",
    "    else:\n",
    "        return False\n",
    "    \n",
    "main()"
   ],
   "metadata": {
    "collapsed": false,
    "ExecuteTime": {
     "end_time": "2024-03-08T05:16:28.172196Z",
     "start_time": "2024-03-08T05:16:26.019150Z"
    }
   },
   "id": "e76b6181dcde057d",
   "execution_count": 20
  },
  {
   "cell_type": "markdown",
   "source": [
    "# Pythonic\n",
    "A type of programming only seen in Python programming"
   ],
   "metadata": {
    "collapsed": false
   },
   "id": "66d9f9c6fb687018"
  },
  {
   "cell_type": "code",
   "outputs": [
    {
     "name": "stdout",
     "output_type": "stream",
     "text": [
      "Odd\n"
     ]
    }
   ],
   "source": [
    "def main():\n",
    "    x = int(input(\"What's x?\"))\n",
    "    if is_even(x):\n",
    "        print(\"Even\")\n",
    "    else:\n",
    "        print(\"Odd\")\n",
    "\n",
    "\n",
    "def is_even(n):\n",
    "    return True if n % 2 ==0 else False # Pythonic \n",
    "\n",
    "main()"
   ],
   "metadata": {
    "collapsed": false,
    "ExecuteTime": {
     "end_time": "2024-03-08T05:19:47.691814Z",
     "start_time": "2024-03-08T05:19:45.247113Z"
    }
   },
   "id": "42561b7953acd474",
   "execution_count": 21
  },
  {
   "cell_type": "code",
   "outputs": [
    {
     "name": "stdout",
     "output_type": "stream",
     "text": [
      "Odd\n"
     ]
    }
   ],
   "source": [
    "# Reversing our code and making it more and more readable:\n",
    "\n",
    "def main():\n",
    "    x = int(input(\"What's x? \"))\n",
    "    if is_even(x):\n",
    "        print(\"Even\")\n",
    "    else:\n",
    "        print(\"Odd\")\n",
    "\n",
    "\n",
    "def is_even(n):\n",
    "    return n % 2 == 0\n",
    "\n",
    "\n",
    "main()"
   ],
   "metadata": {
    "collapsed": false,
    "ExecuteTime": {
     "end_time": "2024-03-08T05:22:36.136727Z",
     "start_time": "2024-03-08T05:22:34.244909Z"
    }
   },
   "id": "1050bdcf6a5a21b6",
   "execution_count": 22
  },
  {
   "cell_type": "markdown",
   "source": [
    "# match"
   ],
   "metadata": {
    "collapsed": false
   },
   "id": "dc28a866e148c282"
  },
  {
   "cell_type": "code",
   "outputs": [
    {
     "name": "stdout",
     "output_type": "stream",
     "text": [
      "Gryffindor\n"
     ]
    }
   ],
   "source": [
    "# match statements can be used to conditionally run code that matches certain values:\n",
    "\n",
    "name = input(\"What's your name?\")\n",
    "\n",
    "if name == \"Harry\":\n",
    "    print(\"Gryffindor\")\n",
    "elif name == \"Hermione\":\n",
    "    print(\"Gryffindor\")\n",
    "elif name == \"Ron\":\n",
    "    print(\"Gryffindor\")\n",
    "elif name == \"Draco\":\n",
    "    print(\"Slytherin\")\n",
    "else:\n",
    "    print(\"Who?\")"
   ],
   "metadata": {
    "collapsed": false,
    "ExecuteTime": {
     "end_time": "2024-03-08T05:26:31.528627Z",
     "start_time": "2024-03-08T05:26:27.895876Z"
    }
   },
   "id": "9e8ebf5c1b4cca85",
   "execution_count": 23
  },
  {
   "cell_type": "code",
   "outputs": [
    {
     "name": "stdout",
     "output_type": "stream",
     "text": [
      "Gryffindor\n"
     ]
    }
   ],
   "source": [
    "# Improving this code slightly with the use of `or` keyword:\n",
    "\n",
    "name = input(\"What's your name? \")\n",
    "\n",
    "if name == \"Harry\" or \"Hermione\" or \"Ron\":\n",
    "    print(\"Gryffindor\")\n",
    "elif name == \"Draco\":\n",
    "    print(\"Slytherin\")\n",
    "else:\n",
    "    print(\"Who?\")"
   ],
   "metadata": {
    "collapsed": false,
    "ExecuteTime": {
     "end_time": "2024-03-08T05:29:26.800235Z",
     "start_time": "2024-03-08T05:29:23.624928Z"
    }
   },
   "id": "f25c75dcc4133a4a",
   "execution_count": 25
  },
  {
   "cell_type": "code",
   "outputs": [
    {
     "name": "stdout",
     "output_type": "stream",
     "text": [
      "Gryffindor\n"
     ]
    }
   ],
   "source": [
    "# Using `match` statements to map names to houses:\n",
    "\n",
    "name = input(\"What's your name? \")\n",
    "\n",
    "match name:\n",
    "    case \"Harry\":\n",
    "        print(\"Gryffindor\")\n",
    "    case \"Hermione\":\n",
    "        print(\"Gryffindor\")\n",
    "    case \"Ron\":\n",
    "        print(\"Gryffindor\")\n",
    "    case \"Draco\":\n",
    "        print(\"Slytherin\")\n",
    "    case _:\n",
    "        print(\"Who?\")\n"
   ],
   "metadata": {
    "collapsed": false,
    "ExecuteTime": {
     "end_time": "2024-03-08T05:32:23.947522Z",
     "start_time": "2024-03-08T05:32:17.330841Z"
    }
   },
   "id": "8b27c5947bdce0c5",
   "execution_count": 26
  },
  {
   "cell_type": "code",
   "outputs": [
    {
     "name": "stdout",
     "output_type": "stream",
     "text": [
      "Slytherin\n"
     ]
    }
   ],
   "source": [
    "# improve the code:\n",
    "\n",
    "name = input(\"What's your name?\")\n",
    "\n",
    "match name:\n",
    "    case \"Harry\" | \"Hermione\" | \"Ron\":\n",
    "        print(\"Gryffindor\")\n",
    "    case \"Draco\":\n",
    "        print(\"Slytherin\")\n",
    "    case _:\n",
    "        print(\"Who?\")\n",
    "\n",
    "# the use of single vertical bar | is like the `or` keyword."
   ],
   "metadata": {
    "collapsed": false,
    "ExecuteTime": {
     "end_time": "2024-03-08T05:35:23.589043Z",
     "start_time": "2024-03-08T05:35:17.347961Z"
    }
   },
   "id": "36bd3f16bd796d79",
   "execution_count": 27
  },
  {
   "cell_type": "markdown",
   "source": [
    "# Summing up\n",
    "Ok, you have the power within Python to use conditional statements to ask questions and have your program take action accordingly. Here, we discussed:\n",
    "- Conditionals;\n",
    "- `if` Statements;\n",
    "- Control flow, `elif`, and `else`;\n",
    "- `or`;\n",
    "- `and`;\n",
    "- Modulo;\n",
    "- Creating your own function;\n",
    "- Pythonic coding;\n",
    "- and `match`"
   ],
   "metadata": {
    "collapsed": false
   },
   "id": "4f11d34c2c7cc4a1"
  },
  {
   "cell_type": "code",
   "outputs": [],
   "source": [],
   "metadata": {
    "collapsed": false
   },
   "id": "57ab984dd6e7c37a"
  }
 ],
 "metadata": {
  "kernelspec": {
   "display_name": "Python 3",
   "language": "python",
   "name": "python3"
  },
  "language_info": {
   "codemirror_mode": {
    "name": "ipython",
    "version": 2
   },
   "file_extension": ".py",
   "mimetype": "text/x-python",
   "name": "python",
   "nbconvert_exporter": "python",
   "pygments_lexer": "ipython2",
   "version": "2.7.6"
  }
 },
 "nbformat": 4,
 "nbformat_minor": 5
}
