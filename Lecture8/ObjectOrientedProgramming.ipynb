{
 "cells": [
  {
   "cell_type": "markdown",
   "id": "23e65213bcd95b99",
   "metadata": {
    "collapsed": false,
    "jupyter": {
     "outputs_hidden": false
    }
   },
   "source": [
    "# Object-Oriented Programming\n",
    "- Object-Oriented Programming\n",
    "- Classes\n",
    "- raise\n",
    "- Decorators\n",
    "- Connecting to Previous Work in this Course\n",
    "- Class Methods\n",
    "- Static Methods\n",
    "- Inheritance\n",
    "- Inheritance and Exceptions\n",
    "- Operator Overloading\n",
    "- Summing Up"
   ]
  },
  {
   "cell_type": "markdown",
   "id": "fbd13fef2bcb35a5",
   "metadata": {
    "collapsed": false,
    "jupyter": {
     "outputs_hidden": false
    }
   },
   "source": [
    "## Object-Oriented Programming\n",
    "- There are different paradigms of programming.\n",
    "- Up until now, we have worked procedurally step by step.\n",
    "- Object-oriented programming(OOP) is a compelling solution to programming-related problems.\n",
    "- Let's begin:"
   ]
  },
  {
   "cell_type": "code",
   "execution_count": 47,
   "id": "8a5820552f22361c",
   "metadata": {
    "ExecuteTime": {
     "end_time": "2024-04-18T10:45:18.724092Z",
     "start_time": "2024-04-18T10:45:16.690606Z"
    },
    "collapsed": false,
    "jupyter": {
     "outputs_hidden": false
    }
   },
   "outputs": [
    {
     "name": "stdout",
     "output_type": "stream",
     "text": [
      " from \n"
     ]
    }
   ],
   "source": [
    "# student.py\n",
    "\n",
    "name = input(\"Name: \")\n",
    "house = input(\"House:\")\n",
    "print(f\"{name} from {house}\")\n"
   ]
  },
  {
   "cell_type": "markdown",
   "id": "d6d5ef1a76649c3e",
   "metadata": {
    "collapsed": false,
    "jupyter": {
     "outputs_hidden": false
    }
   },
   "source": [
    "Drawing on our work from previous weeks, we can create functions to abstract away parts of this program."
   ]
  },
  {
   "cell_type": "code",
   "execution_count": 48,
   "id": "d45aaf89ac0c7cab",
   "metadata": {
    "ExecuteTime": {
     "end_time": "2024-04-18T10:45:18.735080Z",
     "start_time": "2024-04-18T10:45:18.727102Z"
    },
    "collapsed": false,
    "jupyter": {
     "outputs_hidden": false
    }
   },
   "outputs": [],
   "source": [
    "def main():\n",
    "    _name = get_name()\n",
    "    _house = get_house()\n",
    "    print(f\"{_name} is from {_house}\")\n",
    "\n",
    "\n",
    "def get_name():\n",
    "    return input(\"Name:\")\n",
    "\n",
    "\n",
    "def get_house():\n",
    "    return input(\"House\")\n"
   ]
  },
  {
   "cell_type": "markdown",
   "id": "52882c348c9b9965",
   "metadata": {
    "collapsed": false,
    "jupyter": {
     "outputs_hidden": false
    }
   },
   "source": [
    "We can further simplify our program by storing the student as a `tuple`. A `tuple` is a sequences of values. Unlike a `list`, a `tuple` can't be modified.\n",
    "In spirit, we are returning two values."
   ]
  },
  {
   "cell_type": "code",
   "execution_count": 49,
   "id": "307bd67778e5a913",
   "metadata": {
    "ExecuteTime": {
     "end_time": "2024-04-18T10:45:19.466817Z",
     "start_time": "2024-04-18T10:45:18.736088Z"
    },
    "collapsed": false,
    "jupyter": {
     "outputs_hidden": false
    }
   },
   "outputs": [
    {
     "name": "stdout",
     "output_type": "stream",
     "text": [
      " from \n"
     ]
    }
   ],
   "source": [
    "def get_student():\n",
    "    name = input(\"Name:\")\n",
    "    house = input(\"House;\")\n",
    "    return name, house\n",
    "\n",
    "\n",
    "def main():\n",
    "    name, house = get_student()\n",
    "    print(f\"{name} from {house}\")\n",
    "\n",
    "\n",
    "if __name__ == '__main__':\n",
    "    main()"
   ]
  },
  {
   "cell_type": "markdown",
   "id": "291b064d5671e88c",
   "metadata": {
    "collapsed": false,
    "jupyter": {
     "outputs_hidden": false
    }
   },
   "source": [
    "Notice how ger_student return `name, house`"
   ]
  },
  {
   "cell_type": "markdown",
   "id": "5bc9c9dee657bfe5",
   "metadata": {
    "collapsed": false,
    "jupyter": {
     "outputs_hidden": false
    }
   },
   "source": [
    "Packing that `tuple`, such that we are able to return both items to a variable called `stuent`, we can modify our code as follows:"
   ]
  },
  {
   "cell_type": "code",
   "execution_count": 50,
   "id": "b8fc869928cfe9",
   "metadata": {
    "ExecuteTime": {
     "end_time": "2024-04-18T10:45:20.316343Z",
     "start_time": "2024-04-18T10:45:19.468826Z"
    },
    "collapsed": false,
    "jupyter": {
     "outputs_hidden": false
    }
   },
   "outputs": [
    {
     "name": "stdout",
     "output_type": "stream",
     "text": [
      " from \n"
     ]
    }
   ],
   "source": [
    "def main():\n",
    "    student = get_student()\n",
    "    print(f\"{student[0]} from {student[1]}\")\n",
    "\n",
    "\n",
    "def get_student():\n",
    "    name = input(\"Name:\")\n",
    "    house = input(\"House\")\n",
    "    return (name, house)\n",
    "\n",
    "\n",
    "if __name__ == '__main__':\n",
    "    main()"
   ]
  },
  {
   "cell_type": "markdown",
   "id": "3eb94e24dc3aba51",
   "metadata": {
    "collapsed": false,
    "jupyter": {
     "outputs_hidden": false
    }
   },
   "source": [
    "Notice that `(name, house)` explicitly tells anyone reading our code that we are returning rwo values within one. Further, notice how we can index into `tuple`s using `student[0]` or `student[1]`.\n",
    "\n",
    "`tuple`s are immutable, meaning we cannot change those values. Immutability is a way by which we can program defensively."
   ]
  },
  {
   "cell_type": "code",
   "execution_count": 51,
   "id": "cc2b05646af0367e",
   "metadata": {
    "ExecuteTime": {
     "end_time": "2024-04-18T10:45:21.116285Z",
     "start_time": "2024-04-18T10:45:20.317867Z"
    },
    "collapsed": false,
    "jupyter": {
     "outputs_hidden": false
    }
   },
   "outputs": [
    {
     "name": "stdout",
     "output_type": "stream",
     "text": [
      " from \n"
     ]
    }
   ],
   "source": [
    "def main():\n",
    "    student = get_student()\n",
    "    if student[0] == \"Padma\":\n",
    "        student[1] = \"Ravenclaw\"\n",
    "    print(f\"{student[0]} from {student[1]}\")\n",
    "\n",
    "\n",
    "def get_student():\n",
    "    name = input(\"Name: \")\n",
    "    house = input(\"House:\")\n",
    "    return name, house\n",
    "\n",
    "\n",
    "if __name__ == '__main__':\n",
    "    main()"
   ]
  },
  {
   "cell_type": "markdown",
   "id": "e233eae8ad97552a",
   "metadata": {
    "collapsed": false,
    "jupyter": {
     "outputs_hidden": false
    }
   },
   "source": [
    "Notice that this code produces an error. Since `tuple`s are immutable, we're not able to reassign the value of `student[1]` \n",
    "\n",
    "\n",
    "If we wanted to provide our fellow programmers flexibility, we can utilize a `list` as follow:"
   ]
  },
  {
   "cell_type": "code",
   "execution_count": 52,
   "id": "5ad999e874f67e5c",
   "metadata": {
    "ExecuteTime": {
     "end_time": "2024-04-18T10:45:21.678954Z",
     "start_time": "2024-04-18T10:45:21.118295Z"
    },
    "collapsed": false,
    "jupyter": {
     "outputs_hidden": false
    }
   },
   "outputs": [
    {
     "name": "stdout",
     "output_type": "stream",
     "text": [
      " from \n"
     ]
    }
   ],
   "source": [
    "def main():\n",
    "    student = get_student()\n",
    "    if student[0] == \"Padma\":\n",
    "        student[1] = \"Ravenclaw\"\n",
    "    print(f\"{student[0]} from {student[1]}\")\n",
    "\n",
    "\n",
    "def get_student():\n",
    "    name = input(\"Name: \")\n",
    "    house = input(\"House:\")\n",
    "    return [name, house]\n",
    "\n",
    "\n",
    "if __name__ == '__main__':\n",
    "    main()"
   ]
  },
  {
   "cell_type": "markdown",
   "id": "c1ac91f8602ad3ba",
   "metadata": {
    "collapsed": false,
    "jupyter": {
     "outputs_hidden": false
    }
   },
   "source": [
    "Note the lists are mutable. That is, the order of `house` and `name` can be switched by a programmer. You might decide to utilize this in some cases where you want to provide more flexibility at the cost of the security of your code. After all, if the order of those values is changeable, programmers that work with you could make mistakes. down the road.\n",
    "\n",
    "A dictionary could also be utilized in this implementation. Recall that dictionaries provide a key-value pair."
   ]
  },
  {
   "cell_type": "code",
   "execution_count": 53,
   "id": "f28817de5a5b5bef",
   "metadata": {
    "ExecuteTime": {
     "end_time": "2024-04-18T10:45:22.223637Z",
     "start_time": "2024-04-18T10:45:21.679963Z"
    },
    "collapsed": false,
    "jupyter": {
     "outputs_hidden": false
    }
   },
   "outputs": [
    {
     "name": "stdout",
     "output_type": "stream",
     "text": [
      " from \n"
     ]
    }
   ],
   "source": [
    "def main():\n",
    "    student = get_student()\n",
    "    # if student[0] == \"Padma\":\n",
    "    #     student[1] = \"Ravenclaw\"\n",
    "    print(f\"{student['name']} from {student['house']}\")\n",
    "\n",
    "\n",
    "def get_student():\n",
    "    student = {}\n",
    "    student[\"name\"] = input(\"Name: \")\n",
    "    student[\"house\"] = input(\"House:\")\n",
    "    return student\n",
    "\n",
    "\n",
    "if __name__ == '__main__':\n",
    "    main()"
   ]
  },
  {
   "cell_type": "markdown",
   "id": "634bf32ee9eab781",
   "metadata": {
    "collapsed": false,
    "jupyter": {
     "outputs_hidden": false
    }
   },
   "source": [
    "An advantage of this approach is that we can index into this dictionary using the keys.\n",
    "\n",
    "Still, our code can be further improved. Notice that there is an unneeded variable. We can remove `student={}` because we don't need to create an empty dictionary."
   ]
  },
  {
   "cell_type": "code",
   "execution_count": 54,
   "id": "938961fb5dad63e9",
   "metadata": {
    "ExecuteTime": {
     "end_time": "2024-04-18T10:45:22.708883Z",
     "start_time": "2024-04-18T10:45:22.224812Z"
    },
    "collapsed": false,
    "jupyter": {
     "outputs_hidden": false
    }
   },
   "outputs": [
    {
     "name": "stdout",
     "output_type": "stream",
     "text": [
      " from \n"
     ]
    }
   ],
   "source": [
    "def main():\n",
    "    student = get_student()\n",
    "    print(f\"{student['name']} from {student['house']}\")\n",
    "\n",
    "\n",
    "def get_student():\n",
    "    name = input(\"Name: \")\n",
    "    house = input(\"House: \")\n",
    "    return {\"name\": name, \"house\": house}\n",
    "\n",
    "\n",
    "if __name__ == \"__main__\":\n",
    "    main()"
   ]
  },
  {
   "cell_type": "markdown",
   "id": "ee2db6515816a9a4",
   "metadata": {
    "collapsed": false,
    "jupyter": {
     "outputs_hidden": false
    }
   },
   "source": [
    "Notice we can utilize `{}` braces in the `return` statement to creat the dictionary and return it all in the same line.\n",
    "\n",
    "We can provide our special case with Padma in a dictionary version of our code."
   ]
  },
  {
   "cell_type": "code",
   "execution_count": 55,
   "id": "57734230110b109f",
   "metadata": {
    "ExecuteTime": {
     "end_time": "2024-04-18T10:45:23.202229Z",
     "start_time": "2024-04-18T10:45:22.709890Z"
    },
    "collapsed": false,
    "jupyter": {
     "outputs_hidden": false
    }
   },
   "outputs": [
    {
     "name": "stdout",
     "output_type": "stream",
     "text": [
      " from \n"
     ]
    }
   ],
   "source": [
    "def main():\n",
    "    student = get_student()\n",
    "    if student[\"name\"] == \"Padma\":\n",
    "        student[\"house\"] = \"Ravenclwa\"\n",
    "    print(f\"{student['name']} from {student['house']}\")  # take care of the quote `\"``'`!!!!!!!!!\n",
    "\n",
    "\n",
    "def get_student():\n",
    "    name = input(\"Name:\")\n",
    "    house = input(\"House:\")\n",
    "    return {\"name\": name, \"house\": house}\n",
    "\n",
    "\n",
    "if __name__ == '__main__':\n",
    "    main()"
   ]
  },
  {
   "cell_type": "markdown",
   "id": "c25b7e8cf925fdb3",
   "metadata": {
    "collapsed": false,
    "jupyter": {
     "outputs_hidden": false
    }
   },
   "source": [
    "## Class\n",
    "\n",
    "Classes are a way by which, in object-oriented programming, we can create our own type of data and give them names.\n",
    "A class is like a mold for a type of data - where we can invent our own data type and give them a name.\n",
    "We can modify our code as follows to implement our own class `Student`:"
   ]
  },
  {
   "cell_type": "code",
   "execution_count": 56,
   "id": "3a0877d3340e3133",
   "metadata": {
    "ExecuteTime": {
     "end_time": "2024-04-18T10:45:23.893694Z",
     "start_time": "2024-04-18T10:45:23.204240Z"
    },
    "collapsed": false,
    "jupyter": {
     "outputs_hidden": false
    }
   },
   "outputs": [
    {
     "name": "stdout",
     "output_type": "stream",
     "text": [
      " from \n"
     ]
    }
   ],
   "source": [
    "class Student:\n",
    "    ...\n",
    "\n",
    "\n",
    "def main():\n",
    "    student = get_student()\n",
    "    print(f\"{student.name} from {student.house2}\")\n",
    "\n",
    "\n",
    "def get_student():\n",
    "    student = Student()\n",
    "    student.name = input(\"Name:\")\n",
    "    student.house2 = input(\"House\")\n",
    "    return student\n",
    "\n",
    "\n",
    "if __name__ == '__main__':\n",
    "    main()"
   ]
  },
  {
   "cell_type": "markdown",
   "id": "940fd45cdbffd4e2",
   "metadata": {
    "collapsed": false,
    "jupyter": {
     "outputs_hidden": false
    }
   },
   "source": [
    "Notice by convention that `Student` is capitalized. Further, notice the `...` simply means that we will later return to finish that portion of our code. Further, notice that in `grt_student`, we can create a `student` of class `Student` using the syntax `student = Student()`. Further, notice that we utilize \"dot notation\" to access attributes of this variable `student` of class `Student`."
   ]
  },
  {
   "cell_type": "markdown",
   "id": "80dbd22a5dff6d3d",
   "metadata": {
    "collapsed": false,
    "jupyter": {
     "outputs_hidden": false
    }
   },
   "source": [
    " Any time you create a class and you utilize that blueprint to create something, you create what is called an \"object\" or an \"instance\". In the case of our code, `student` is an object."
   ]
  },
  {
   "cell_type": "markdown",
   "id": "1866a0007a1e4a97",
   "metadata": {
    "collapsed": false,
    "jupyter": {
     "outputs_hidden": false
    }
   },
   "source": [
    "Further, we can lay some groundwork for the attributes that are expected inside an objext whose class is `Student`. We can modify our code as follows:"
   ]
  },
  {
   "cell_type": "code",
   "execution_count": 57,
   "id": "82e9550ea16d200b",
   "metadata": {
    "ExecuteTime": {
     "end_time": "2024-04-18T10:45:24.468202Z",
     "start_time": "2024-04-18T10:45:23.894701Z"
    },
    "collapsed": false,
    "jupyter": {
     "outputs_hidden": false
    }
   },
   "outputs": [
    {
     "ename": "AttributeError",
     "evalue": "'Student' object has no attribute 'house2'",
     "output_type": "error",
     "traceback": [
      "\u001b[1;31m---------------------------------------------------------------------------\u001b[0m",
      "\u001b[1;31mAttributeError\u001b[0m                            Traceback (most recent call last)",
      "Cell \u001b[1;32mIn[57], line 20\u001b[0m\n\u001b[0;32m     16\u001b[0m     \u001b[38;5;28;01mreturn\u001b[39;00m student\n\u001b[0;32m     19\u001b[0m \u001b[38;5;28;01mif\u001b[39;00m \u001b[38;5;18m__name__\u001b[39m \u001b[38;5;241m==\u001b[39m \u001b[38;5;124m'\u001b[39m\u001b[38;5;124m__main__\u001b[39m\u001b[38;5;124m'\u001b[39m:\n\u001b[1;32m---> 20\u001b[0m     \u001b[43mmain\u001b[49m\u001b[43m(\u001b[49m\u001b[43m)\u001b[49m\n",
      "Cell \u001b[1;32mIn[57], line 9\u001b[0m, in \u001b[0;36mmain\u001b[1;34m()\u001b[0m\n\u001b[0;32m      7\u001b[0m \u001b[38;5;28;01mdef\u001b[39;00m \u001b[38;5;21mmain\u001b[39m():\n\u001b[0;32m      8\u001b[0m     student \u001b[38;5;241m=\u001b[39m get_student()\n\u001b[1;32m----> 9\u001b[0m     \u001b[38;5;28mprint\u001b[39m(\u001b[38;5;124mf\u001b[39m\u001b[38;5;124m\"\u001b[39m\u001b[38;5;132;01m{\u001b[39;00mstudent\u001b[38;5;241m.\u001b[39mname\u001b[38;5;132;01m}\u001b[39;00m\u001b[38;5;124m from \u001b[39m\u001b[38;5;132;01m{\u001b[39;00m\u001b[43mstudent\u001b[49m\u001b[38;5;241;43m.\u001b[39;49m\u001b[43mhouse2\u001b[49m\u001b[38;5;132;01m}\u001b[39;00m\u001b[38;5;124m\"\u001b[39m)\n",
      "\u001b[1;31mAttributeError\u001b[0m: 'Student' object has no attribute 'house2'"
     ]
    }
   ],
   "source": [
    "class Student:\n",
    "    def __init__(self, name, house):\n",
    "        self.name = name\n",
    "        self.house = house\n",
    "\n",
    "\n",
    "def main():\n",
    "    student = get_student()\n",
    "    print(f\"{student.name} from {student.house2}\")\n",
    "\n",
    "\n",
    "def get_student():\n",
    "    _name = input(\"Name:\")\n",
    "    _house = input(\"House\")\n",
    "    student = Student(_name, _house)\n",
    "    return student\n",
    "\n",
    "\n",
    "if __name__ == '__main__':\n",
    "    main()"
   ]
  },
  {
   "cell_type": "markdown",
   "id": "e88acdb57f8982f",
   "metadata": {
    "collapsed": false,
    "jupyter": {
     "outputs_hidden": false
    }
   },
   "source": [
    "Notice that within `Student`, we standardize the attributions of this class. We can create a function within `class Student`, called a \"method\", that determines the vehavior of an object of class `Student`. Within this function, it takes the `name` and `house` passed to it and assigns these variables to this object. Further, notice how the constructor `student = Student(name, house)` calls this function within the `Student` class and creates a `student`. `self` refers to the current object that was just created."
   ]
  },
  {
   "cell_type": "code",
   "execution_count": null,
   "id": "58e180fefd703e10",
   "metadata": {
    "ExecuteTime": {
     "end_time": "2024-04-18T10:45:24.471216Z",
     "start_time": "2024-04-18T10:45:24.470217Z"
    },
    "collapsed": false,
    "jupyter": {
     "outputs_hidden": false
    }
   },
   "outputs": [],
   "source": [
    "# Simplify our code as follows:\n",
    "\n",
    "class Student:\n",
    "    def __init__(self, name, house):\n",
    "        self.name = name\n",
    "        self.house = house\n",
    "\n",
    "\n",
    "def main():\n",
    "    student = get_student()\n",
    "    print(f\"{student.name} from {student.house2}\")\n",
    "\n",
    "\n",
    "def get_student():\n",
    "    name = input(\"Name:\")\n",
    "    house = input(\"House:\")\n",
    "    return Student(name, house)\n",
    "\n",
    "\n",
    "if __name__ == '__main__':\n",
    "    main()"
   ]
  },
  {
   "cell_type": "markdown",
   "id": "a212a44ae9446584",
   "metadata": {
    "collapsed": false,
    "jupyter": {
     "outputs_hidden": false
    }
   },
   "source": [
    "## raise\n",
    "\n",
    "Object-oriented program encourages you to encapusulate all the functionality of a class within the class definition. What if something goes wrong?\n",
    "What if someone tries to type in something random? What if someone tries to create a student without a name? Modify you code as follows:\n"
   ]
  },
  {
   "cell_type": "code",
   "execution_count": null,
   "id": "9a9bf97c23461b77",
   "metadata": {
    "ExecuteTime": {
     "end_time": "2024-04-18T10:45:24.472212Z",
     "start_time": "2024-04-18T10:45:24.472212Z"
    },
    "collapsed": false,
    "jupyter": {
     "outputs_hidden": false
    }
   },
   "outputs": [],
   "source": [
    "class Student:\n",
    "    def __init__(self, name, house):\n",
    "        if not name:\n",
    "            raise ValueError(\"Missing name\")\n",
    "        if house not in [\"gryffindor\", \"Hufflepuff\", \"Ravenclaw\", \"Slytherin\"]:\n",
    "            raise ValueError(\"Invalid house\")\n",
    "        self.name = name\n",
    "        self.house = house\n",
    "\n",
    "\n",
    "def mian():\n",
    "    student = get_student()\n",
    "    print(f\"{student.name}, from {student.house2}\")\n",
    "\n",
    "\n",
    "def get_student():\n",
    "    name = input(\"Name:\")\n",
    "    house = input(\"House;\")\n",
    "    return Student(name, house)\n",
    "\n",
    "\n",
    "if __name__ == '__main__':\n",
    "    main()"
   ]
  },
  {
   "cell_type": "markdown",
   "id": "9a1be1ae70a89767",
   "metadata": {
    "collapsed": false,
    "jupyter": {
     "outputs_hidden": false
    }
   },
   "source": [
    "Notice how we check now that a name is provided and a proper house is designated. It turns out we can create our own exceptions that alert the programmer to a potential error created by the user called `raise`. In the case above, we raise `Valueerror` with a specific error message.\n",
    "\n",
    "It just so happens that Python allows you to create a specific function by which  you can print the attributes of an object. Modify your code as follows:"
   ]
  },
  {
   "cell_type": "code",
   "execution_count": null,
   "id": "997eec98a3cabdf",
   "metadata": {
    "ExecuteTime": {
     "end_time": "2024-04-18T10:45:24.474481Z",
     "start_time": "2024-04-18T10:45:24.473214Z"
    },
    "collapsed": false,
    "jupyter": {
     "outputs_hidden": false
    }
   },
   "outputs": [],
   "source": [
    "class Student:\n",
    "    def __init__(self, name, house, patronus):\n",
    "        if not name:\n",
    "            raise ValueError(\"Missing name\")\n",
    "        if house not in [\"gryffindor\", \"Hufflepuff\", \"Ravenclaw\", \"Slytherin\"]:\n",
    "            raise ValueError(\"Invalid house\")\n",
    "        self.name = name\n",
    "        self.house = house\n",
    "        self.patronus = patronus\n",
    "        \n",
    "    def __str__(self):\n",
    "        return f\"{self.name} from {self.house}\"\n",
    "\n",
    "\n",
    "def mian():\n",
    "    student = get_student()\n",
    "    # print(f\"{student.name}, from {student.house}\")\n",
    "    print(student)\n",
    "\n",
    "def get_student():\n",
    "    name = input(\"Name:\")\n",
    "    house = input(\"House;\")\n",
    "    patronus = input(\"Patronus\")\n",
    "    return Student(name, house, patronus)\n",
    "\n",
    "\n",
    "if __name__ == '__main__':\n",
    "    main()"
   ]
  },
  {
   "cell_type": "markdown",
   "id": "84fe0b8d82f15fd3",
   "metadata": {
    "collapsed": false,
    "jupyter": {
     "outputs_hidden": false
    }
   },
   "source": [
    "Notice how `def __str__(slef)` provides a means by which a student is returned when called. Therefore, you can now, as a programmer, print an object, its attributes, or almost anything you desire related to that object."
   ]
  },
  {
   "cell_type": "markdown",
   "id": "434c4db57a254ed9",
   "metadata": {
    "collapsed": false,
    "jupyter": {
     "outputs_hidden": false
    }
   },
   "source": [
    "`__str__` is a bulit-in method that comes with Python classes. It just so happens that we can create our own methods for a class as well? Modify your clde as follows:"
   ]
  },
  {
   "cell_type": "code",
   "execution_count": null,
   "id": "f43ce06e0b7d327e",
   "metadata": {
    "ExecuteTime": {
     "start_time": "2024-04-18T10:45:24.476296Z"
    },
    "collapsed": false,
    "jupyter": {
     "outputs_hidden": false
    }
   },
   "outputs": [],
   "source": [
    "class Student:\n",
    "    def __init__(self, name, house, patronus):\n",
    "        if not name:\n",
    "            raise ValueError(\"Missing name\")\n",
    "        if house not in [\"Gryffindor\", \"Hufflepuff\", \"Ravenclaw\", \"Slytherin\"]:\n",
    "            raise ValueError(\"Invalid house\")\n",
    "        self.name = name\n",
    "        self.house = house\n",
    "        self.patronus = patronus\n",
    "        \n",
    "    def __str__(self):\n",
    "        return f\"{self.name} from {self.house}\"\n",
    "    \n",
    "    \n",
    "    def charm(self):\n",
    "        match self.patronus:\n",
    "            case \"Stag\":\n",
    "                return \"🐴\"\n",
    "            case \"Otter\":\n",
    "                return \"🦦\"\n",
    "            case \"Jack Russell terrier\":\n",
    "                return \"🐶\"\n",
    "            case _:\n",
    "                return \"🪄\"\n",
    "\n",
    "\n",
    "def main():\n",
    "    student = get_student()\n",
    "    # print(f\"{student.name}, from {student.house}\")\n",
    "    print(student)\n",
    "    print(\"Expecto Patronum?\")\n",
    "    print(student.charm())\n",
    "\n",
    "def get_student():\n",
    "    name = input(\"Name:\")\n",
    "    house = input(\"House;\")\n",
    "    patronus = input(\"Patronus\") or None\n",
    "    return Student(name, house, patronus)\n",
    "\n",
    "\n",
    "if __name__ == '__main__':\n",
    "    main()"
   ]
  },
  {
   "cell_type": "markdown",
   "id": "285ba05890969b47",
   "metadata": {
    "collapsed": false,
    "jupyter": {
     "outputs_hidden": false
    }
   },
   "source": [
    "Notice how we difine our own function `charm`. Unlike dictionaries, classes can have built-in functions called methods. In this case, we define our `charm` method where specific cases hace specific results. Further, notice that Python has the ability to utilize emojis directly in our code.\n",
    "\n",
    "Before moving forward, let us remove our patronus code. Modefy your code as follows:"
   ]
  },
  {
   "cell_type": "code",
   "execution_count": null,
   "id": "d2a3081f10b888f1",
   "metadata": {
    "ExecuteTime": {
     "start_time": "2024-04-18T10:45:24.478217Z"
    },
    "collapsed": false,
    "jupyter": {
     "outputs_hidden": false
    }
   },
   "outputs": [],
   "source": [
    "class Student:\n",
    "    def __init__(self, name, house):\n",
    "        if not name:\n",
    "            raise ValueError(\"Invalid name\")\n",
    "        if house not in [\"Gryffindor\", \"Hufflepuff\", \"Ravenclaw\", \"Slytherin\"]:\n",
    "            raise ValueError(\"Invalid house\")\n",
    "        self.name = name\n",
    "        self.house = house\n",
    "\n",
    "    def __str__(self):\n",
    "        return f\"{self.name} from {self.house}\"\n",
    "\n",
    "\n",
    "def main():\n",
    "    student = get_student()\n",
    "    student.house2 = \"Number Four, Privet Drive\"\n",
    "    print(student)\n",
    "\n",
    "\n",
    "def get_student():\n",
    "    name = input(\"Name: \")\n",
    "    house = input(\"House: \")\n",
    "    return Student(name, house)\n",
    "\n",
    "\n",
    "if __name__ == \"__main__\":\n",
    "    main()"
   ]
  },
  {
   "cell_type": "markdown",
   "id": "e195faa8947ea21e",
   "metadata": {
    "collapsed": false,
    "jupyter": {
     "outputs_hidden": false
    }
   },
   "source": [
    "Notice how we have only two methods: `__init__` and `__str__`."
   ]
  },
  {
   "cell_type": "markdown",
   "id": "5b6e0b0a723ac39b",
   "metadata": {
    "collapsed": false,
    "jupyter": {
     "outputs_hidden": false
    }
   },
   "source": [
    "## Decorators\n",
    "\n",
    "Properties can be utilized to harden our code. In python, we define properties function \"decorators\", which begin with `@`. Modify code:"
   ]
  },
  {
   "cell_type": "code",
   "execution_count": null,
   "id": "9f387e5037ac3fb",
   "metadata": {
    "ExecuteTime": {
     "start_time": "2024-04-18T10:45:24.480212Z"
    },
    "collapsed": false,
    "jupyter": {
     "outputs_hidden": false
    }
   },
   "outputs": [],
   "source": [
    "class Student:\n",
    "    def __init__(self, name1, house1):\n",
    "        if not name1:\n",
    "            raise ValueError(\"Invalid name\")\n",
    "        self.name = name1\n",
    "        self.house2 = house1\n",
    "\n",
    "    def __str__(self):\n",
    "        return f\"{self.name} from {self.house2}\"\n",
    "    \n",
    "    # Getter for house\n",
    "    @property\n",
    "    def house2(self):\n",
    "        return self._house4\n",
    "    \n",
    "    # Setter for house\n",
    "    @house2.setter\n",
    "    def house2(self, house3):\n",
    "        if house3 not in [\"Gryffindor\", \"Hufflepuff\", \"Ravenclaw\", \"Slytherin\"]:\n",
    "            raise ValueError(\"Invalid house\")\n",
    "        self._house4 = house3\n",
    "\n",
    "\n",
    "def main():\n",
    "    student = get_student()\n",
    "    student.house2 = \"Number Four, Privet Drive\"\n",
    "    print(student)\n",
    "\n",
    "\n",
    "def get_student():\n",
    "    name = input(\"Name: \")\n",
    "    house = input(\"House: \")\n",
    "    return Student(name, house)\n",
    "\n",
    "\n",
    "if __name__ == \"__main__\":\n",
    "    main()"
   ]
  },
  {
   "cell_type": "markdown",
   "id": "767f7909fa740474",
   "metadata": {
    "collapsed": false,
    "jupyter": {
     "outputs_hidden": false
    }
   },
   "source": [
    "Notice how we've written `@property` above a function called `house`. Doing so defines `house` as a property of our class. With `house` as a property, we gain the ability to define how some attribute of our class, `_house`, should be set and retried. Indeed, we can now define a function called a \"setter\", via `@house.setter`, which will be called whenever the house property is set--for example, with `student.house = \"Gryffindor\"`. Here, we've made our setter validate values of `house` for us. Notice how we raise a `ValueError` if the value of `house` is not any of the Harry Potter houses, otherwise, we'll use `house` to update the value of `_house`. Why `_house` and not `house`? `house` is a property of our class, with functions via which a user attempts to set our class attribute. `_house` is that class attribute itself. The leading underscore `_`, indicates to users they need not(and indeed, shouldn't) modify this value directly. `_house` should *only* be set through the `house` setter. Notice how the `house` property simply returns that value of `_house`, our class attribute taht has presumably benn validated using our `house` setter. When a user calls `student.house`, they are getting the value of `_house` through out `house` getter."
   ]
  },
  {
   "cell_type": "markdown",
   "id": "645023be9c958c3",
   "metadata": {
    "collapsed": false,
    "jupyter": {
     "outputs_hidden": false
    }
   },
   "source": [
    " In addition to the name of the house, we can protect the name of our student as well. Modify code:"
   ]
  },
  {
   "cell_type": "code",
   "execution_count": null,
   "id": "afd2f81001a03c53",
   "metadata": {
    "ExecuteTime": {
     "start_time": "2024-04-18T10:45:24.481210Z"
    },
    "collapsed": false,
    "jupyter": {
     "outputs_hidden": false
    }
   },
   "outputs": [],
   "source": [
    "class Student:\n",
    "    def __init__(self, name1, house1):\n",
    "        \n",
    "        self.name = name1\n",
    "        self.house2 = house1\n",
    "\n",
    "    def __str__(self):\n",
    "        return f\"{self.name} from {self.house2}\"\n",
    "    \n",
    "    # Getter for name\n",
    "    @property\n",
    "    def name(self):\n",
    "        return self._name\n",
    "    \n",
    "    # Setter for name\n",
    "    @name.setter\n",
    "    def name(self, name):\n",
    "        if not name:\n",
    "            raise ValueError(\"Invalid name\")\n",
    "        self._name = name\n",
    "    \n",
    "    # Getter for house\n",
    "    @property\n",
    "    def house2(self):\n",
    "        return self._house4\n",
    "    \n",
    "    # Setter for house\n",
    "    @house2.setter\n",
    "    def house2(self, house3):\n",
    "        if house3 not in [\"Gryffindor\", \"Hufflepuff\", \"Ravenclaw\", \"Slytherin\"]:\n",
    "            raise ValueError(\"Invalid house\")\n",
    "        self._house4 = house3\n",
    "\n",
    "\n",
    "def main():\n",
    "    student = get_student()\n",
    "    # student.house2 = \"Number Four, Privet Drive\"\n",
    "    print(student)\n",
    "\n",
    "\n",
    "def get_student():\n",
    "    name = input(\"Name: \")\n",
    "    house = input(\"House: \")\n",
    "    return Student(name, house)\n",
    "\n",
    "\n",
    "if __name__ == \"__main__\":\n",
    "    main()"
   ]
  },
  {
   "cell_type": "markdown",
   "id": "7e53b4628a527c8c",
   "metadata": {
    "collapsed": false,
    "jupyter": {
     "outputs_hidden": false
    }
   },
   "source": [
    "Notice how, much like the previous code, we provide a getter and setter for the name.\n",
    "\n",
    "You can learn more in Python’s documentation of methods."
   ]
  },
  {
   "cell_type": "markdown",
   "id": "4a6320fbdf545396",
   "metadata": {
    "collapsed": false,
    "jupyter": {
     "outputs_hidden": false
    }
   },
   "source": [
    "## Connecting to Previous Work in this Course\n",
    "\n",
    "While not explictly stated in past poritions of this course, you have been using classes and objects the whole way through.\n",
    "\n",
    "If you dig into the documentation of `int`, you'll see that it is a class with a constructor. It's buleprint for creating objects of type `int`. YOu can learn more in Python's docrmentation of `int`.\n",
    "\n",
    "Strings too are also a clsaa. If you have used `str.lower()`, you were using a method that came within the `str` class. You can learn more in Python's documentation of [str](https://docs.python.org/3/library/stdtypes.html#str)\n",
    "\n",
    "`list` is also a class within Python. You can learn more in Python's documentation of [dict](https://docs.python.org/3/library/stdtypes.html#dict)\n",
    "\n",
    "Also [dict](https://docs.python.org/3/library/stdtypes.html#dict)"
   ]
  },
  {
   "cell_type": "code",
   "execution_count": null,
   "id": "b35e4fbacd8a2f14",
   "metadata": {
    "collapsed": false,
    "jupyter": {
     "outputs_hidden": false
    }
   },
   "outputs": [],
   "source": [
    "# to see how you have been using classes all along:\n",
    "\n",
    "print(type(50))\n",
    "\n",
    "print(type(\"hello, world\"))\n",
    "\n",
    "print(type([]))\n",
    "\n",
    "print(type(list()))\n",
    "\n",
    "print(type({}))\n",
    "\n",
    "print(type(dict()))"
   ]
  },
  {
   "cell_type": "markdown",
   "id": "57be9f5898cfe672",
   "metadata": {
    "collapsed": false,
    "jupyter": {
     "outputs_hidden": false
    }
   },
   "source": [
    "## Class Methods\n",
    "\n",
    "sometimes, we want to add functionality to a class itself, not to instances of that class.\n",
    "\n",
    "`@classmethod` is a function that we can use to add functionality to a class as a whole.\n",
    "\n",
    "Here's an example of *not* using a class method."
   ]
  },
  {
   "cell_type": "code",
   "execution_count": null,
   "id": "755d9559a8ebaf93",
   "metadata": {
    "ExecuteTime": {
     "start_time": "2024-04-18T10:45:24.483213Z"
    },
    "collapsed": false,
    "jupyter": {
     "outputs_hidden": false
    }
   },
   "outputs": [],
   "source": [
    "import random\n",
    "\n",
    "class Hat:\n",
    "    def __init__(self):\n",
    "        self.houses = [\"Gryffindor\", \"Hufflepuff\", \"Ravenclaw\", \"Slytherin\"]\n",
    "    \n",
    "    \n",
    "    def sort(self, name):\n",
    "        print(name, \"is in\", random.choice(self.houses))\n",
    "        \n",
    "\n",
    "hat = Hat()\n",
    "hat.sort(\"Harry\")"
   ]
  },
  {
   "cell_type": "markdown",
   "id": "e7b265dbb4d789d6",
   "metadata": {
    "collapsed": false,
    "jupyter": {
     "outputs_hidden": false
    }
   },
   "source": [
    "Notice how when we pass the name of the student to the sorting hat, it will tell us what house is assigned to the student. Notice that `hat = Hat()` instantiates a `hat`. The `sort` functionality is always handles by the *instance* of the class `Hat`. By executing `hat.sort(\"Harry\")`, we pass the name of the student to the `sort` method of the particular instance of `Hat`, which we have called `hat`.\n",
    "\n",
    "We may want, though, to run the `sort` function without creating a particular instance of the sorting hat(ther's only one, after all). We can modify our code:"
   ]
  },
  {
   "cell_type": "code",
   "execution_count": null,
   "id": "74346622ee76580b",
   "metadata": {
    "collapsed": false,
    "jupyter": {
     "outputs_hidden": false
    }
   },
   "outputs": [],
   "source": [
    "import random\n",
    "\n",
    "class Hat:\n",
    "    houses = [\"Gryffindor\", \"Hufflepuff\", \"Ravenclaw\", \"Slytherin\"]\n",
    "    \n",
    "    @classmethod\n",
    "    def sort(cls, name):\n",
    "        print(name, \"is in\", random.choice(cls.houses))\n",
    "\n",
    "Hat.sort(\"Harry\")"
   ]
  },
  {
   "cell_type": "markdown",
   "id": "f14d16bb30b34dd2",
   "metadata": {
    "collapsed": false,
    "jupyter": {
     "outputs_hidden": false
    }
   },
   "source": [
    "Notice how the `__init__` method is removed because we don't need to instantiate a hat anywhere in our code. `self`, therefore, is no longer relevant and is removed. We specify this `sort` as a `@classmethod`, replacing `self` with `cls`. Finally, notice how `Hat` is capitalized by convention near the end of this code, because this is the name of our class.\n",
    "\n",
    "Returning back to `students.py` we can modify our code as follows, adressing some missed opportunities related to `@classmethod`s:"
   ]
  },
  {
   "cell_type": "code",
   "execution_count": null,
   "id": "5e5d00a765573631",
   "metadata": {
    "ExecuteTime": {
     "start_time": "2024-04-18T10:45:24.486741Z"
    },
    "collapsed": false,
    "jupyter": {
     "outputs_hidden": false
    }
   },
   "outputs": [],
   "source": [
    "class Student:\n",
    "    def __init__(self, name, house):\n",
    "        self.name = name\n",
    "        self.house = house\n",
    "        \n",
    "    def __str__(self):\n",
    "        return f\"{self.name} from {self.house}\"\n",
    "    \n",
    "    \n",
    "    @classmethod\n",
    "    def get(cls):\n",
    "        name = input(\"Name:\")\n",
    "        house = input(\"House:\")\n",
    "        return cls(name, house)\n",
    "\n",
    "def main():\n",
    "    student = Student.get()\n",
    "    print(student)\n",
    "    \n",
    "    \n",
    "if __name__ == '__main__':\n",
    "    main()"
   ]
  },
  {
   "cell_type": "markdown",
   "id": "41e5fedef70d358c",
   "metadata": {
    "collapsed": false,
    "jupyter": {
     "outputs_hidden": false
    }
   },
   "source": [
    "Notice that `get_student` is removed and a `@classmethod` called `get` is created. This method can now be called withour having to create a student first."
   ]
  },
  {
   "cell_type": "markdown",
   "id": "1af207511913af38",
   "metadata": {
    "collapsed": false,
    "jupyter": {
     "outputs_hidden": false
    }
   },
   "source": [
    "## Static Methods\n",
    "\n",
    "It turns out that besides `@classmethod`s, which are distinct from instance methods, there are other types of methods as well.\n",
    "\n",
    "Using `@staticmethod` may be something you might wish to explore. While not covered explicitly in this course, you are welcome to go and learn more about statix merhods and their distinction from class methods."
   ]
  },
  {
   "cell_type": "markdown",
   "id": "cf86a274bf1b0a22",
   "metadata": {
    "collapsed": false,
    "jupyter": {
     "outputs_hidden": false
    }
   },
   "source": [
    "## Inheritance\n",
    "\n",
    "Inheritance is, perhaps, the most powerful feature of object-oriented programing.\n",
    "\n",
    "It just so happens that you can create a class that \"inherits\" methods, variables, and attributes from another classs.\n",
    "\n",
    "For example:"
   ]
  },
  {
   "cell_type": "code",
   "execution_count": 58,
   "id": "4964afa0791d37cd",
   "metadata": {
    "ExecuteTime": {
     "end_time": "2024-04-18T10:45:24.508031Z",
     "start_time": "2024-04-18T10:45:24.503258Z"
    },
    "collapsed": false,
    "jupyter": {
     "outputs_hidden": false
    }
   },
   "outputs": [],
   "source": [
    "class Wizard:\n",
    "    def __init__(self, name):\n",
    "        if not name:\n",
    "            raise ValueError(\"Missing name\")\n",
    "        self.name = name\n",
    "        \n",
    "    ...\n",
    "\n",
    "class Student(Wizard):\n",
    "    def __init__(self, name, house):\n",
    "        super().__init__(name)\n",
    "        self.house = house\n",
    "        \n",
    "    ...\n",
    "\n",
    "class Professor(Wizard):\n",
    "    def __init__(self, name, subject):\n",
    "        super().__init__(name)\n",
    "        self.subject = subject\n",
    "    \n",
    "    ...\n",
    "\n",
    "wizard = Wizard(\"Albus\")\n",
    "student = Student(\"Harry\", \"Gryffindor\")\n",
    "professor = Professor(\"Severus\", \"Defense Against the Dark Arts\")"
   ]
  },
  {
   "cell_type": "markdown",
   "id": "80e9b49b8023a9eb",
   "metadata": {
    "collapsed": false,
    "jupyter": {
     "outputs_hidden": false
    }
   },
   "source": [
    "## Inheritance and Exceptions\n",
    "\n",
    "While we have just introduced inheritance, we have been using this along with our use of exceptions.\n",
    "\n",
    "It juse so happens that exceptions come in a heritarchy, where there are chileren, parent, and grandparent classes. These are illustrated below:"
   ]
  },
  {
   "cell_type": "markdown",
   "id": "94828b5f41a9ae1",
   "metadata": {
    "collapsed": false,
    "jupyter": {
     "outputs_hidden": false
    }
   },
   "source": [
    "```\n",
    "BaseException\n",
    " +-- KeyboardInterrupt\n",
    " +-- Exception\n",
    "    +-- ArtithmeticError\n",
    "    |   +-- ZeroDivisionError\n",
    "    +-- AssertionError\n",
    "    +-- AttributeError\n",
    "    +-- EOFError\n",
    "    +-- ImportError\n",
    "    |   +-- ModuleNotFoundError\n",
    "    +-- LookupError\n",
    "    |   +-- KeyError\n",
    "    +-- NameError\n",
    "    +-- SyntaxError\n",
    "    |   +-- IndentationError\n",
    "    +-- ValueError\n",
    " ...\n",
    " You can learn more in Python's documentation of [exceptios](https://docs.python.org/3/library/exceptions.html)"
   ]
  },
  {
   "cell_type": "markdown",
   "id": "aff08d8277d6f329",
   "metadata": {
    "collapsed": false,
    "jupyter": {
     "outputs_hidden": false
    }
   },
   "source": [
    "## Operator Overloading\n",
    "\n",
    "Some operators such as `+` and `-` can be \"overloaded\" such that they can have more abilities beyond arithmetic."
   ]
  },
  {
   "cell_type": "code",
   "execution_count": 59,
   "id": "f12192e72bf14ad2",
   "metadata": {
    "ExecuteTime": {
     "end_time": "2024-04-18T10:45:24.529692Z",
     "start_time": "2024-04-18T10:45:24.524066Z"
    },
    "collapsed": false,
    "jupyter": {
     "outputs_hidden": false
    }
   },
   "outputs": [
    {
     "name": "stdout",
     "output_type": "stream",
     "text": [
      "100 Galleons, 50 Sickles, 25 Knuts\n",
      "25 Galleons, 50 Sickles, 100 Knuts\n",
      "125 Galleons, 100 Sickles, 125 Knuts\n"
     ]
    }
   ],
   "source": [
    "class Vault:\n",
    "    def __init__(self, galleons=0, sickles=0, knuts=0):\n",
    "        self.galleons = galleons\n",
    "        self.sickles = sickles\n",
    "        self.knuts = knuts\n",
    "    \n",
    "    def __str__(self):\n",
    "        return f\"{self.galleons} Galleons, {self.sickles} Sickles, {self.knuts} Knuts\"\n",
    "    \n",
    "    def __add__(self, other):\n",
    "        galleons = self.galleons + other.galleons\n",
    "        sickles = self.sickles + other.sickles\n",
    "        knuts = self.knuts + other.knuts\n",
    "        return Vault(galleons, sickles, knuts)\n",
    "    \n",
    "\n",
    "potter = Vault(100, 50, 25)\n",
    "print(potter)\n",
    "\n",
    "weasley = Vault(25, 50, 100)\n",
    "print(weasley)\n",
    "\n",
    "total = potter + weasley\n",
    "print(total)"
   ]
  },
  {
   "cell_type": "markdown",
   "id": "b25ebf879add9b77",
   "metadata": {
    "collapsed": false,
    "jupyter": {
     "outputs_hidden": false
    }
   },
   "source": [
    "Notice how the `__str__` method returns a formatted string. Further, notice how the `__add__` method allows for the addition of the values of two vaults. `self` is waht is on the left of `+` operand. `other` is what is right of the `+`.\n",
    "\n",
    "You can learn more in Python's documentation of [operator overloading](https://docs.python.org/3/reference/datamodel.html#special-method-names)"
   ]
  },
  {
   "cell_type": "markdown",
   "id": "6fcc0dbf61f2c9e2",
   "metadata": {
    "collapsed": false,
    "jupyter": {
     "outputs_hidden": false
    }
   },
   "source": [
    "## Summing UP\n",
    "\n",
    "Now, you've learned a whole ner level of capability through object-oriented programming.\n",
    "\n",
    "- Object-oriented programming\n",
    "- Class\n",
    "- `raise`\n",
    "- Class Methods\n",
    "- Static Methods\n",
    "- Inheritance\n",
    "- Operator Overloading"
   ]
  }
 ],
 "metadata": {
  "kernelspec": {
   "display_name": "Python 3 (ipykernel)",
   "language": "python",
   "name": "python3"
  },
  "language_info": {
   "codemirror_mode": {
    "name": "ipython",
    "version": 3
   },
   "file_extension": ".py",
   "mimetype": "text/x-python",
   "name": "python",
   "nbconvert_exporter": "python",
   "pygments_lexer": "ipython3",
   "version": "3.11.6"
  }
 },
 "nbformat": 4,
 "nbformat_minor": 5
}
