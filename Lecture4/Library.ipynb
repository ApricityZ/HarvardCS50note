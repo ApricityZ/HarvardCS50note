{
 "cells": [
  {
   "cell_type": "markdown",
   "source": [
    "Modules. `random`.`import`.`from`.`statistics`.Command-Line Arguments.`sys`.`sys.argv`.`IndexError`.`sys.exit`.Slice,Packages.PyPiI.`pip`,`cowsay`.APIs.`requrst`.JSON,`__name__`"
   ],
   "metadata": {
    "collapsed": false
   },
   "id": "75ab0adad9a863dc"
  },
  {
   "cell_type": "markdown",
   "source": [
    "# Libraries\n",
    "- code written by you or others you can use in your program\n",
    "- share functions or features with others a \"modules\"\n",
    "- If you copy and paste code from an old project, chances are you can creat such a module or library that you could bring into your new project."
   ],
   "metadata": {
    "collapsed": false
   },
   "id": "bb2562153256580c"
  },
  {
   "cell_type": "code",
   "outputs": [],
   "source": [
    "# Stand on the shoulders of prior coder!\n",
    "\n",
    "import random\n",
    "\n",
    "coin = random.choice([\"heads\", \"tails\"])\n",
    "print(coin)"
   ],
   "metadata": {
    "collapsed": false
   },
   "id": "d12f4e307a9247ba",
   "execution_count": null
  },
  {
   "cell_type": "code",
   "outputs": [],
   "source": [
    "from random import choice\n",
    "\n",
    "coin = choice([\"heads\", \"tails\"])\n",
    "print(coin)"
   ],
   "metadata": {
    "collapsed": false
   },
   "id": "bfacb9e999df2e82",
   "execution_count": null
  },
  {
   "cell_type": "code",
   "outputs": [],
   "source": [
    "import random\n",
    "\n",
    "number = random.randint(1, 10)\n",
    "print(number)"
   ],
   "metadata": {
    "collapsed": false
   },
   "id": "5c074f05b41b8301",
   "execution_count": null
  },
  {
   "cell_type": "code",
   "outputs": [],
   "source": [
    "import random\n",
    "\n",
    "cards = [\"jack\", \"queen\", \"king\"]\n",
    "random.shuffle(cards)\n",
    "for card in cards:\n",
    "    print(card)"
   ],
   "metadata": {
    "collapsed": false
   },
   "id": "1b5f28ff7ff14ae2",
   "execution_count": null
  },
  {
   "cell_type": "markdown",
   "source": [
    "# Statistics"
   ],
   "metadata": {
    "collapsed": false
   },
   "id": "650f52f31fb43deb"
  },
  {
   "cell_type": "code",
   "outputs": [],
   "source": [
    "import statistics\n",
    "\n",
    "print(statistics.mean([100,90]))"
   ],
   "metadata": {
    "collapsed": false
   },
   "id": "6f3be5efbfe50471",
   "execution_count": null
  },
  {
   "cell_type": "markdown",
   "source": [
    "# Command-Line Arguments\n",
    "`sys``sys.argv`"
   ],
   "metadata": {
    "collapsed": false
   },
   "id": "2507ac8cde084db2"
  },
  {
   "cell_type": "code",
   "outputs": [],
   "source": [
    "import sys\n",
    "\n",
    "print(\"hello, my name is\", sys.argv[1])"
   ],
   "metadata": {
    "collapsed": false
   },
   "id": "943cfc4cda8c97af",
   "execution_count": null
  },
  {
   "cell_type": "code",
   "outputs": [],
   "source": [
    "import sys\n",
    "\n",
    "try:\n",
    "    print(\"hello, my name is\", sys.argv[1])\n",
    "except IndexError:\n",
    "    print(\"Too few arguments\")"
   ],
   "metadata": {
    "collapsed": false
   },
   "id": "93a0bc43de6eea6b",
   "execution_count": null
  },
  {
   "cell_type": "code",
   "outputs": [],
   "source": [
    "# improving code:\n",
    "\n",
    "import sys\n",
    "\n",
    "if len(sys.argv) < 2:\n",
    "    print(\"Too few arguments\")\n",
    "elif len(sys.argv) > 2:\n",
    "    # print(\"Too many arguments\")\n",
    "    print(sys.argv)\n",
    "else:\n",
    "    print(\"hello, my name is \", sys.argv[1])"
   ],
   "metadata": {
    "collapsed": false
   },
   "id": "e44acd5d8b579844",
   "execution_count": null
  },
  {
   "cell_type": "code",
   "outputs": [],
   "source": [
    "# Separate out our error handling:\n",
    "\n",
    "import sys\n",
    "\n",
    "if len(sys.argv) < 2:\n",
    "    sys.exit(\"Too few arguments\")\n",
    "elif len(sys.argv) > 2:\n",
    "    sys.exit(\"Too many arguments\")\n",
    "\n",
    "print(\"hello, my name is\", sys.argv[1])"
   ],
   "metadata": {
    "collapsed": false
   },
   "id": "abf9d13a6badeb5b",
   "execution_count": null
  },
  {
   "cell_type": "markdown",
   "source": [
    "# slice"
   ],
   "metadata": {
    "collapsed": false
   },
   "id": "9fc4fb6e700573bc"
  },
  {
   "cell_type": "code",
   "outputs": [],
   "source": [
    "import sys\n",
    "\n",
    "if len(sys.argv) < 2:\n",
    "    sys.exit(\"Too few arguments\")\n",
    "\n",
    "for arg in sys.argv:\n",
    "    print(\"hello, my name is\", arg)"
   ],
   "metadata": {
    "collapsed": false
   },
   "id": "a134fea8b1f61d14",
   "execution_count": null
  },
  {
   "cell_type": "code",
   "outputs": [],
   "source": [
    "import sys\n",
    "\n",
    "if len(sys.argv) < 2:\n",
    "    sys.exit(\"Too few arguments\")\n",
    "\n",
    "for arg in sys.argv[1:]:\n",
    "    print(\"hello, my name is\", arg)\n"
   ],
   "metadata": {
    "collapsed": false
   },
   "id": "6f836356f2164f2e",
   "execution_count": null
  },
  {
   "cell_type": "markdown",
   "source": [
    "# Packages\n",
    "- We call these third-party libraries, implemented as a folder, “packages”.\n",
    "- PyPI\n",
    "- package manager `pip`\n",
    "- `pip install cowsay`"
   ],
   "metadata": {
    "collapsed": false
   },
   "id": "913dec59ed7cb136"
  },
  {
   "cell_type": "code",
   "outputs": [],
   "source": [
    "import cowsay\n",
    "import sys\n",
    "\n",
    "# if len(sys.argv) == 2:\n",
    "for arg in sys.argv:\n",
    "    cowsay.cow(\"hello, \" + sys.argv[1])"
   ],
   "metadata": {
    "collapsed": false
   },
   "id": "4ba272322ec32e3e",
   "execution_count": null
  },
  {
   "cell_type": "code",
   "outputs": [],
   "source": [
    "import cowsay\n",
    "\n",
    "import sys\n",
    "\n",
    "for arg in sys.argv:\n",
    "    cowsay.trex(\"hello,\"+arg)"
   ],
   "metadata": {
    "collapsed": false
   },
   "id": "6771f7d7c13227b4",
   "execution_count": null
  },
  {
   "cell_type": "markdown",
   "source": [
    "# APIs\n",
    "- api: application program interfaces\n",
    "- `request`"
   ],
   "metadata": {
    "collapsed": false
   },
   "id": "c7aabf00560225f9"
  },
  {
   "cell_type": "code",
   "outputs": [],
   "source": [
    "import requests\n",
    "import sys\n",
    "\n",
    "# if len(sys.argv) !=2:\n",
    "    # sys.exit()\n",
    "\n",
    "response = requests.get(\"https://itunes.apple.com/search?entity=song&limit=1&term=\" + \"weezer\")\n",
    "print(response.json())"
   ],
   "metadata": {
    "collapsed": false
   },
   "id": "df6330e34a798851",
   "execution_count": null
  },
  {
   "cell_type": "code",
   "outputs": [],
   "source": [
    "import json5\n",
    "import requests\n",
    "import sys\n",
    "\n",
    "response = requests.get(\"https://itunes.apple.com/search?entity=song&limit=1&term=\" + \"weezer\")\n",
    "print(json5.dumps(response.json(), indent=2))\n"
   ],
   "metadata": {
    "collapsed": false
   },
   "id": "26247c5c54679b99",
   "execution_count": null
  },
  {
   "cell_type": "code",
   "outputs": [],
   "source": [
    "import json5\n",
    "import requests\n",
    "import sys\n",
    "\n",
    "response = requests.get(\"https://itunes.apple.com/search?entity=song&limit=1&term=\" + \"weezer\")\n",
    "\n",
    "o = response.json()\n",
    "for resut in o[\"results\"]:\n",
    "    print(resut[\"trackName\"])"
   ],
   "metadata": {
    "collapsed": false
   },
   "id": "14769422e98bf1d",
   "execution_count": null
  },
  {
   "cell_type": "markdown",
   "source": [
    "# Making your own Libraries\n",
    "\n",
    "You have the ability as a Python programmer to creat your own libraries!"
   ],
   "metadata": {
    "collapsed": false
   },
   "id": "d220834117550c13"
  },
  {
   "cell_type": "markdown",
   "source": [
    "# Summing Up\n",
    "Libraries extend the abilities of Python. Some libraries are included by default with Python and simply need to be imported. Others are third-party packages that need to be installed using pip. You can make your own packages for use by yourself or others! In this lecture, you learned about…\n",
    "\n",
    "- Libraries\n",
    "- Random\n",
    "- Statistics\n",
    "- Command-Line Arguments\n",
    "- Slice\n",
    "- Packages\n",
    "- APIs\n",
    "- Making Your Own Libraries"
   ],
   "metadata": {
    "collapsed": false
   },
   "id": "d025c1ccce3963d"
  },
  {
   "cell_type": "code",
   "outputs": [],
   "source": [],
   "metadata": {
    "collapsed": false
   },
   "id": "6e09370190c2898"
  }
 ],
 "metadata": {
  "kernelspec": {
   "display_name": "Python 3",
   "language": "python",
   "name": "python3"
  },
  "language_info": {
   "codemirror_mode": {
    "name": "ipython",
    "version": 2
   },
   "file_extension": ".py",
   "mimetype": "text/x-python",
   "name": "python",
   "nbconvert_exporter": "python",
   "pygments_lexer": "ipython2",
   "version": "2.7.6"
  }
 },
 "nbformat": 4,
 "nbformat_minor": 5
}
