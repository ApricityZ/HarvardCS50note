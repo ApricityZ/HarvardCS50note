{
 "cells": [
  {
   "cell_type": "markdown",
   "source": [
    "# regular expression"
   ],
   "metadata": {
    "collapsed": false
   },
   "id": "e33e989f3da5743"
  },
  {
   "cell_type": "code",
   "execution_count": 1,
   "outputs": [
    {
     "name": "stdout",
     "output_type": "stream",
     "text": [
      "Valid\n"
     ]
    }
   ],
   "source": [
    "# validata.py\n",
    "\n",
    "email = input(\"What's your email? \").strip()\n",
    "\n",
    "if \"@\" in email:\n",
    "    print(\"Valid\")\n",
    "else:\n",
    "    print(\"Invalid\")"
   ],
   "metadata": {
    "collapsed": false,
    "ExecuteTime": {
     "end_time": "2023-12-02T03:47:01.501171Z",
     "start_time": "2023-12-02T03:46:43.409835500Z"
    }
   },
   "id": "fc7ab7a63c4b6548"
  },
  {
   "cell_type": "code",
   "execution_count": 2,
   "outputs": [
    {
     "name": "stdout",
     "output_type": "stream",
     "text": [
      "Vaild\n"
     ]
    }
   ],
   "source": [
    "# more pricise\n",
    "\n",
    "email = input(\"What's your email?\").strip()\n",
    "\n",
    "if \"@\" in email and \".\" in email:\n",
    "    print(\"Vaild\")\n",
    "else:\n",
    "    print(\"Invalid\")"
   ],
   "metadata": {
    "collapsed": false,
    "ExecuteTime": {
     "end_time": "2023-12-02T03:48:35.665819200Z",
     "start_time": "2023-12-02T03:48:33.130979500Z"
    }
   },
   "id": "31d1aef366f22bc2"
  },
  {
   "cell_type": "code",
   "execution_count": 3,
   "outputs": [
    {
     "name": "stdout",
     "output_type": "stream",
     "text": [
      "Valid\n"
     ]
    }
   ],
   "source": [
    "email = input(\"What's your email?\").strip()\n",
    "\n",
    "username, domain = email.split(\"@\")\n",
    "\n",
    "if username and \".\" in domain:\n",
    "    print(\"Valid\")\n",
    "else:\n",
    "    print(\"Invalid\")"
   ],
   "metadata": {
    "collapsed": false,
    "ExecuteTime": {
     "end_time": "2023-12-02T03:51:43.191809Z",
     "start_time": "2023-12-02T03:51:39.670879300Z"
    }
   },
   "id": "dc1444d06279383"
  },
  {
   "cell_type": "code",
   "execution_count": 4,
   "outputs": [
    {
     "name": "stdout",
     "output_type": "stream",
     "text": [
      "Valid\n"
     ]
    }
   ],
   "source": [
    "email = input(\"What's your email?\").strip()\n",
    "\n",
    "username, domain = email.split(\"@\")\n",
    "\n",
    "if username and domain.endswith(\".edu\"):\n",
    "    print(\"Valid\")\n",
    "else:\n",
    "    print(\"Invalid\")\n"
   ],
   "metadata": {
    "collapsed": false,
    "ExecuteTime": {
     "end_time": "2023-12-02T03:53:16.617940Z",
     "start_time": "2023-12-02T03:53:11.765100600Z"
    }
   },
   "id": "5dfb922c39a0ce6"
  },
  {
   "cell_type": "markdown",
   "source": [
    "### Library: **RE**"
   ],
   "metadata": {
    "collapsed": false
   },
   "id": "c32845629f4b68bf"
  },
  {
   "cell_type": "code",
   "execution_count": 8,
   "outputs": [
    {
     "name": "stdout",
     "output_type": "stream",
     "text": [
      "Invalid\n"
     ]
    }
   ],
   "source": [
    "import re\n",
    "\n",
    "email = input(\"What's your name?\").strip()\n",
    "\n",
    "if re.search(r\".+@.+\\.edu\", email):   # re.search has many param, use \\. to denote the dot\n",
    "    print(\"Valid\")\n",
    "else:\n",
    "    print(\"Invalid\")"
   ],
   "metadata": {
    "collapsed": false,
    "ExecuteTime": {
     "end_time": "2023-12-02T07:39:20.160746Z",
     "start_time": "2023-12-02T07:39:02.840793400Z"
    }
   },
   "id": "bbd2797e85e5d8aa"
  },
  {
   "cell_type": "markdown",
   "source": [
    "^   matches the start of the string\n",
    "$   matches the end of the string orjust before the newline at the endof the string"
   ],
   "metadata": {
    "collapsed": false
   },
   "id": "101b0e7c97a4ff7b"
  },
  {
   "cell_type": "code",
   "execution_count": 9,
   "outputs": [
    {
     "name": "stdout",
     "output_type": "stream",
     "text": [
      "Valid\n"
     ]
    }
   ],
   "source": [
    "import re\n",
    "\n",
    "email = input(\"What's your name?\").strip()\n",
    "\n",
    "if re.search(r\"^.+@.+\\.edu$\", email):   # re.search has many param, use \\. to denote the dot\n",
    "    print(\"Valid\")\n",
    "else:\n",
    "    print(\"Invalid\")"
   ],
   "metadata": {
    "collapsed": false,
    "ExecuteTime": {
     "end_time": "2023-12-02T07:46:57.845573600Z",
     "start_time": "2023-12-02T07:46:39.280312200Z"
    }
   },
   "id": "1796206f461ca6bc"
  },
  {
   "cell_type": "markdown",
   "source": [
    "[]  set of characters\n",
    "[^] complementing the set"
   ],
   "metadata": {
    "collapsed": false
   },
   "id": "68a6005c65ad312b"
  },
  {
   "cell_type": "code",
   "execution_count": 11,
   "outputs": [
    {
     "name": "stdout",
     "output_type": "stream",
     "text": [
      "Invalid\n"
     ]
    }
   ],
   "source": [
    "import re\n",
    "\n",
    "email = input(\"What's your name?\").strip()\n",
    "\n",
    "if re.search(r\"^[^@]+@[^@]+\\.edu$\", email):   # re.search has many param, use \\. to denote the dot\n",
    "    print(\"Valid\")\n",
    "else:\n",
    "    print(\"Invalid\")"
   ],
   "metadata": {
    "collapsed": false,
    "ExecuteTime": {
     "end_time": "2023-12-02T07:59:31.923357600Z",
     "start_time": "2023-12-02T07:59:25.351519100Z"
    }
   },
   "id": "76122f832cb2a926"
  },
  {
   "cell_type": "code",
   "execution_count": 13,
   "outputs": [
    {
     "name": "stdout",
     "output_type": "stream",
     "text": [
      "Invalid\n"
     ]
    }
   ],
   "source": [
    "import re\n",
    "\n",
    "email = input(\"What's your name?\").strip()\n",
    "\n",
    "if re.search(r\"^[a-zA-Z0-9_]+@[a-zA-Z0-9_]+\\.edu$\", email):   # re.search has many param, use \\. to denote the dot\n",
    "    print(\"Valid\")\n",
    "else:\n",
    "    print(\"Invalid\")"
   ],
   "metadata": {
    "collapsed": false,
    "ExecuteTime": {
     "end_time": "2023-12-02T08:08:57.156830600Z",
     "start_time": "2023-12-02T08:08:44.233649400Z"
    }
   },
   "id": "1e82971499f49ef8"
  },
  {
   "cell_type": "markdown",
   "source": [
    "\\d  decimal digit\n",
    "\\D not a decimal digit\n",
    "\\s  whitespace characters\n",
    "\\S  not a whitespace character\n",
    "\\w  word character ... as well as numbers and the underscore\n",
    "\\W  not a word character"
   ],
   "metadata": {
    "collapsed": false
   },
   "id": "4ca4d895f24f8f08"
  },
  {
   "cell_type": "code",
   "execution_count": 14,
   "outputs": [
    {
     "name": "stdout",
     "output_type": "stream",
     "text": [
      "Invalid\n"
     ]
    }
   ],
   "source": [
    "import re\n",
    "\n",
    "email = input(\"What's your name?\").strip()\n",
    "\n",
    "if re.search(r\"^\\w+@\\w+\\.edu$\", email):   # re.search has many param, use \\. to denote the dot\n",
    "    print(\"Valid\")\n",
    "else:\n",
    "    print(\"Invalid\")"
   ],
   "metadata": {
    "collapsed": false,
    "ExecuteTime": {
     "end_time": "2023-12-02T08:13:13.608401400Z",
     "start_time": "2023-12-02T08:13:05.148147Z"
    }
   },
   "id": "79daf12f7ae65685"
  },
  {
   "cell_type": "markdown",
   "source": [
    "A|B either A or B\n",
    "(...)   a group\n",
    "(?:...) non-capturing version"
   ],
   "metadata": {
    "collapsed": false
   },
   "id": "cc1a750152e6bc7c"
  },
  {
   "cell_type": "markdown",
   "source": [
    "if you need a witerspace, then use \"\\s\" or[ ]"
   ],
   "metadata": {
    "collapsed": false
   },
   "id": "7fa19b61b493cadc"
  },
  {
   "cell_type": "markdown",
   "source": [
    "re.IGNORECASE\n",
    "re.MULTILINE\n",
    "re.DOTALL"
   ],
   "metadata": {
    "collapsed": false
   },
   "id": "ac6228d6b33ae5aa"
  },
  {
   "cell_type": "code",
   "execution_count": 15,
   "outputs": [
    {
     "name": "stdout",
     "output_type": "stream",
     "text": [
      "Invalid\n"
     ]
    }
   ],
   "source": [
    "import re\n",
    "\n",
    "email = input(\"What's your name?\").strip()\n",
    "\n",
    "if re.search(r\"^\\w+@\\w+\\.edu$\", email, re.IGNORECASE):   # re.search has many param, use \\. to denote the dot\n",
    "    print(\"Valid\")\n",
    "else:\n",
    "    print(\"Invalid\")"
   ],
   "metadata": {
    "collapsed": false,
    "ExecuteTime": {
     "end_time": "2023-12-02T08:34:06.662502Z",
     "start_time": "2023-12-02T08:34:04.541480100Z"
    }
   },
   "id": "373bc31c22abe634"
  },
  {
   "cell_type": "markdown",
   "source": [
    "how to test the email such as \"malan@cs50.harvard.edu?"
   ],
   "metadata": {
    "collapsed": false
   },
   "id": "f48d17612ae75da4"
  },
  {
   "cell_type": "code",
   "execution_count": 16,
   "outputs": [
    {
     "name": "stdout",
     "output_type": "stream",
     "text": [
      "Valid\n"
     ]
    }
   ],
   "source": [
    "import re\n",
    "\n",
    "email = input(\"What's your email?\").strip()\n",
    "\n",
    "if re.search(r\"^\\w+@(\\w+\\.)?\\w+\\.edu\", email, re.IGNORECASE):\n",
    "    print(\"Valid\")\n",
    "else:\n",
    "    print(\"Invalid\")"
   ],
   "metadata": {
    "collapsed": false,
    "ExecuteTime": {
     "end_time": "2023-12-02T08:39:30.518422100Z",
     "start_time": "2023-12-02T08:39:14.267799500Z"
    }
   },
   "id": "de950eebbc2d745f"
  },
  {
   "cell_type": "code",
   "execution_count": 2,
   "outputs": [
    {
     "name": "stdout",
     "output_type": "stream",
     "text": [
      "Invalid\n"
     ]
    }
   ],
   "source": [
    "import re\n",
    "\n",
    "email = input(\"What's your email?\").strip()\n",
    "\n",
    "# if re.search(r\"^\\w+@(\\w+\\.)?\\w+\\.edu\", email, re.IGNORECASE):\n",
    "if re.search(r\"^[a-z0-9_\\.]+@(\\w+\\.)?\\w+\\.edu\", email, re.IGNORECASE):  # regular the character before @\n",
    "    print(\"Valid\")\n",
    "else:\n",
    "    print(\"Invalid\")"
   ],
   "metadata": {
    "collapsed": false,
    "ExecuteTime": {
     "end_time": "2023-12-04T13:05:59.168708500Z",
     "start_time": "2023-12-04T13:05:58.492575300Z"
    }
   },
   "id": "8cdafc3ea7bc35d2"
  },
  {
   "cell_type": "code",
   "execution_count": 3,
   "outputs": [
    {
     "name": "stdout",
     "output_type": "stream",
     "text": [
      "Invalid\n"
     ]
    }
   ],
   "source": [
    "import re\n",
    "\n",
    "email = input(\"What's your email?\").strip()\n",
    "\n",
    "if re.search(r\"^\\w+@(\\w+\\.)?\\w+\\.edu\", email, re.IGNORECASE):\n",
    "    print(\"Valid\")\n",
    "else:\n",
    "    print(\"Invalid\")"
   ],
   "metadata": {
    "collapsed": false,
    "ExecuteTime": {
     "end_time": "2023-12-04T13:06:46.653865300Z",
     "start_time": "2023-12-04T13:06:46.153261200Z"
    }
   },
   "id": "2c82f828e8b782be"
  },
  {
   "cell_type": "markdown",
   "source": [
    "! <img src=\"../Assert/reofemail.png\" alt=\"re of email\" height=\"500\"> "
   ],
   "metadata": {
    "collapsed": false
   },
   "id": "95ce7779db2c7f0b"
  },
  {
   "cell_type": "markdown",
   "source": [
    "re.match()\n",
    "re.fullmatch(pattern,string,flag)"
   ],
   "metadata": {
    "collapsed": false
   },
   "id": "1db6019a884ec5ce"
  },
  {
   "cell_type": "code",
   "execution_count": 4,
   "outputs": [
    {
     "name": "stdout",
     "output_type": "stream",
     "text": [
      "hello, David Malan\n"
     ]
    }
   ],
   "source": [
    "# format.py\n",
    "name = input(\"What's your name?\").strip()\n",
    "print(f\"hello, {name}\")"
   ],
   "metadata": {
    "collapsed": false,
    "ExecuteTime": {
     "end_time": "2023-12-04T13:26:45.586891800Z",
     "start_time": "2023-12-04T13:26:36.356451500Z"
    }
   },
   "id": "f181d5d7376c4754"
  },
  {
   "cell_type": "markdown",
   "source": [
    " if user input:\"Malan, David\", how to format it?"
   ],
   "metadata": {
    "collapsed": false
   },
   "id": "800df971ef8c05fa"
  },
  {
   "cell_type": "code",
   "execution_count": 15,
   "outputs": [
    {
     "name": "stdout",
     "output_type": "stream",
     "text": [
      "hello, DM\n"
     ]
    }
   ],
   "source": [
    "# format..py\n",
    "import re\n",
    "\n",
    "name = input(\"What's your name?\").strip()\n",
    "if \",\" in name:\n",
    "    last, first = name.split(\", \") # pay attention to \" \"\n",
    "    name = f\"{first} {last}\"\n",
    "print(f\"hello, {name}\")"
   ],
   "metadata": {
    "collapsed": false,
    "ExecuteTime": {
     "end_time": "2023-12-04T13:45:07.550988700Z",
     "start_time": "2023-12-04T13:45:00.420618500Z"
    }
   },
   "id": "cfb315ce72eda57f"
  },
  {
   "cell_type": "markdown",
   "source": [
    "! <img src=\"../Assert/1.png\" height = 400>"
   ],
   "metadata": {
    "collapsed": false
   },
   "id": "48cc5ab6ec6c8bed"
  },
  {
   "cell_type": "code",
   "execution_count": 20,
   "outputs": [
    {
     "name": "stdout",
     "output_type": "stream",
     "text": [
      "hello, \n"
     ]
    }
   ],
   "source": [
    "# format.py\n",
    "\n",
    "import re\n",
    "\n",
    "name = input(\"What's yur name?\").strip()\n",
    "matchs = re.search(r\"^(.+), (.+)$\", name)\n",
    "if matchs:\n",
    "    last, first = matchs.groups()\n",
    "    name = f\"{first} {last}\"\n",
    "print(f\"hello, {name}\")"
   ],
   "metadata": {
    "collapsed": false,
    "ExecuteTime": {
     "end_time": "2023-12-04T13:46:58.998010500Z",
     "start_time": "2023-12-04T13:46:57.807016500Z"
    }
   },
   "id": "812256ce4181033d"
  },
  {
   "cell_type": "code",
   "execution_count": 22,
   "outputs": [
    {
     "name": "stdout",
     "output_type": "stream",
     "text": [
      "hello, D M\n"
     ]
    }
   ],
   "source": [
    "# format.py\n",
    "\n",
    "import re\n",
    "\n",
    "name = input(\"What's yur name?\").strip()\n",
    "matchs = re.search(r\"^(.+), (.+)$\", name)\n",
    "if matchs:\n",
    "    name = matchs.group(2) + \" \" +matchs.group(1) \n",
    "print(f\"hello, {name}\")"
   ],
   "metadata": {
    "collapsed": false,
    "ExecuteTime": {
     "end_time": "2023-12-04T13:49:01.130145100Z",
     "start_time": "2023-12-04T13:48:55.973873100Z"
    }
   },
   "id": "f26fde5c3948b7ed"
  },
  {
   "cell_type": "markdown",
   "source": [
    "pay attenton, the index of re.search start with 0, we starts with 1 science the sare somethong in group(0)"
   ],
   "metadata": {
    "collapsed": false
   },
   "id": "3b3b4c285b83c64f"
  },
  {
   "cell_type": "code",
   "execution_count": 23,
   "outputs": [
    {
     "name": "stdout",
     "output_type": "stream",
     "text": [
      "hello, D Mala\n"
     ]
    }
   ],
   "source": [
    "# format.py\n",
    "\n",
    "import re\n",
    "\n",
    "name = input(\"What's yur name?\").strip()\n",
    "matchs = re.search(r\"^(.+), *(.+)$\", name)  # use * to eliminate all withespace.\n",
    "if matchs:\n",
    "    name = matchs.group(2) + \" \" +matchs.group(1)\n",
    "print(f\"hello, {name}\")\n"
   ],
   "metadata": {
    "collapsed": false,
    "ExecuteTime": {
     "end_time": "2023-12-04T13:52:26.687121700Z",
     "start_time": "2023-12-04T13:52:18.473283800Z"
    }
   },
   "id": "c36400977c0791eb"
  },
  {
   "cell_type": "code",
   "execution_count": 25,
   "outputs": [
    {
     "name": "stdout",
     "output_type": "stream",
     "text": [
      "hello, D M\n"
     ]
    }
   ],
   "source": [
    "# format.py\n",
    "\n",
    "import re\n",
    "\n",
    "name = input(\"What's yur name?\").strip()\n",
    "# if re.search(r\"^(.+), (.+)$\", name):\n",
    "if matchs := re.search(r\"^(.+), *(.+)$\", name):  # pay attention to \":=\" operator, it's called the walrus operator, 从右向左赋值，并询问Bool值\n",
    "    name = matchs.group(2) + \" \" +matchs.group(1)\n",
    "print(f\"hello, {name}\")\n"
   ],
   "metadata": {
    "collapsed": false,
    "ExecuteTime": {
     "end_time": "2023-12-04T13:58:47.060540100Z",
     "start_time": "2023-12-04T13:58:42.900762600Z"
    }
   },
   "id": "c6c3f3146893677d"
  },
  {
   "cell_type": "markdown",
   "source": [
    "### :="
   ],
   "metadata": {
    "collapsed": false
   },
   "id": "d565adf00f69c275"
  },
  {
   "cell_type": "markdown",
   "source": [],
   "metadata": {
    "collapsed": false
   },
   "id": "ecbddc386c8c4a57"
  },
  {
   "cell_type": "markdown",
   "source": [
    "****----------------------------breakline***"
   ],
   "metadata": {
    "collapsed": false
   },
   "id": "e99ef62a5480cb62"
  },
  {
   "cell_type": "code",
   "execution_count": 26,
   "outputs": [
    {
     "ename": "TypeError",
     "evalue": "str.removeprefix() takes exactly one argument (2 given)",
     "output_type": "error",
     "traceback": [
      "\u001B[1;31m---------------------------------------------------------------------------\u001B[0m",
      "\u001B[1;31mTypeError\u001B[0m                                 Traceback (most recent call last)",
      "Cell \u001B[1;32mIn[26], line 5\u001B[0m\n\u001B[0;32m      1\u001B[0m \u001B[38;5;66;03m# twitter.py\u001B[39;00m\n\u001B[0;32m      3\u001B[0m url \u001B[38;5;241m=\u001B[39m \u001B[38;5;28minput\u001B[39m(\u001B[38;5;124m\"\u001B[39m\u001B[38;5;124mURL: \u001B[39m\u001B[38;5;124m\"\u001B[39m)\u001B[38;5;241m.\u001B[39mstrip()\n\u001B[1;32m----> 5\u001B[0m username \u001B[38;5;241m=\u001B[39m \u001B[43murl\u001B[49m\u001B[38;5;241;43m.\u001B[39;49m\u001B[43mremoveprefix\u001B[49m\u001B[43m(\u001B[49m\u001B[38;5;124;43m\"\u001B[39;49m\u001B[38;5;124;43mhttps://twitter.com/\u001B[39;49m\u001B[38;5;124;43m\"\u001B[39;49m\u001B[43m,\u001B[49m\u001B[38;5;124;43m\"\u001B[39;49m\u001B[38;5;124;43m\"\u001B[39;49m\u001B[43m)\u001B[49m\n\u001B[0;32m      6\u001B[0m \u001B[38;5;28mprint\u001B[39m(\u001B[38;5;124mf\u001B[39m\u001B[38;5;124m\"\u001B[39m\u001B[38;5;124mUsername: \u001B[39m\u001B[38;5;132;01m{\u001B[39;00musername\u001B[38;5;132;01m}\u001B[39;00m\u001B[38;5;124m\"\u001B[39m)\n",
      "\u001B[1;31mTypeError\u001B[0m: str.removeprefix() takes exactly one argument (2 given)"
     ]
    }
   ],
   "source": [
    "# twitter.py\n",
    "\n",
    "url = input(\"URL: \").strip()\n",
    "\n",
    "username = url.removeprefix(\"https://twitter.com/\",\"\")\n",
    "print(f\"Username: {username}\")"
   ],
   "metadata": {
    "collapsed": false,
    "ExecuteTime": {
     "end_time": "2023-12-04T14:07:37.842894Z",
     "start_time": "2023-12-04T14:07:36.778435400Z"
    }
   },
   "id": "cfac2baef5d1bf64"
  },
  {
   "cell_type": "markdown",
   "source": [
    "re.sub(Patter,repl,string,count, flags)"
   ],
   "metadata": {
    "collapsed": false
   },
   "id": "95abcc6f4e80538b"
  },
  {
   "cell_type": "code",
   "execution_count": null,
   "outputs": [],
   "source": [
    "import re\n",
    "\n",
    "url = input(\"URL: \")\n",
    "\n",
    "username = re.sub(r\"^(https?://)?(www\\.)?twitter\\.com/\", \"\", url)  # pay attention to: \"?\" and \"\\.\"\n",
    "print(f\"Username: {username}\")"
   ],
   "metadata": {
    "collapsed": false
   },
   "id": "19767a41bc2eb9a1"
  },
  {
   "cell_type": "markdown",
   "source": [
    "## !写正则表达式时从最简单的开始，一步步完善整个表达式，不要试图一下子想出很复杂的表达式"
   ],
   "metadata": {
    "collapsed": false
   },
   "id": "f770b6cd6f8210b0"
  },
  {
   "cell_type": "code",
   "execution_count": 36,
   "outputs": [
    {
     "name": "stdout",
     "output_type": "stream",
     "text": [
      "Username:  jay\n"
     ]
    }
   ],
   "source": [
    "import re\n",
    "\n",
    "url = input(\"URL: \").strip()\n",
    "\n",
    "matches = re.search(r\"^https?://(www\\.)?twitter\\.com/(.+)$\",  url, re.IGNORECASE)  # pay attention to: \"?\" and \"\\.\"\n",
    "if matches:\n",
    "    print(f\"Username: \", matches.group(2))"
   ],
   "metadata": {
    "collapsed": false,
    "ExecuteTime": {
     "end_time": "2023-12-04T14:58:05.575744200Z",
     "start_time": "2023-12-04T14:58:03.723946900Z"
    }
   },
   "id": "553c282d2e4abeec"
  },
  {
   "cell_type": "code",
   "execution_count": 38,
   "outputs": [
    {
     "name": "stdout",
     "output_type": "stream",
     "text": [
      "Username:  jay\n"
     ]
    }
   ],
   "source": [
    "import re\n",
    "\n",
    "url = input(\"URL: \").strip()\n",
    "\n",
    "if matches := re.search(r\"^https?://(www\\.)?twitter\\.com/(.+)$\",  url, re.IGNORECASE):  # pay attention to: \"?\" and \"\\.\"\n",
    "    print(f\"Username: \", matches.group(2))"
   ],
   "metadata": {
    "collapsed": false,
    "ExecuteTime": {
     "end_time": "2023-12-04T15:00:39.878431400Z",
     "start_time": "2023-12-04T15:00:37.614779200Z"
    }
   },
   "id": "29433b311132c121"
  },
  {
   "cell_type": "code",
   "execution_count": 42,
   "outputs": [
    {
     "name": "stdout",
     "output_type": "stream",
     "text": [
      "Username:  jay\n"
     ]
    }
   ],
   "source": [
    "import re\n",
    "\n",
    "url = input(\"URL: \").strip()\n",
    "\n",
    "if matches := re.search(r\"^https?://(?:www\\.)?twitter\\.com/(.+)$\",  url, re.IGNORECASE):  # pay attention to: \"?\" and \"\\.\"\n",
    "    print(f\"Username: \", matches.group(1))"
   ],
   "metadata": {
    "collapsed": false,
    "ExecuteTime": {
     "end_time": "2023-12-04T15:07:45.654058400Z",
     "start_time": "2023-12-04T15:07:44.418160Z"
    }
   },
   "id": "41085c653651d3f4"
  },
  {
   "cell_type": "code",
   "execution_count": 45,
   "outputs": [],
   "source": [
    "import re\n",
    "\n",
    "url = input(\"URL: \").strip()\n",
    "\n",
    "if matches := re.search(r\"^https?://(?:www\\.)?twitter\\.com/([a-z0-9_]+)$\",  url, re.IGNORECASE):  # pay attention to: \"?\" and \"\\.\"\n",
    "    print(f\"Username: \", matches.group(1))\n"
   ],
   "metadata": {
    "collapsed": false,
    "ExecuteTime": {
     "end_time": "2023-12-04T15:10:11.716187200Z",
     "start_time": "2023-12-04T15:10:08.536445200Z"
    }
   },
   "id": "2e39dd0137fe037c"
  },
  {
   "cell_type": "markdown",
   "source": [
    "re.split(pattern, string, maxsplit=0, flags=0)"
   ],
   "metadata": {
    "collapsed": false
   },
   "id": "65f5f27f92255636"
  },
  {
   "cell_type": "code",
   "execution_count": null,
   "outputs": [],
   "source": [],
   "metadata": {
    "collapsed": false
   },
   "id": "8654c975b8b015cc"
  }
 ],
 "metadata": {
  "kernelspec": {
   "display_name": "Python 3",
   "language": "python",
   "name": "python3"
  },
  "language_info": {
   "codemirror_mode": {
    "name": "ipython",
    "version": 2
   },
   "file_extension": ".py",
   "mimetype": "text/x-python",
   "name": "python",
   "nbconvert_exporter": "python",
   "pygments_lexer": "ipython2",
   "version": "2.7.6"
  }
 },
 "nbformat": 4,
 "nbformat_minor": 5
}
