{
 "cells": [
  {
   "cell_type": "markdown",
   "source": [
    "# Lecture3\n",
    "- Exceptions\n",
    "- Runtime Errors\n",
    "- try\n",
    "- else\n",
    "- Creating a Function to Get an Integer\n",
    "- pass\n",
    "- Summing up"
   ],
   "metadata": {
    "collapsed": false
   },
   "id": "4246b6bf5af2f5dd"
  },
  {
   "cell_type": "markdown",
   "source": [
    "# Exceptions\n",
    "- Exceptions are things that go wrong whitin our coding"
   ],
   "metadata": {
    "collapsed": false
   },
   "id": "3ba320d1a503c8c4"
  },
  {
   "cell_type": "code",
   "outputs": [],
   "source": [
    "print(\"hello, world)"
   ],
   "metadata": {
    "collapsed": false
   },
   "id": "5405eea8b12cdd38",
   "execution_count": null
  },
  {
   "cell_type": "markdown",
   "source": [
    "# Runtime Errors 运行时错误\n",
    "(不是运行时间错误"
   ],
   "metadata": {
    "collapsed": false
   },
   "id": "2905848b030461fb"
  },
  {
   "cell_type": "code",
   "outputs": [],
   "source": [
    "x = int(input(\"What's x? \"))\n",
    "print(f\"x is {x}\")"
   ],
   "metadata": {
    "collapsed": false
   },
   "id": "5a9e18f325924ed1",
   "execution_count": null
  },
  {
   "cell_type": "markdown",
   "source": [
    "# try\n",
    "In Python `try` and `except` are ways of testing out user input before something goes wrong."
   ],
   "metadata": {
    "collapsed": false
   },
   "id": "5954494d79761cfe"
  },
  {
   "cell_type": "code",
   "outputs": [],
   "source": [
    "try:\n",
    "    x = int(input(\"What's x? \"))\n",
    "    print(f\"x is {x}\")\n",
    "except ValueError:\n",
    "    print(\"x is not an integer\")"
   ],
   "metadata": {
    "collapsed": false
   },
   "id": "a55f77925c9c59e8",
   "execution_count": null
  },
  {
   "cell_type": "code",
   "outputs": [],
   "source": [
    "# we should only try the fewest lines of code possible that we are concerned could fail.\n",
    "try:\n",
    "    x = int(input(\"What's x?\"))\n",
    "except ValueError:\n",
    "    print(\"x is not an integer\")\n",
    "\n",
    "print(f\"x is {x}\")"
   ],
   "metadata": {
    "collapsed": false
   },
   "id": "123df73f3974f78a",
   "execution_count": null
  },
  {
   "cell_type": "markdown",
   "source": [
    "Indeed, if you exam the order of operations in `x = int(input(\"What's x? \")`, working right to left, it could take\n",
    "an incorrectly inputted character and attempt to assign it as an inreger. If this fail, the assigment of the value of `x` \n",
    "never occurs. Therefore, there is no x to print on our final line of code."
   ],
   "metadata": {
    "collapsed": false
   },
   "id": "25d5bcc2136218d7"
  },
  {
   "cell_type": "markdown",
   "source": [
    "# else\n",
    "It's another way to implement try that could catch errors of this nature."
   ],
   "metadata": {
    "collapsed": false
   },
   "id": "a8d9cadc750b5cca"
  },
  {
   "cell_type": "code",
   "outputs": [],
   "source": [
    "try:\n",
    "    x = int(input(\"What''s x?\"))\n",
    "except ValueError:\n",
    "    print(\"x is not an integer\")\n",
    "else:\n",
    "    print(f\"x is {x}\")"
   ],
   "metadata": {
    "collapsed": false
   },
   "id": "e578f6b660bf1d56",
   "execution_count": null
  },
  {
   "cell_type": "code",
   "outputs": [],
   "source": [
    "# Improving code:\n",
    "\n",
    "while True:\n",
    "    try:\n",
    "        x = int(input(\"What's x?\"))\n",
    "    except ValueError:\n",
    "        print(\"x is not an integer\")\n",
    "    else:\n",
    "        break\n",
    "\n",
    "print(f\"x is {x}\")"
   ],
   "metadata": {
    "collapsed": false
   },
   "id": "203b6d0572fb043a",
   "execution_count": null
  },
  {
   "cell_type": "markdown",
   "source": [
    "# Creating a Function to Get an Integer"
   ],
   "metadata": {
    "collapsed": false
   },
   "id": "a5a78721be9f480d"
  },
  {
   "cell_type": "code",
   "outputs": [],
   "source": [
    "def main():\n",
    "    x = get_int()\n",
    "    print(f\"x is {x}\")\n",
    "\n",
    "\n",
    "def get_int():\n",
    "    while True:\n",
    "        try:\n",
    "            x = int(input(\"What's x? \"))\n",
    "        except ValueError:\n",
    "            print(\"x is not an integer\")\n",
    "        else:\n",
    "            break\n",
    "    return x\n",
    "\n",
    "if __name__ == '__main__':\n",
    "    main()\n",
    "            "
   ],
   "metadata": {
    "collapsed": false
   },
   "id": "3d5c828980a33bfa",
   "execution_count": null
  },
  {
   "cell_type": "code",
   "outputs": [],
   "source": [
    "# Improving code:\n",
    "\n",
    "def main():\n",
    "    x = get_int()\n",
    "    print(f\"x is {x}\")\n",
    "\n",
    "\n",
    "def get_int():\n",
    "    while True:\n",
    "        try:\n",
    "            x = int(input(\"What's x? \"))\n",
    "        except ValueError:\n",
    "            print(\"x is not an integer\")\n",
    "        else:\n",
    "            return x    # more compact, return will not only break out of loop, but also return a value\n",
    "\n",
    "if __name__ == '__main__':\n",
    "    main()\n",
    " "
   ],
   "metadata": {
    "collapsed": false
   },
   "id": "af44bd8a7775bd6b",
   "execution_count": null
  },
  {
   "cell_type": "code",
   "outputs": [],
   "source": [
    "# also:\n",
    "def main():\n",
    "    x = get_int()\n",
    "    print(f\"x is {x}\")\n",
    "\n",
    "\n",
    "def get_int():\n",
    "    while True:\n",
    "        try:\n",
    "            return int(input(\"What's x? \"))\n",
    "        except ValueError:\n",
    "            print(\"x is not an integer\")\n",
    "\n",
    "if __name__ == '__main__':\n",
    "    main()\n",
    " \n"
   ],
   "metadata": {
    "collapsed": false
   },
   "id": "1c041b77e050f46a",
   "execution_count": null
  },
  {
   "cell_type": "markdown",
   "source": [
    "# Pass\n",
    "We can simply re-asks user our prompting question without warnning by modifying our code as follow:"
   ],
   "metadata": {
    "collapsed": false
   },
   "id": "6532db498d1a2d2a"
  },
  {
   "cell_type": "code",
   "outputs": [],
   "source": [
    "def main():\n",
    "    x = get_int()\n",
    "    print(f\"x is {x}\")\n",
    "\n",
    "\n",
    "def get_int():\n",
    "    while True:\n",
    "        try:\n",
    "            return int(input(\"What's x? \"))\n",
    "        except ValueError:\n",
    "            pass\n",
    "\n",
    "if __name__ == '__main__':\n",
    "    main()\n",
    " "
   ],
   "metadata": {
    "collapsed": false
   },
   "id": "55962b1561a9fbf2",
   "execution_count": null
  },
  {
   "cell_type": "code",
   "outputs": [
    {
     "name": "stdout",
     "output_type": "stream",
     "text": [
      "x is 2\n"
     ]
    }
   ],
   "source": [
    "# Improving the implementation of this `get_in` function\n",
    "\n",
    "def main():\n",
    "    x = get_int1(\"What's x? \")\n",
    "    print(f\"x is {x}\")\n",
    "\n",
    "def get_int1(prompt):\n",
    "    while True:\n",
    "        try:\n",
    "            return int(input(prompt))\n",
    "        except ValueError:\n",
    "            pass\n",
    "        \n",
    "        \n",
    "if __name__ == '__main__':\n",
    "    main()"
   ],
   "metadata": {
    "collapsed": false,
    "ExecuteTime": {
     "end_time": "2024-03-09T11:18:43.374587Z",
     "start_time": "2024-03-09T11:18:35.568550Z"
    }
   },
   "id": "f5d1fae7f6a369",
   "execution_count": 21
  },
  {
   "cell_type": "markdown",
   "source": [
    "# Summing Up\n",
    "Errors are inevitable in your code, However, you have the opportunity to use what was learned today\n",
    "to help prevent these error.\n",
    "- Exceptions\n",
    "- Value Errors\n",
    "- Runtime Errors\n",
    "- try \n",
    "- else\n",
    "- pass\n"
   ],
   "metadata": {
    "collapsed": false
   },
   "id": "64ade9783cb803ba"
  },
  {
   "cell_type": "code",
   "outputs": [],
   "source": [],
   "metadata": {
    "collapsed": false
   },
   "id": "11b8d7e2798d6a08"
  }
 ],
 "metadata": {
  "kernelspec": {
   "display_name": "Python 3",
   "language": "python",
   "name": "python3"
  },
  "language_info": {
   "codemirror_mode": {
    "name": "ipython",
    "version": 2
   },
   "file_extension": ".py",
   "mimetype": "text/x-python",
   "name": "python",
   "nbconvert_exporter": "python",
   "pygments_lexer": "ipython2",
   "version": "2.7.6"
  }
 },
 "nbformat": 4,
 "nbformat_minor": 5
}
