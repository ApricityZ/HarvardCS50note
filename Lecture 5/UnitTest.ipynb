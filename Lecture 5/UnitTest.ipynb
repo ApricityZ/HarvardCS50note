{
 "cells": [
  {
   "cell_type": "markdown",
   "source": [
    "# Lecture 5\n",
    "- Unit Test\n",
    "- assert\n",
    "- pytest\n",
    "- Testing String\n",
    "- Organizing Test into Folders\n",
    "- Summing Up"
   ],
   "metadata": {
    "collapsed": false
   },
   "id": "f2775bab419a78c6"
  },
  {
   "cell_type": "markdown",
   "source": [],
   "metadata": {
    "collapsed": false
   },
   "id": "cc9154974b673d03"
  }
 ],
 "metadata": {
  "kernelspec": {
   "display_name": "Python 3",
   "language": "python",
   "name": "python3"
  },
  "language_info": {
   "codemirror_mode": {
    "name": "ipython",
    "version": 2
   },
   "file_extension": ".py",
   "mimetype": "text/x-python",
   "name": "python",
   "nbconvert_exporter": "python",
   "pygments_lexer": "ipython2",
   "version": "2.7.6"
  }
 },
 "nbformat": 4,
 "nbformat_minor": 5
}
