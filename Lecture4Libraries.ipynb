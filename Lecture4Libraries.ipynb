{
 "cells": [
  {
   "cell_type": "markdown",
   "source": [
    "### modules\n",
    "e.g. random"
   ],
   "metadata": {
    "collapsed": false
   },
   "id": "4662b65e3b7473af"
  },
  {
   "cell_type": "markdown",
   "source": [
    "How to use modules?\n",
    "**import**"
   ],
   "metadata": {
    "collapsed": false
   },
   "id": "8147f2c1cd65b5f5"
  },
  {
   "cell_type": "code",
   "execution_count": 1,
   "outputs": [
    {
     "name": "stdout",
     "output_type": "stream",
     "text": [
      "heads\n"
     ]
    }
   ],
   "source": [
    "#generate.py\n",
    "\n",
    "import random\n",
    "\n",
    "coin = random.choice([\"heads\",\"tails\"])    # 输入一个列表，等概率返回其中的一个值\n",
    "print(coin) "
   ],
   "metadata": {
    "collapsed": false
   },
   "id": "initial_id"
  },
  {
   "cell_type": "markdown",
   "source": [
    "### keywors: from"
   ],
   "metadata": {
    "collapsed": false
   },
   "id": "a117238cc4dc42d"
  },
  {
   "cell_type": "code",
   "execution_count": 5,
   "outputs": [
    {
     "name": "stdout",
     "output_type": "stream",
     "text": [
      "heads\n"
     ]
    }
   ],
   "source": [
    "from random import choice\n",
    "\n",
    "coin = choice([\"heads\", \"tails\"])\n",
    "print(coin) "
   ],
   "metadata": {
    "collapsed": false,
    "ExecuteTime": {
     "end_time": "2023-11-28T07:34:07.326686600Z",
     "start_time": "2023-11-28T07:34:07.316156900Z"
    }
   },
   "id": "3732d1f0cd2d0191"
  },
  {
   "cell_type": "markdown",
   "source": [
    "random.randint(a,b)"
   ],
   "metadata": {
    "collapsed": false
   },
   "id": "744f5177a7385404"
  },
  {
   "cell_type": "code",
   "execution_count": 6,
   "outputs": [
    {
     "name": "stdout",
     "output_type": "stream",
     "text": [
      "2\n"
     ]
    }
   ],
   "source": [
    "import random\n",
    "\n",
    "number = random.randint(1,10)\n",
    "print(number)"
   ],
   "metadata": {
    "collapsed": false,
    "ExecuteTime": {
     "end_time": "2023-11-28T07:36:27.541834800Z",
     "start_time": "2023-11-28T07:36:27.525190500Z"
    }
   },
   "id": "4a6e936d9c293a26"
  },
  {
   "cell_type": "markdown",
   "source": [
    "random.shuffle()"
   ],
   "metadata": {
    "collapsed": false
   },
   "id": "ea81d3a3e147cc17"
  },
  {
   "cell_type": "code",
   "execution_count": 9,
   "outputs": [
    {
     "name": "stdout",
     "output_type": "stream",
     "text": [
      "jack\n",
      "queen\n",
      "king\n"
     ]
    }
   ],
   "source": [
    "import random\n",
    "\n",
    "cards = [\"jack\", \"queen\", \"king\"]\n",
    "random.shuffle(cards)\n",
    "for card in cards:\n",
    "    print(card)"
   ],
   "metadata": {
    "collapsed": false,
    "ExecuteTime": {
     "end_time": "2023-11-28T07:42:11.471706700Z",
     "start_time": "2023-11-28T07:42:11.460620700Z"
    }
   },
   "id": "79112ad54a08bb73"
  },
  {
   "cell_type": "markdown",
   "source": [
    "statistics"
   ],
   "metadata": {
    "collapsed": false
   },
   "id": "2509454d49e75441"
  },
  {
   "cell_type": "code",
   "execution_count": 10,
   "outputs": [
    {
     "name": "stdout",
     "output_type": "stream",
     "text": [
      "95\n"
     ]
    }
   ],
   "source": [
    "import statistics\n",
    "\n",
    "print(statistics.mean(([100,90])))"
   ],
   "metadata": {
    "collapsed": false,
    "ExecuteTime": {
     "end_time": "2023-11-28T07:43:21.342927500Z",
     "start_time": "2023-11-28T07:43:21.332488600Z"
    }
   },
   "id": "352d4a33c3ed8748"
  },
  {
   "cell_type": "markdown",
   "source": [
    "command-line arguments"
   ],
   "metadata": {
    "collapsed": false
   },
   "id": "257442d9d0361da0"
  },
  {
   "cell_type": "markdown",
   "source": [
    "### sys"
   ],
   "metadata": {
    "collapsed": false
   },
   "id": "3ab19b42939debd7"
  },
  {
   "cell_type": "code",
   "execution_count": 12,
   "outputs": [
    {
     "name": "stdout",
     "output_type": "stream",
     "text": [
      "hello, my name is C:\\Users\\JayZh\\OneDrive\\Books&SourceCode\\PythonProgram\\HarvardCS50note\\venv\\Lib\\site-packages\\ipykernel_launcher.py\n"
     ]
    }
   ],
   "source": [
    "# name.py\n",
    "# sys.argv\n",
    "import sys\n",
    "\n",
    "print(\"hello, my name is\", sys.argv[0])"
   ],
   "metadata": {
    "collapsed": false,
    "ExecuteTime": {
     "end_time": "2023-11-28T07:51:40.007030200Z",
     "start_time": "2023-11-28T07:51:40.001696Z"
    }
   },
   "id": "2b23be6da22e0efb"
  },
  {
   "cell_type": "code",
   "execution_count": 13,
   "outputs": [
    {
     "name": "stdout",
     "output_type": "stream",
     "text": [
      "hello, my name is  -f\n"
     ]
    }
   ],
   "source": [
    "import sys\n",
    "\n",
    "try:\n",
    "    print(\"hello, my name is \", sys.argv[1])\n",
    "except:\n",
    "    print(\"Too few arguments\")"
   ],
   "metadata": {
    "collapsed": false,
    "ExecuteTime": {
     "end_time": "2023-11-28T07:53:30.960319300Z",
     "start_time": "2023-11-28T07:53:30.956808300Z"
    }
   },
   "id": "e73a93bfdda51bac"
  },
  {
   "cell_type": "code",
   "execution_count": 14,
   "outputs": [
    {
     "name": "stdout",
     "output_type": "stream",
     "text": [
      "Too many arguments\n"
     ]
    }
   ],
   "source": [
    "import sys\n",
    "\n",
    "if len(sys.argv) < 2:\n",
    "    print(\"Too few arguments\")\n",
    "elif len(sys.argv) > 2:\n",
    "    print(\"Too many arguments\")\n",
    "else:\n",
    "    print(\"hello, my name is\", sys.argv[1])"
   ],
   "metadata": {
    "collapsed": false,
    "ExecuteTime": {
     "end_time": "2023-11-28T07:57:08.859604400Z",
     "start_time": "2023-11-28T07:57:08.848218300Z"
    }
   },
   "id": "2c1ebd1a43c0170"
  },
  {
   "cell_type": "markdown",
   "source": [
    "to be better, highlight the important part"
   ],
   "metadata": {
    "collapsed": false
   },
   "id": "90346003a1b3f382"
  },
  {
   "cell_type": "code",
   "execution_count": 15,
   "outputs": [
    {
     "name": "stdout",
     "output_type": "stream",
     "text": [
      "Too many arguments\n",
      "hello, my name is -f\n"
     ]
    }
   ],
   "source": [
    "import sys\n",
    "\n",
    "if len(sys.argv) < 2:\n",
    "    print(\"Too few arguments\")\n",
    "elif len(sys.argv) > 2:\n",
    "    print(\"Too many arguments\")\n",
    "    \n",
    "print(\"hello, my name is\", sys.argv[1])"
   ],
   "metadata": {
    "collapsed": false,
    "ExecuteTime": {
     "end_time": "2023-11-28T08:00:46.649485400Z",
     "start_time": "2023-11-28T08:00:46.639740800Z"
    }
   },
   "id": "fa39890b503d24aa"
  },
  {
   "cell_type": "markdown",
   "source": [
    "use sys.exit"
   ],
   "metadata": {
    "collapsed": false
   },
   "id": "6e23f058dc2e6a4d"
  },
  {
   "cell_type": "code",
   "execution_count": 16,
   "outputs": [
    {
     "ename": "SystemExit",
     "evalue": "Too many arguments",
     "output_type": "error",
     "traceback": [
      "An exception has occurred, use %tb to see the full traceback.\n",
      "\u001B[1;31mSystemExit\u001B[0m\u001B[1;31m:\u001B[0m Too many arguments\n"
     ]
    },
    {
     "name": "stderr",
     "output_type": "stream",
     "text": [
      "C:\\Users\\JayZh\\OneDrive\\Books&SourceCode\\PythonProgram\\HarvardCS50note\\venv\\Lib\\site-packages\\IPython\\core\\interactiveshell.py:3556: UserWarning: To exit: use 'exit', 'quit', or Ctrl-D.\n",
      "  warn(\"To exit: use 'exit', 'quit', or Ctrl-D.\", stacklevel=1)\n"
     ]
    }
   ],
   "source": [
    "import sys\n",
    "\n",
    "if len(sys.argv) < 2:\n",
    "    sys.exit(\"Too few arguments\")\n",
    "elif len(sys.argv) > 2:\n",
    "    sys.exit(\"Too many arguments\")\n",
    "\n",
    "print(\"hello, my name is \", sys.argv[1])"
   ],
   "metadata": {
    "collapsed": false,
    "ExecuteTime": {
     "end_time": "2023-11-28T08:04:30.010784400Z",
     "start_time": "2023-11-28T08:04:29.997513200Z"
    }
   },
   "id": "a24945a0747c6466"
  },
  {
   "cell_type": "markdown",
   "source": [
    "to show all argv"
   ],
   "metadata": {
    "collapsed": false
   },
   "id": "b88ef55846f71dca"
  },
  {
   "cell_type": "code",
   "execution_count": 17,
   "outputs": [
    {
     "name": "stdout",
     "output_type": "stream",
     "text": [
      "hello, my name is  C:\\Users\\JayZh\\OneDrive\\Books&SourceCode\\PythonProgram\\HarvardCS50note\\venv\\Lib\\site-packages\\ipykernel_launcher.py\n",
      "hello, my name is  -f\n",
      "hello, my name is  C:\\Users\\JayZh\\AppData\\Roaming\\jupyter\\runtime\\kernel-27722246-904c-4c0c-acef-a9183e19c22f.json\n"
     ]
    }
   ],
   "source": [
    "import sys\n",
    "\n",
    "if len(sys.argv) < 2:\n",
    "    sys.exit(\"Too few arguments\")\n",
    "for argv in sys.argv:\n",
    "    print(\"hello, my name is \", argv)"
   ],
   "metadata": {
    "collapsed": false,
    "ExecuteTime": {
     "end_time": "2023-11-28T08:07:55.838321300Z",
     "start_time": "2023-11-28T08:07:55.819996300Z"
    }
   },
   "id": "ebe23bba9a948817"
  },
  {
   "cell_type": "markdown",
   "source": [
    "if i only need part of the sys.argv, what should i do?\n",
    "**The answer is \"slice\"**"
   ],
   "metadata": {
    "collapsed": false
   },
   "id": "9a35607b1ef65776"
  },
  {
   "cell_type": "code",
   "execution_count": 18,
   "outputs": [
    {
     "name": "stdout",
     "output_type": "stream",
     "text": [
      "hello, my name is  -f\n",
      "hello, my name is  C:\\Users\\JayZh\\AppData\\Roaming\\jupyter\\runtime\\kernel-27722246-904c-4c0c-acef-a9183e19c22f.json\n"
     ]
    }
   ],
   "source": [
    "import sys\n",
    "\n",
    "if len(sys.argv) < 2:\n",
    "    sys.exit(\"Too few arguments\")\n",
    "for argv in sys.argv[1:]:\n",
    "    print(\"hello, my name is \", argv)"
   ],
   "metadata": {
    "collapsed": false,
    "ExecuteTime": {
     "end_time": "2023-11-28T08:11:12.883012Z",
     "start_time": "2023-11-28T08:11:12.864899600Z"
    }
   },
   "id": "b254435a6cc2f242"
  },
  {
   "cell_type": "markdown",
   "source": [
    "## package"
   ],
   "metadata": {
    "collapsed": false
   },
   "id": "1f18735bca276e31"
  },
  {
   "cell_type": "markdown",
   "source": [
    "## pypi.org"
   ],
   "metadata": {
    "collapsed": false
   },
   "id": "892fa52a9ca4b23f"
  },
  {
   "cell_type": "markdown",
   "source": [
    "### cowsay"
   ],
   "metadata": {
    "collapsed": false
   },
   "id": "578cabfb98d7c5f7"
  },
  {
   "cell_type": "markdown",
   "source": [
    "### pip"
   ],
   "metadata": {
    "collapsed": false
   },
   "id": "5ffa8ca338353746"
  },
  {
   "cell_type": "markdown",
   "source": [
    "### api"
   ],
   "metadata": {
    "collapsed": false
   },
   "id": "e91be19d80b228f0"
  },
  {
   "cell_type": "markdown",
   "source": [
    "### requests"
   ],
   "metadata": {
    "collapsed": false
   },
   "id": "9fdc80f74f641d4d"
  },
  {
   "cell_type": "markdown",
   "source": [
    "### APIs"
   ],
   "metadata": {
    "collapsed": false
   },
   "id": "5d77363e7d75c972"
  },
  {
   "cell_type": "markdown",
   "source": [
    "#itunes.py\n",
    "### JSON"
   ],
   "metadata": {
    "collapsed": false
   },
   "id": "8e1d257239ed1b3b"
  },
  {
   "cell_type": "code",
   "execution_count": 1,
   "outputs": [
    {
     "ename": "SyntaxError",
     "evalue": "incomplete input (310416158.py, line 3)",
     "output_type": "error",
     "traceback": [
      "\u001B[1;36m  Cell \u001B[1;32mIn[1], line 3\u001B[1;36m\u001B[0m\n\u001B[1;33m    if len(sys.argv) != 2:\u001B[0m\n\u001B[1;37m                          ^\u001B[0m\n\u001B[1;31mSyntaxError\u001B[0m\u001B[1;31m:\u001B[0m incomplete input\n"
     ]
    }
   ],
   "source": [
    "import requests\n",
    "import sys\n",
    "if len(sys.argv) != 2:\n",
    "    sys.exit()\n",
    "    \n",
    "response = requests.get(\"heeps://itunes.apple.com/search?entity=song&limit=1&term=\" + sys.argv[1])\n",
    "print(response.json())"
   ],
   "metadata": {
    "collapsed": false,
    "ExecuteTime": {
     "end_time": "2023-11-28T13:08:37.727646500Z",
     "start_time": "2023-11-28T13:08:37.720275300Z"
    }
   },
   "id": "16118dda7de05663"
  },
  {
   "cell_type": "code",
   "execution_count": null,
   "outputs": [],
   "source": [],
   "metadata": {
    "collapsed": false
   },
   "id": "6c691d59b8e9d4a3"
  }
 ],
 "metadata": {
  "kernelspec": {
   "display_name": "Python 3",
   "language": "python",
   "name": "python3"
  },
  "language_info": {
   "codemirror_mode": {
    "name": "ipython",
    "version": 2
   },
   "file_extension": ".py",
   "mimetype": "text/x-python",
   "name": "python",
   "nbconvert_exporter": "python",
   "pygments_lexer": "ipython2",
   "version": "2.7.6"
  }
 },
 "nbformat": 4,
 "nbformat_minor": 5
}
