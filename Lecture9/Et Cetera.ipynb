{
 "cells": [
  {
   "cell_type": "markdown",
   "source": [
    "# Lecture 9\n",
    "- Et Cetera\n",
    "- set\n",
    "- Golbal Variables\n",
    "- Constants\n",
    "- Type Hints\n",
    "- Docstring\n",
    "- argparse\n",
    "- Unpacking\n",
    "- args and kwrgs\n",
    "- map\n",
    "- List Comprehensions\n",
    "- filter\n",
    "- Dictionary Comprehensions\n",
    "- enumerate\n",
    "- Generators and lterators\n",
    "- Congralutions!\n",
    "- This was CS50!"
   ],
   "metadata": {
    "collapsed": false
   },
   "id": "bd4d6ce66936dce2"
  },
  {
   "cell_type": "markdown",
   "source": [
    "## Et Cetera\n",
    "Over the many past lesson, we have covered so much related to Python!\n",
    "In this lesson, we will be focusing upon many of the \"et cetera\" items not previously discussed. \"Et Cetera\" literally means \"and the rest\"!\n",
    "Indeed, if you look at the Python documentation, you will find quite \"the rest\" of other feature."
   ],
   "metadata": {
    "collapsed": false
   },
   "id": "dbee5fe39b734d1b"
  },
  {
   "cell_type": "markdown",
   "source": [
    "## Set\n",
    "In math, a set would be considered a set of numbers without any duplicates."
   ],
   "metadata": {
    "collapsed": false
   },
   "id": "b396d151aa234bae"
  },
  {
   "cell_type": "code",
   "outputs": [],
   "source": [
    "students = [\n",
    "    {\"name\": \"Hermione\", \"house\": \"Gryffindor\"},\n",
    "    {\"name\": \"Harry\", \"house\": \"Gryffindor\"},\n",
    "    {\"name\": \"Ron\", \"house\": \"Gryffindor\"},\n",
    "    {\"name\": \"Draco\", \"house\": \"Slytherin\"},\n",
    "    {\"name\": \"Padma\", \"house\": \"Ravenclaw\"},  # The last comma is ok or not\n",
    "]\n",
    "\n",
    "houses = []\n",
    "for student in students:\n",
    "    if student[\"house\"] not in houses:\n",
    "        houses.append(student[\"house\"])\n",
    "\n",
    "for house in houses:\n",
    "    print(house)"
   ],
   "metadata": {
    "collapsed": false
   },
   "id": "409fa7eb492539fd",
   "execution_count": null
  },
  {
   "cell_type": "markdown",
   "source": [
    "Notice how we have a list of dictionaries, each being a student. An empty list caled `houses` is created. We iterate through each `student` in `students`. If a student's `house` is not in `houses`, we append to our list of `houses`.\n",
    "\n",
    "It turns out we can use the built-in `set` features to eliminate duplicates."
   ],
   "metadata": {
    "collapsed": false
   },
   "id": "a7c7dd0d98193161"
  },
  {
   "cell_type": "code",
   "outputs": [],
   "source": [
    "students = [\n",
    "    {\"name\": \"Hermione\", \"house\": \"Gryffindor\"},\n",
    "    {\"name\": \"Harry\", \"house\": \"Gryffindor\"},\n",
    "    {\"name\": \"Ron\", \"house\": \"Gryffindor\"},\n",
    "    {\"name\": \"Draco\", \"house\": \"Slytherin\"},\n",
    "    {\"name\": \"Padma\", \"house\": \"Ravenclaw\"},  # The last comma is ok or not\n",
    "]\n",
    "\n",
    "house = set()\n",
    "for student in students:\n",
    "    house.add(student[\"house\"])\n",
    "\n",
    "for house in sorted(houses):\n",
    "    print(house)"
   ],
   "metadata": {
    "collapsed": false
   },
   "id": "f5fd0283ba373c4e",
   "execution_count": null
  },
  {
   "cell_type": "markdown",
   "source": [
    "Notice how no checking needs to be included to ensure there are no duplicates. The `set` object takes care of this for us automatically.\n",
    "\n",
    "See more in [set](https://docs.python.org/3/library/stdtypes.html#set)"
   ],
   "metadata": {
    "collapsed": false
   },
   "id": "55cb8ddd1d941487"
  },
  {
   "cell_type": "markdown",
   "source": [
    "## Global Variables\n",
    "In other programming languages, there is the notion of global variables that are accessible to any function.\n",
    "We can leverage this ability within Python. Code as follows:"
   ],
   "metadata": {
    "collapsed": false
   },
   "id": "b9935e633a052a74"
  },
  {
   "cell_type": "code",
   "outputs": [],
   "source": [
    "balance = 0\n",
    "\n",
    "\n",
    "def main():\n",
    "    print(\"Balance:\", balance)\n",
    "\n",
    "\n",
    "if __name__ == '__main__':\n",
    "    main()"
   ],
   "metadata": {
    "collapsed": false
   },
   "id": "3893c5a169a00ea",
   "execution_count": null
  },
  {
   "cell_type": "markdown",
   "source": [
    "Notice how we create a gobal variable called `balance`, outside of any function.\n",
    "\n",
    "Since no error are preasted by executing the code above, you'd think all is well. However, it is not! Code as follows:"
   ],
   "metadata": {
    "collapsed": false
   },
   "id": "d08f0fe5490a92bb"
  },
  {
   "cell_type": "code",
   "outputs": [],
   "source": [
    "balance = 0\n",
    "\n",
    "\n",
    "def main():\n",
    "    print(\"Balance:\", balance)\n",
    "    deposit(100)\n",
    "    withdraw(50)\n",
    "    print(\"Balance:\", balance)\n",
    "\n",
    "\n",
    "def deposit(n):\n",
    "    balance += n\n",
    "\n",
    "\n",
    "def withdraw(n):\n",
    "    balance -= n\n",
    "\n",
    "\n",
    "if __name__ == '__main__':\n",
    "    main()"
   ],
   "metadata": {
    "collapsed": false
   },
   "id": "c201ae327204ff00",
   "execution_count": null
  },
  {
   "cell_type": "markdown",
   "source": [
    "Notice how we now add the functionality to add and withdraw funds to and from `balance`. However, executing this code, we see an error called `UnboundLocalError`. You might be able to guess that, at least in the way we've currently coded `balance` and our `deposit` and withdraw functions, we can't reassign it a value inside a function.\n",
    "\n",
    "To interact with a global variable inside a function, the solution is to use the `global` keyword. Code as follows;"
   ],
   "metadata": {
    "collapsed": false
   },
   "id": "3c06c9629ee84cff"
  },
  {
   "cell_type": "code",
   "outputs": [],
   "source": [
    "balance = 0\n",
    "\n",
    "\n",
    "def main():\n",
    "    print(\"Balance:\", balance)\n",
    "    deposit(100)\n",
    "    withdraw(50)\n",
    "    print(\"Balance:\", balance)\n",
    "\n",
    "\n",
    "def deposit(n):\n",
    "    global balance\n",
    "    balance += n\n",
    "\n",
    "\n",
    "def withdraw(n):\n",
    "    global balance\n",
    "    balance -= n\n",
    "\n",
    "\n",
    "if __name__ == '__main__':\n",
    "    main()"
   ],
   "metadata": {
    "collapsed": false
   },
   "id": "96e259d710fa2eb0",
   "execution_count": null
  },
  {
   "cell_type": "markdown",
   "source": [
    "Notice how the `global` keyword tell each function that `balance` does not refer to a local variable: instead, it refers to the global variable we originally placed at top of our code. Now, our code funcitons!\n",
    "\n",
    "Utilizing our powers from our experience with object-oriented programming, we can modify our code to use a class of global variable. Code as follows:"
   ],
   "metadata": {
    "collapsed": false
   },
   "id": "d95a14589bc59882"
  },
  {
   "cell_type": "code",
   "outputs": [],
   "source": [
    "class Accout:\n",
    "    def __init__(self):\n",
    "        self._balance = 0\n",
    "\n",
    "    @property\n",
    "    def balance(self):\n",
    "        return self._balance\n",
    "\n",
    "    def deposit(self, n):\n",
    "        self._balance += n\n",
    "\n",
    "    def withdraw(self, n):\n",
    "        self._balance -= n\n",
    "\n",
    "\n",
    "def main():\n",
    "    account = Accout()\n",
    "    print(\"Balance:\", account.balance)\n",
    "    account.deposit(100)\n",
    "    account.withdraw(50)\n",
    "    print(\"Balance:\", account.balance)\n",
    "\n",
    "\n",
    "if __name__ == '__main__':\n",
    "    main()"
   ],
   "metadata": {
    "collapsed": false
   },
   "id": "f4e83a81140b6de5",
   "execution_count": null
  },
  {
   "cell_type": "markdown",
   "source": [
    "Notice how we use `account = Account()` to cteate an acount. Class allow us to solve this issue of needing a global variable more cleanly because these instance variables are accessible to all the methods of this class utilizing `self`.\n",
    "\n",
    "Generally speaking, global variables should be used quitersparingly, if at all!"
   ],
   "metadata": {
    "collapsed": false
   },
   "id": "17956bab88fc6eea"
  },
  {
   "cell_type": "markdown",
   "source": [
    "## Constants \n",
    "Some languages allow you to create variable that are unchangeable, called \"constant\". Constants allow one to program defensively and reduce the oppportunities for important values to be altered.\n",
    "\n",
    "Code as follows:"
   ],
   "metadata": {
    "collapsed": false
   },
   "id": "6eb07d32d8d9fb3e"
  },
  {
   "cell_type": "code",
   "outputs": [],
   "source": [
    "MEOWS = 3\n",
    "\n",
    "for _ in range(MEOWS):\n",
    "    print(\"meow\")"
   ],
   "metadata": {
    "collapsed": false
   },
   "id": "65e9936e759b2de6",
   "execution_count": null
  },
  {
   "cell_type": "markdown",
   "source": [
    "Notice `MEOWS` is out constant in this case. Constants are typically denoted by capital variable names and are palced at the top our code. Thorough this *looks* a constant, in reality, Python actually has no mechanism to prevent us from changing that value within our code! Instead, you're on the honor system: if a variable name is written in all caps, just don't change it.\n",
    "\n",
    "One can create a class \"constant\", now in quotes because we konw Python doesn't quite support \"constants\". Code as follows:"
   ],
   "metadata": {
    "collapsed": false
   },
   "id": "aabd2df523307a14"
  },
  {
   "cell_type": "code",
   "outputs": [],
   "source": [
    "class Cat:\n",
    "    MEOWS = 3\n",
    "\n",
    "    def meow(self):\n",
    "        for _ in range(MEOWS):\n",
    "            print(\"meow\")\n",
    "\n",
    "\n",
    "cat = Cat()\n",
    "cat.meow()"
   ],
   "metadata": {
    "collapsed": false
   },
   "id": "54504d1281ce9162",
   "execution_count": null
  },
  {
   "cell_type": "markdown",
   "source": [
    "Because `MEOWS` is defined out side of any particular class method, all of them have access to that the value via `Cat.MEOWS`."
   ],
   "metadata": {
    "collapsed": false
   },
   "id": "52053c92f22c4258"
  },
  {
   "cell_type": "markdown",
   "source": [
    "## Type Hints\n",
    "\n",
    "In other programming languages, one expresses explicitly what variable type you want to use.\n",
    "\n",
    "As we saw earlier in the courses, Python does not require the explicit declaration of types.\n",
    "\n",
    "Nevertheless, it's good practice need to ensure all of  your variables are of the right type.\n",
    "\n",
    "`mypy` is a program that can help you test to make sure all  your variables are of the right type.\n",
    "\n",
    "You can install `mypy` by executing in your terminal window: `pip install mypy`."
   ],
   "metadata": {
    "collapsed": false
   },
   "id": "92c2c70d51857a"
  },
  {
   "cell_type": "code",
   "outputs": [],
   "source": [
    "def meow(n):\n",
    "    for _ in range(n):\n",
    "        print(\"meow\")\n",
    "\n",
    "\n",
    "number = input(\"Number: \")\n",
    "meow(number)"
   ],
   "metadata": {
    "collapsed": false
   },
   "id": "dfbb10598e84370b",
   "execution_count": null
  },
  {
   "cell_type": "markdown",
   "source": [
    "You may already see that `number = input()` returns a `string`, not an `int`. But `meow` will likely wnat an `int`!\n",
    "\n",
    "A type hint can be added to give Python a hint of what type of variable `meow` should expect. "
   ],
   "metadata": {
    "collapsed": false
   },
   "id": "7a10d49efec0a6e2"
  },
  {
   "cell_type": "code",
   "outputs": [],
   "source": [
    "def meow(n: int) -> None:\n",
    "    for _ in range(n):\n",
    "        print(\"meow\")\n",
    "\n",
    "\n",
    "number = input(\"Number: \")\n",
    "meow(number)"
   ],
   "metadata": {
    "collapsed": false
   },
   "id": "79f4bc0cace3b8d2",
   "execution_count": null
  },
  {
   "cell_type": "markdown",
   "source": [
    "Notice, though, that our program still throws an error.\n",
    "\n",
    "After installing `mypy`, execute `mypy meow.py` in the terminal window. `mypy` will provide some guidance about how to fix this error.\n",
    "\n",
    "You can anotate all your variables. In the text editor window, code as follows:"
   ],
   "metadata": {
    "collapsed": false
   },
   "id": "753ce3302bf33b5"
  },
  {
   "cell_type": "code",
   "outputs": [],
   "source": [
    "def meow(n: int) -> None:\n",
    "    for _ in range(n):\n",
    "        print(\"meow\")\n",
    "\n",
    "\n",
    "number: int = int(input(\"Number: \"))\n",
    "meow(number)"
   ],
   "metadata": {
    "collapsed": false
   },
   "id": "2eecf2a35181407d",
   "execution_count": null
  },
  {
   "cell_type": "markdown",
   "source": [
    "Notice how `number` is now provided a type hint.\n",
    "\n",
    "Again, executing `mypy meow.py`."
   ],
   "metadata": {
    "collapsed": false
   },
   "id": "f6247fbfaf3eb8c3"
  },
  {
   "cell_type": "markdown",
   "source": [
    "Let's introduce a new error by assuming that `meow` will return to us a string, or `str`. In the text editor window, code as follows:"
   ],
   "metadata": {
    "collapsed": false
   },
   "id": "c879fbc3cdf0afe4"
  },
  {
   "cell_type": "code",
   "outputs": [
    {
     "name": "stdout",
     "output_type": "stream",
     "text": [
      "meow\n",
      "None\n"
     ]
    }
   ],
   "source": [
    "def meow(n: int) -> None:\n",
    "    for _ in range(n):\n",
    "        print(\"meow\")\n",
    "\n",
    "\n",
    "number: int = int(input(\"Number: \"))\n",
    "meow: str = meow(number)  # `meow(n) returns None.\n",
    "print(meow)"
   ],
   "metadata": {
    "collapsed": false,
    "ExecuteTime": {
     "end_time": "2024-04-20T07:10:31.404123Z",
     "start_time": "2024-04-20T07:10:30.303975Z"
    }
   },
   "id": "82961534e58c20df",
   "execution_count": 16
  },
  {
   "cell_type": "markdown",
   "source": [
    "Notice how the meow function has only a side effect. Because we only attempt to print “meow”, not return a value, an error is thrown when we try to store the return value of meow in meows.\n",
    "\n",
    "We can further use type hints to check for errors, this time annotating the return values of functions. In the text editor window, code as follows:"
   ],
   "metadata": {
    "collapsed": false
   },
   "id": "6671f7bf2ca8280b"
  },
  {
   "cell_type": "code",
   "outputs": [
    {
     "name": "stdout",
     "output_type": "stream",
     "text": [
      "meow\n",
      "meow\n",
      "meow\n",
      "None\n"
     ]
    }
   ],
   "source": [
    "def meow(n: int) -> None:\n",
    "    for _ in range(n):\n",
    "        print(\"meow\")\n",
    "\n",
    "\n",
    "number: int = int(input(\"Number: \"))\n",
    "meow: str = meow(number)  # `meow(n) returns None.\n",
    "print(meow)"
   ],
   "metadata": {
    "collapsed": false,
    "ExecuteTime": {
     "end_time": "2024-04-20T07:13:32.065920Z",
     "start_time": "2024-04-20T07:13:30.545997Z"
    }
   },
   "id": "5001d6e8011e4aec",
   "execution_count": 17
  },
  {
   "cell_type": "markdown",
   "source": [
    "Notice how the notation `-> None` tells mypy that there is no return value.\n",
    "\n",
    "We can modify our code to return a string if we wish:"
   ],
   "metadata": {
    "collapsed": false
   },
   "id": "cc065745725c3435"
  },
  {
   "cell_type": "code",
   "outputs": [
    {
     "name": "stdout",
     "output_type": "stream",
     "text": [
      "meow\n",
      "meow\n",
      "meow\n"
     ]
    }
   ],
   "source": [
    "def meow(n: int) -> str:\n",
    "    return f\"meow\\n\" * n\n",
    "\n",
    "\n",
    "number: int = int(input(\"Number: \"))\n",
    "meow: str = meow(number)  # `meow(n) returns None.\n",
    "print(meow, end=\"\")"
   ],
   "metadata": {
    "collapsed": false,
    "ExecuteTime": {
     "end_time": "2024-04-20T07:17:58.274018Z",
     "start_time": "2024-04-20T07:17:57.266389Z"
    }
   },
   "id": "d647b5542a3d2f9f",
   "execution_count": 39
  },
  {
   "cell_type": "markdown",
   "source": [
    "See more in [type hint](https://docs.python.org/3/library/typing.html)\n",
    "And [mypy](https://mypy.readthedocs.io/)"
   ],
   "metadata": {
    "collapsed": false
   },
   "id": "1debc888bc72b74b"
  },
  {
   "cell_type": "markdown",
   "source": [
    "## Docstrings\n",
    "\n",
    "A standard way of commenting your function's prupose is to use a docstring. \n",
    "\n",
    "Code as follows:"
   ],
   "metadata": {
    "collapsed": false
   },
   "id": "841673a7e6ddd3fd"
  },
  {
   "cell_type": "code",
   "outputs": [],
   "source": [
    "def meow(n: int) -> str:\n",
    "    \"\"\"Meow n times.\"\"\"\n",
    "    return f\"meow\\n\" * n\n",
    "\n",
    "\n",
    "number: int = int(input(\"Number: \"))\n",
    "meow: str = meow(number)  # `meow(n) returns None.\n",
    "print(meow, end=\"\")"
   ],
   "metadata": {
    "collapsed": false
   },
   "id": "6a73672b0bb68b71"
  },
  {
   "cell_type": "markdown",
   "source": [
    "Notice how the three double quotes designate what the function does.\n",
    "\n",
    "You can use docstrings to standardize how you document the features of a function. \n",
    "\n",
    "Code as follows:"
   ],
   "metadata": {
    "collapsed": false
   },
   "id": "6aed878c5fc54819"
  },
  {
   "cell_type": "code",
   "outputs": [],
   "source": [
    "def meow(n: int) -> str:\n",
    "    \"\"\"\n",
    "    Meow n times.\n",
    "    \n",
    "    :param n: Number of times to meow\n",
    "    :type n: int\n",
    "    :raise TypeError: If n is not an int\n",
    "    :return: A string of n meows, one per line\n",
    "    :rtype: str\n",
    "    \"\"\"\n",
    "    return f\"meow\\n\" * n\n",
    "\n",
    "\n",
    "number: int = int(input(\"Number: \"))\n",
    "meow: str = meow(number)  # `meow(n) returns None.\n",
    "print(meow, end=\"\")"
   ],
   "metadata": {
    "collapsed": false
   },
   "id": "70aa09a241858648"
  },
  {
   "cell_type": "markdown",
   "source": [
    "Notice how multiple docstring arguments are included. For example, it describes the parameters taken by function and waht is returnied by function.\n",
    "\n",
    "Enstablished tools, such as [Sphins](https://www.sphinx-doc.org/en/master/index.html), can be used to parse docstrings and automatically create documentation for us in the form of web pages and PDF files such that you can publish and share with others.\n",
    "\n",
    "You can learn more in Python's documentation of [docstring](https://peps.python.org/pep-0257/)"
   ],
   "metadata": {
    "collapsed": false
   },
   "id": "4b6e5eebc57f9ac7"
  },
  {
   "cell_type": "markdown",
   "source": [
    "## argparse\n",
    "\n",
    "Suppose we want to use command-line arguments in our program. In the text editor window, code as follows:"
   ],
   "metadata": {
    "collapsed": false
   },
   "id": "9a5446ca93fdab7"
  },
  {
   "cell_type": "code",
   "outputs": [
    {
     "name": "stdout",
     "output_type": "stream",
     "text": [
      "Usage: meows.py [-n NUMBER]\n"
     ]
    }
   ],
   "source": [
    "import sys\n",
    "\n",
    "if len(sys.argv) == 1:\n",
    "    print(\"meow\")\n",
    "elif len(sys.argv) == 3 and sys.argv[1] == \"-n\":\n",
    "    n = int(sys.argv[2])\n",
    "    for _ in range(n):\n",
    "        print(\"meow\")\n",
    "else:\n",
    "    print(\"Usage: meows.py [-n NUMBER]\")\n"
   ],
   "metadata": {
    "collapsed": false,
    "ExecuteTime": {
     "end_time": "2024-04-20T07:31:27.298906Z",
     "start_time": "2024-04-20T07:31:27.292857Z"
    }
   },
   "id": "8315e5bd6f0045b0",
   "execution_count": 40
  },
  {
   "cell_type": "markdown",
   "source": [
    "Notice how `sys` is imported, from which we get access to `sys.argv`--an array of command-line arguments given to our program when run. We can use several `if` statements to check whether the user has run our program properly.\n",
    "\n",
    "Let's assum that this program will be getting much more complicated. How could we cheack all arguments that could be inserted by the user? We might give up if we have more than a few command-line argument!\n",
    "\n",
    "Luckily, `argparse` is a library that handle all the parsing of complicated string of the command-line arguments.\n",
    "\n",
    "Code as follows:"
   ],
   "metadata": {
    "collapsed": false
   },
   "id": "7a5b49342f3b26e9"
  },
  {
   "cell_type": "code",
   "outputs": [
    {
     "name": "stderr",
     "output_type": "stream",
     "text": [
      "usage: ipykernel_launcher.py [-h] [-n N]\n",
      "ipykernel_launcher.py: error: unrecognized arguments: -f C:\\Users\\JayZh\\AppData\\Roaming\\jupyter\\runtime\\kernel-afc48409-f03b-4b0f-bb6c-7b0a294ce241.json\n"
     ]
    },
    {
     "ename": "SystemExit",
     "evalue": "2",
     "output_type": "error",
     "traceback": [
      "An exception has occurred, use %tb to see the full traceback.\n",
      "\u001B[1;31mSystemExit\u001B[0m\u001B[1;31m:\u001B[0m 2\n"
     ]
    }
   ],
   "source": [
    "import argparse\n",
    "\n",
    "parser = argparse.ArgumentParser()\n",
    "parser.add_argument(\"-n\")\n",
    "args = parser.parse_args()\n",
    "\n",
    "for _ in range(int(args.n)):\n",
    "    print(\"meow\")\n"
   ],
   "metadata": {
    "collapsed": false,
    "ExecuteTime": {
     "end_time": "2024-04-20T07:44:39.575737Z",
     "start_time": "2024-04-20T07:44:39.567610Z"
    }
   },
   "id": "17debd08e27c9aae",
   "execution_count": 42
  },
  {
   "cell_type": "markdown",
   "source": [
    "Notice how `argparse` is imported instead of `sys`. An object called `parser` is created from an `ArgumentParser` class. The class `ArgumentParser`'s `add_argument` method is used to tell `argparse` what is expected from user when they run the program. Finally, running `parse_args` to ensure all arguments have been included properly by user.\n",
    "\n",
    "We can also program more cleanly, such that our user can get some information about the proper usage of our code when they fail to run our program correctly."
   ],
   "metadata": {
    "collapsed": false
   },
   "id": "ab19fcf4afb015d5"
  },
  {
   "cell_type": "code",
   "outputs": [],
   "source": [
    "import argparse\n",
    "\n",
    "parser = argparse.ArgumentParser(description=\"Meow like a cat\")\n",
    "parser.add_argument(\"-n\", help=\"number of times to meow\")\n",
    "args = parser.parse_args()\n",
    "\n",
    "for _ in range(int(args.n)):\n",
    "    print(\"meow\")"
   ],
   "metadata": {
    "collapsed": false
   },
   "id": "bfefd50830fd15d6"
  },
  {
   "cell_type": "markdown",
   "source": [
    "Notice how the user is provided some documentation. Speciffically, a argument `help` is provided. If the uesr run `python meow.py --help` or `python meow.py -h`, the user will be presented some clues about how to use this program.\n",
    "\n",
    "We can further improve our code. Code as follows:"
   ],
   "metadata": {
    "collapsed": false
   },
   "id": "f9354d5e1c169829"
  },
  {
   "cell_type": "code",
   "outputs": [],
   "source": [
    "import argparse\n",
    "\n",
    "parser = argparse.ArgumentParser(description=\"Meow like a cat\")\n",
    "parser.add_argument(\"-a\", default=1, help=\"number of times to meow\", type=int)\n",
    "args = parser.parse_args()\n",
    "\n",
    "for _ in range(int(args.a)):\n",
    "    print(\"meow\")"
   ],
   "metadata": {
    "collapsed": false
   },
   "id": "994167cb684d7489"
  },
  {
   "cell_type": "markdown",
   "source": [
    "Notice how not only is help documentation included, but you can provide a `default` value when no argument are provided by user.\n",
    "\n",
    "You can learn more in Python's documentation of [argparse](https://docs.python.org/3/library/argparse.html)"
   ],
   "metadata": {
    "collapsed": false
   },
   "id": "2310e366101a93d6"
  },
  {
   "cell_type": "markdown",
   "source": [
    "## Unpacking\n",
    "\n",
    "Would it not be nice to be able to split a single variable into two variable? In the text editor window, code as follows:"
   ],
   "metadata": {
    "collapsed": false
   },
   "id": "d30aae614bd5a1f2"
  },
  {
   "cell_type": "code",
   "outputs": [
    {
     "name": "stdout",
     "output_type": "stream",
     "text": [
      "hello, jay\n"
     ]
    }
   ],
   "source": [
    "frist, _ = input(\"What's your name? \").split(\" \")\n",
    "print(f\"hello, {frist}\")"
   ],
   "metadata": {
    "collapsed": false,
    "ExecuteTime": {
     "end_time": "2024-04-20T08:13:48.115595Z",
     "start_time": "2024-04-20T08:13:42.745590Z"
    }
   },
   "id": "d3098feed3c73be2",
   "execution_count": 43
  },
  {
   "cell_type": "markdown",
   "source": [
    "Notice how this program tries to get a user's first name by naively split on a single space.\n",
    "\n",
    "It truns out there are other way to unpack variables. You can write more elegant and powerful by understanding how to unpack variables in seemingly more advanced ways. Code as follows:"
   ],
   "metadata": {
    "collapsed": false
   },
   "id": "f3a917dd066dd61c"
  },
  {
   "cell_type": "code",
   "outputs": [
    {
     "name": "stdout",
     "output_type": "stream",
     "text": [
      "50775 Knuts\n"
     ]
    }
   ],
   "source": [
    "def total(galleons, sickles, kunts):\n",
    "    return (galleons * 17 + sickles) * 29 + kunts\n",
    "\n",
    "\n",
    "print(total(100, 50, 25), \"Knuts\")"
   ],
   "metadata": {
    "collapsed": false,
    "ExecuteTime": {
     "end_time": "2024-04-20T08:18:30.312097Z",
     "start_time": "2024-04-20T08:18:30.302180Z"
    }
   },
   "id": "5de73df83f2b904e",
   "execution_count": 44
  },
  {
   "cell_type": "markdown",
   "source": [
    "Notice how this returns the total values of Knuts.\n",
    "\n",
    "What if we wanted to store our coin in a list? Code as follows:"
   ],
   "metadata": {
    "collapsed": false
   },
   "id": "e0b2a6a960d6793f"
  },
  {
   "cell_type": "code",
   "outputs": [
    {
     "name": "stdout",
     "output_type": "stream",
     "text": [
      "50775 Knuts\n"
     ]
    }
   ],
   "source": [
    "def total(galleons, sickles, kunts):\n",
    "    return (galleons * 17 + sickles) * 29 + kunts\n",
    "\n",
    "\n",
    "coins = [100, 50, 25]\n",
    "\n",
    "print(total(coins[0], coins[1], coins[2]), \"Knuts\")"
   ],
   "metadata": {
    "collapsed": false,
    "ExecuteTime": {
     "end_time": "2024-04-20T08:21:06.540310Z",
     "start_time": "2024-04-20T08:21:06.534136Z"
    }
   },
   "id": "fe879e3504aedf6",
   "execution_count": 45
  },
  {
   "cell_type": "markdown",
   "source": [
    "Notice how a list called `coins` is created. We can pass each value in by indexing using `0`, `1`, and so on.\n",
    "\n",
    "This is getting quite verbose. Wouldn't it be nice if we simply pass the list of coin to our function?\n",
    "\n",
    "To enable the ability to pass the entire list, we can use unpacking.\n",
    "\n",
    "Code as follows:"
   ],
   "metadata": {
    "collapsed": false
   },
   "id": "9fbbd85c68a226dc"
  },
  {
   "cell_type": "code",
   "outputs": [
    {
     "name": "stdout",
     "output_type": "stream",
     "text": [
      "50775 Kntus\n"
     ]
    }
   ],
   "source": [
    "def total(galleons, sickles, kunts):\n",
    "    return (galleons * 17 + sickles) * 29 + kunts\n",
    "\n",
    "\n",
    "coins = [100, 50, 25]\n",
    "\n",
    "print(total(*coins), \"Kntus\")"
   ],
   "metadata": {
    "collapsed": false,
    "ExecuteTime": {
     "end_time": "2024-04-20T08:24:57.529732Z",
     "start_time": "2024-04-20T08:24:57.525443Z"
    }
   },
   "id": "e92b802137f0578c",
   "execution_count": 46
  },
  {
   "cell_type": "markdown",
   "source": [
    "Notice how a `*` unpacks the sequence of list of coins and passes in each of its individual elements to total.\n",
    "\n",
    "Suppose we can pass in the names of currency in any order? "
   ],
   "metadata": {
    "collapsed": false
   },
   "id": "d8f4362d3dbcf2f1"
  },
  {
   "cell_type": "code",
   "outputs": [
    {
     "name": "stdout",
     "output_type": "stream",
     "text": [
      "50775 Kunts\n"
     ]
    }
   ],
   "source": [
    "def total(galleons, sickles, kunts):\n",
    "    return (galleons * 17 + sickles) * 29 + kunts\n",
    "\n",
    "\n",
    "print(total(galleons=100, sickles=50, kunts=25), \"Kunts\")"
   ],
   "metadata": {
    "collapsed": false,
    "ExecuteTime": {
     "end_time": "2024-04-20T08:27:55.056804Z",
     "start_time": "2024-04-20T08:27:55.050902Z"
    }
   },
   "id": "a1d3dbbf3df911ae",
   "execution_count": 47
  },
  {
   "cell_type": "markdown",
   "source": [
    "Notice how is still calculate correctly.\n",
    "\n",
    "When you start talking about \"name\" and \"value\", dictionarier might come to mind! You can implement this as a dictionary.\n",
    "Code as follows:"
   ],
   "metadata": {
    "collapsed": false
   },
   "id": "cd901b4a4aced78"
  },
  {
   "cell_type": "code",
   "outputs": [
    {
     "name": "stdout",
     "output_type": "stream",
     "text": [
      "50775 Knuts\n"
     ]
    }
   ],
   "source": [
    "def total(galleons, sickles, knuts):\n",
    "    return (galleons * 17 + sickles) * 29 + knuts\n",
    "\n",
    "\n",
    "coins = {\"galleons\": 100, \"sickles\": 50, \"knuts\": 25}\n",
    "\n",
    "print(total(coins[\"galleons\"], coins[\"sickles\"], coins[\"knuts\"]), \"Knuts\")"
   ],
   "metadata": {
    "collapsed": false,
    "ExecuteTime": {
     "end_time": "2024-04-20T08:32:18.968759Z",
     "start_time": "2024-04-20T08:32:18.963124Z"
    }
   },
   "id": "f1a8389b0e76bf63",
   "execution_count": 50
  },
  {
   "cell_type": "markdown",
   "source": [
    "Notice how a dictionary is provided. We index into it using keys, such as \"galleons\" or \"sicklws\".\n",
    "\n",
    "Since the `total` function expect three arguments, we can't pass in a dictionary. We can use unpacking to help with this.\n",
    "\n",
    "Code as follows:\n"
   ],
   "metadata": {
    "collapsed": false
   },
   "id": "fb28408d8f413bc7"
  },
  {
   "cell_type": "code",
   "outputs": [
    {
     "name": "stdout",
     "output_type": "stream",
     "text": [
      "50775 Kntus\n"
     ]
    }
   ],
   "source": [
    "def total(galleons, sickles, knuts):\n",
    "    return (galleons * 17 + sickles) * 29 + knuts\n",
    "\n",
    "\n",
    "coins = {\"galleons\": 100, \"sickles\": 50, \"knuts\": 25}\n",
    "\n",
    "print(total(**coins), \"Kntus\")"
   ],
   "metadata": {
    "collapsed": false,
    "ExecuteTime": {
     "end_time": "2024-04-20T08:37:03.583387Z",
     "start_time": "2024-04-20T08:37:03.577774Z"
    }
   },
   "id": "d5cace22efff66e",
   "execution_count": 52
  },
  {
   "cell_type": "markdown",
   "source": [
    "Notice how `**` allows you to unpack a dictionary, When unpacking a dictionary, it provides both keys and values."
   ],
   "metadata": {
    "collapsed": false
   },
   "id": "633e762de1e888c1"
  },
  {
   "cell_type": "markdown",
   "source": [
    "## `args` and `kwargs`\n",
    "Recall the `print` function documentation we looked at earlier in this course.\n",
    "\n",
    "`print(*object, sep='', end='\\n', file=sys.stdout, flush=False)`\n",
    "\n",
    "`args` are positional arguments, such as those we provided to print like `print(\"Hello, World\")`.\n",
    "\n",
    "`kwargs` are named argument, or \"keyword argument\", such as those we provided to print like `pring(end=\"\")`.\n",
    "\n",
    "As we seein the prototype for the `print` function above, we can tell our funciton to expect a presently unknown number positional argumrnt. We can also tell it to expect a presently unknown unmber of keyword arguments. \n",
    "\n",
    "Code as follows:"
   ],
   "metadata": {
    "collapsed": false
   },
   "id": "8381988a48e6c119"
  },
  {
   "cell_type": "code",
   "outputs": [
    {
     "name": "stdout",
     "output_type": "stream",
     "text": [
      "Positonal: (100, 50, 25)\n"
     ]
    }
   ],
   "source": [
    "def f(*args, **kwargs):\n",
    "    print(\"Positonal:\", args)\n",
    "\n",
    "\n",
    "f(100, 50, 25)"
   ],
   "metadata": {
    "collapsed": false,
    "ExecuteTime": {
     "end_time": "2024-04-20T08:47:21.676748Z",
     "start_time": "2024-04-20T08:47:21.670054Z"
    }
   },
   "id": "7d7b802019b34122",
   "execution_count": 53
  },
  {
   "cell_type": "markdown",
   "source": [
    "Notice how executing this code will be printed as positonal arguments.\n",
    "\n",
    "We can even pass in named argument. \n",
    "\n",
    "Code as follows:"
   ],
   "metadata": {
    "collapsed": false
   },
   "id": "8ffd4506dc8f4fef"
  },
  {
   "cell_type": "code",
   "outputs": [
    {
     "name": "stdout",
     "output_type": "stream",
     "text": [
      "Named: {'galleons': 100, 'sickles': 50, 'knuts': 25}\n"
     ]
    }
   ],
   "source": [
    "def f(*arg, **kwargs):\n",
    "    print(\"Named:\", kwargs)\n",
    "\n",
    "\n",
    "f(galleons=100, sickles=50, knuts=25)"
   ],
   "metadata": {
    "collapsed": false,
    "ExecuteTime": {
     "end_time": "2024-04-20T08:49:59.889315Z",
     "start_time": "2024-04-20T08:49:59.885456Z"
    }
   },
   "id": "6426202299462974",
   "execution_count": 54
  },
  {
   "cell_type": "markdown",
   "source": [
    "Notice how the named values are provided in the form of a dictionary.\n",
    "\n",
    "Thinking about the `print` function above, you can see how `*object` takes **any number of positional arguments**.\n",
    "\n",
    "You can learn more in Python's documentation of [print](https://docs.python.org/3/library/functions.html#print)"
   ],
   "metadata": {
    "collapsed": false
   },
   "id": "ec4ed42f3479c3ee"
  },
  {
   "cell_type": "markdown",
   "source": [
    "## map\n",
    "Earliy on, we began with procedural programming.\n",
    "\n",
    "We later revealed Python is an object-oriented programming language.\n",
    "\n",
    "We saw hint of functional programming, where functions have side effects without a return value. We can illustrate this in the text editor window, type `code yell.py` and code as follows:"
   ],
   "metadata": {
    "collapsed": false
   },
   "id": "daa55b27c5f643ed"
  },
  {
   "cell_type": "code",
   "outputs": [
    {
     "name": "stdout",
     "output_type": "stream",
     "text": [
      "THIS IS CS50\n"
     ]
    }
   ],
   "source": [
    "def main():\n",
    "    yell(\"This is CS50\")\n",
    "\n",
    "\n",
    "def yell(word):\n",
    "    print(word.upper())\n",
    "\n",
    "\n",
    "if __name__ == '__main__':\n",
    "    main()"
   ],
   "metadata": {
    "collapsed": false,
    "ExecuteTime": {
     "end_time": "2024-04-20T08:56:27.958122Z",
     "start_time": "2024-04-20T08:56:27.953611Z"
    }
   },
   "id": "b72fe6a1ca55b144",
   "execution_count": 56
  },
  {
   "cell_type": "markdown",
   "source": [
    "Notice how the `yell` function yelled.\n",
    "\n",
    "Wouldn't it be nice to yell a list of unlimited words?\n",
    "Modify code as follows:"
   ],
   "metadata": {
    "collapsed": false
   },
   "id": "fb5a373af8756256"
  },
  {
   "cell_type": "code",
   "outputs": [
    {
     "name": "stdout",
     "output_type": "stream",
     "text": [
      "THIS IS CS50\n"
     ]
    }
   ],
   "source": [
    "def main():\n",
    "    yell([\"This\", \"is\", \"CS50\"])\n",
    "\n",
    "\n",
    "def yell(words):\n",
    "    uppercased = []\n",
    "    for word in words:\n",
    "        uppercased.append(word.upper())\n",
    "    print(*uppercased)\n",
    "\n",
    "\n",
    "if __name__ == '__main__':\n",
    "    main()"
   ],
   "metadata": {
    "collapsed": false,
    "ExecuteTime": {
     "end_time": "2024-04-20T08:59:50.747948Z",
     "start_time": "2024-04-20T08:59:50.740405Z"
    }
   },
   "id": "5f329a9f7a22ada9",
   "execution_count": 57
  },
  {
   "cell_type": "markdown",
   "source": [
    "Notice we accumulate the uppercase words, iterating over each of the words and uppercase them. The uppercase list is printed utilizing the `*` to unpack it.\n",
    "\n",
    "Removing the brackets, we can pass the words in as arguments. In the text editor window, code as follows:"
   ],
   "metadata": {
    "collapsed": false
   },
   "id": "d8ea07caa5b66c95"
  },
  {
   "cell_type": "code",
   "outputs": [
    {
     "name": "stdout",
     "output_type": "stream",
     "text": [
      "THIS IS CS50\n"
     ]
    }
   ],
   "source": [
    "def main():\n",
    "    yell(\"This\", \"is\", \"CS50\")\n",
    "\n",
    "\n",
    "def yell(*words):\n",
    "    uppercased = []\n",
    "    for word in words:\n",
    "        uppercased.append(word.upper())\n",
    "    print(*uppercased)\n",
    "\n",
    "\n",
    "if __name__ == '__main__':\n",
    "    main()"
   ],
   "metadata": {
    "collapsed": false,
    "ExecuteTime": {
     "end_time": "2024-04-20T09:04:45.177166Z",
     "start_time": "2024-04-20T09:04:45.171477Z"
    }
   },
   "id": "4d6bda7868d749f5",
   "execution_count": 58
  },
  {
   "cell_type": "markdown",
   "source": [
    "Notice how `*words` allows for many arguments to be taken by the function.\n",
    "\n",
    "`map` allows you to map a function to a sequence of values. In pratice, code as follows:"
   ],
   "metadata": {
    "collapsed": false
   },
   "id": "2874f0e8f243ecdb"
  },
  {
   "cell_type": "code",
   "outputs": [
    {
     "name": "stdout",
     "output_type": "stream",
     "text": [
      "THIS IS CS50\n"
     ]
    }
   ],
   "source": [
    "from typing import Literal\n",
    "\n",
    "\n",
    "def main():\n",
    "    yell(\"This\", \"is\", \"CS50\")\n",
    "\n",
    "\n",
    "def yell(*words):\n",
    "    uppercased = map(str.upper, words)\n",
    "    print(*uppercased)\n",
    "\n",
    "\n",
    "if __name__ == '__main__':\n",
    "    main()"
   ],
   "metadata": {
    "collapsed": false,
    "ExecuteTime": {
     "end_time": "2024-04-20T09:14:45.580001Z",
     "start_time": "2024-04-20T09:14:45.576257Z"
    }
   },
   "id": "3797db979cb6e0ef",
   "execution_count": 80
  },
  {
   "cell_type": "markdown",
   "source": [
    "Notice how `map` takes two arguments. First, it takes a function er want applied to every element of a list. Second, it takes that list itself, to which we'll apply the aforementioned function. Hence, all words in `words` will be handed to the `str.upper` funciton and to `uppercased`.\n",
    "\n",
    "You can learn more in Python's documentation of [map](https://docs.python.org/3/library/functions.html#map)"
   ],
   "metadata": {
    "collapsed": false
   },
   "id": "26e73f2609aaaff7"
  },
  {
   "cell_type": "markdown",
   "source": [
    "## List Comperhensions\n",
    "\n",
    "List comprehensions allow you to create a list on the fly in one elegant one-line.\n",
    "\n",
    "Code as follows:"
   ],
   "metadata": {
    "collapsed": false
   },
   "id": "cf99be8b42aadf84"
  },
  {
   "cell_type": "code",
   "outputs": [
    {
     "name": "stdout",
     "output_type": "stream",
     "text": [
      "THIS IS CS50\n"
     ]
    }
   ],
   "source": [
    "def main():\n",
    "    yell(\"This\", \"is\", \"CS50\")\n",
    "\n",
    "\n",
    "def yell(*words):\n",
    "    uppercased = [arg.upper() for arg in words]\n",
    "    print(*uppercased)\n",
    "\n",
    "\n",
    "if __name__ == '__main__':\n",
    "    main()"
   ],
   "metadata": {
    "collapsed": false,
    "ExecuteTime": {
     "end_time": "2024-04-20T09:32:30.843277Z",
     "start_time": "2024-04-20T09:32:30.837411Z"
    }
   },
   "id": "7b83d923170f699c",
   "execution_count": 81
  },
  {
   "cell_type": "markdown",
   "source": [
    "Notice how instead of using `map`, we write a Python expression within square barckets. For each argument, `.upper` is applied to it.\n",
    "\n",
    "Taking this concept further, let's pivot toward another program.\n",
    "\n",
    "Code as follows:"
   ],
   "metadata": {
    "collapsed": false
   },
   "id": "3653a37930a49572"
  },
  {
   "cell_type": "code",
   "outputs": [
    {
     "name": "stdout",
     "output_type": "stream",
     "text": [
      "Hermione\n",
      "Harry\n",
      "Ron\n"
     ]
    }
   ],
   "source": [
    "# gryffindors.py\n",
    "\n",
    "students = [\n",
    "    {\"name\": \"Hermione\", \"house\": \"Gryffindor\"},\n",
    "    {\"name\": \"Harry\", \"house\": \"Gryffindor\"},\n",
    "    {\"name\": \"Ron\", \"house\": \"Gryffindor\"},\n",
    "    {\"name\": \"Draco\", \"house\": \"Slytherin\"},\n",
    "    {\"name\": \"Padma\", \"house\": \"Ravenclaw\"},  # The last comma is ok or not\n",
    "]\n",
    "\n",
    "gryffindors = []\n",
    "for student in students:\n",
    "    if student[\"house\"] == \"Gryffindor\":\n",
    "        gryffindors.append(student[\"name\"])\n",
    "\n",
    "for gryffindor in gryffindors:\n",
    "    print(gryffindor)"
   ],
   "metadata": {
    "collapsed": false,
    "ExecuteTime": {
     "end_time": "2024-04-20T10:37:38.787841Z",
     "start_time": "2024-04-20T10:37:38.777379Z"
    }
   },
   "id": "5439f2d4fb37cff4",
   "execution_count": 82
  },
  {
   "cell_type": "markdown",
   "source": [
    "Notice we have a contional while we're creating our list. *If* the student's house is Gryffindor, we append the student to the list of names. Finally, we print all the name.\n",
    "\n",
    "More elegantly, we can simplify this code with a list comprehension as follows:"
   ],
   "metadata": {
    "collapsed": false
   },
   "id": "d52ad42ea4192485"
  },
  {
   "cell_type": "code",
   "outputs": [
    {
     "name": "stdout",
     "output_type": "stream",
     "text": [
      "Hermione\n",
      "Harry\n",
      "Ron\n"
     ]
    }
   ],
   "source": [
    "students = [\n",
    "    {\"name\": \"Hermione\", \"house\": \"Gryffindor\"},\n",
    "    {\"name\": \"Harry\", \"house\": \"Gryffindor\"},\n",
    "    {\"name\": \"Ron\", \"house\": \"Gryffindor\"},\n",
    "    {\"name\": \"Draco\", \"house\": \"Slytherin\"},\n",
    "    {\"name\": \"Padma\", \"house\": \"Ravenclaw\"},  # The last comma is ok or not\n",
    "]\n",
    "\n",
    "gryffindors = [\n",
    "    student[\"name\"] for student in students if student[\"house\"] == \"Gryffindor\"\n",
    "]\n",
    "\n",
    "for gryffindor in gryffindors:\n",
    "    print(gryffindor)"
   ],
   "metadata": {
    "collapsed": false
   },
   "id": "afcd5b98c8ddcd9d",
   "execution_count": 83
  },
  {
   "cell_type": "markdown",
   "source": [
    "Notice how the list comprehension is on a single line!"
   ],
   "metadata": {
    "collapsed": false
   },
   "id": "4cd25f69105e97"
  },
  {
   "cell_type": "markdown",
   "source": [
    "## filter\n",
    "\n",
    "Using Python's `filter` funciton allows us to return a subset for which a certain condition is true.\n",
    "\n",
    "Code as follows:"
   ],
   "metadata": {
    "collapsed": false
   },
   "id": "112e100f872ac6bc"
  },
  {
   "cell_type": "code",
   "outputs": [
    {
     "name": "stdout",
     "output_type": "stream",
     "text": [
      "Harry\n",
      "Hermione\n",
      "Ron\n"
     ]
    }
   ],
   "source": [
    "students = [\n",
    "    {\"name\": \"Hermione\", \"house\": \"Gryffindor\"},\n",
    "    {\"name\": \"Harry\", \"house\": \"Gryffindor\"},\n",
    "    {\"name\": \"Ron\", \"house\": \"Gryffindor\"},\n",
    "    {\"name\": \"Draco\", \"house\": \"Slytherin\"},\n",
    "    {\"name\": \"Padma\", \"house\": \"Ravenclaw\"},  # The last comma is ok or not\n",
    "]\n",
    "\n",
    "\n",
    "def is_gryffindor(s):\n",
    "    return s[\"house\"] == \"Gryffindor\"\n",
    "\n",
    "\n",
    "gryffindors = filter(is_gryffindor, students)\n",
    "\n",
    "for gryffindor in sorted(gryffindors, key=lambda s: s[\"name\"]):\n",
    "    print(gryffindor[\"name\"])"
   ],
   "metadata": {
    "collapsed": false,
    "ExecuteTime": {
     "end_time": "2024-04-20T10:58:35.446015Z",
     "start_time": "2024-04-20T10:58:35.437262Z"
    }
   },
   "id": "dfaa01044eb5db0a",
   "execution_count": 84
  },
  {
   "cell_type": "markdown",
   "source": [
    "Notice how a function called `is_gryffindor` is created. This is our filtering function that will take a student `s`, and return `True` or `False` depending on whether the student's house is Gryffindor. You can see the new `filter` function takes two argument. First, it takes the function that will be applied to each element in a srquence- in this case, `is _gryffindor`. Second, it takes the sequence to which it willl apply the filtering function--in this case, `student`. In `gryffindors`, we should see only those students who are in Gryffindor.\n",
    "\n",
    "`filter` can also use lambda function follow:"
   ],
   "metadata": {
    "collapsed": false
   },
   "id": "fd2b4f72e6973169"
  },
  {
   "cell_type": "code",
   "outputs": [
    {
     "name": "stdout",
     "output_type": "stream",
     "text": [
      "Harry\n",
      "Hermione\n",
      "Ron\n"
     ]
    }
   ],
   "source": [
    "students = [\n",
    "    {\"name\": \"Hermione\", \"house\": \"Gryffindor\"},\n",
    "    {\"name\": \"Harry\", \"house\": \"Gryffindor\"},\n",
    "    {\"name\": \"Ron\", \"house\": \"Gryffindor\"},\n",
    "    {\"name\": \"Draco\", \"house\": \"Slytherin\"},\n",
    "    {\"name\": \"Padma\", \"house\": \"Ravenclaw\"},  # The last comma is ok or not\n",
    "]\n",
    "\n",
    "gryffindors = filter(lambda s: s[\"house\"] == \"Gryffindor\", students)\n",
    "\n",
    "for gryffindor in sorted(gryffindors, key=lambda s: s[\"name\"]):\n",
    "    print(gryffindor[\"name\"])"
   ],
   "metadata": {
    "collapsed": false,
    "ExecuteTime": {
     "end_time": "2024-04-20T11:04:55.397515Z",
     "start_time": "2024-04-20T11:04:55.390193Z"
    }
   },
   "id": "723e280fdc215ae7",
   "execution_count": 85
  },
  {
   "cell_type": "markdown",
   "source": [
    "Notice how the same list of students is provided.\n",
    "\n",
    "You can learn more in Python's documentation of [filter](https://docs.python.org/3/library/functions.html#filter)"
   ],
   "metadata": {
    "collapsed": false
   },
   "id": "7bd8096f4824ddfb"
  },
  {
   "cell_type": "markdown",
   "source": [
    "## Dictionariy comprehensions\n",
    "\n",
    "We can apply the same idea behind list comprehensions to dictionaries. In the text editor window, code as follows:"
   ],
   "metadata": {
    "collapsed": false
   },
   "id": "e6b07a0547f11567"
  },
  {
   "cell_type": "code",
   "outputs": [
    {
     "name": "stdout",
     "output_type": "stream",
     "text": [
      "[{'name': 'Hermione', 'house': 'Gryffindor'}, {'name': 'Harry', 'house': 'Gryffindor'}, {'name': 'Ron', 'house': 'Gryffindor'}]\n"
     ]
    }
   ],
   "source": [
    "students = [\"Hermione\", \"Harry\", \"Ron\"]\n",
    "\n",
    "gryffindors = []\n",
    "\n",
    "for student in students:\n",
    "    gryffindors.append({\"name\": student, \"house\": \"Gryffindor\"})\n",
    "\n",
    "print(gryffindors)"
   ],
   "metadata": {
    "collapsed": false,
    "ExecuteTime": {
     "end_time": "2024-04-20T11:10:21.457618Z",
     "start_time": "2024-04-20T11:10:21.450499Z"
    }
   },
   "id": "c47dfcdeef656968",
   "execution_count": 86
  },
  {
   "cell_type": "markdown",
   "source": [
    "Notice how this code doesn't(yet!) use any comprehensions. Instead, it follows the same paradigms we have been before.\n",
    "\n",
    "We can now apply dictionary comprehensions by modifying our code as follow:"
   ],
   "metadata": {
    "collapsed": false
   },
   "id": "ad805f7617c64d8f"
  },
  {
   "cell_type": "code",
   "outputs": [
    {
     "name": "stdout",
     "output_type": "stream",
     "text": [
      "[{'name': 'Hermione', 'house': 'Gryffindor'}, {'name': 'Harry', 'house': 'Gryffindor'}, {'name': 'Ron', 'house': 'Gryffindor'}]\n"
     ]
    }
   ],
   "source": [
    "students = [\"Hermione\", \"Harry\", \"Ron\"]\n",
    "\n",
    "# gryffindors = {student: \"Gryffindor\" for student in students}\n",
    "gryffindors = [{\"name\": student, \"house\": \"Gryffindor\"} for student in students]\n",
    "\n",
    "print(gryffindors)"
   ],
   "metadata": {
    "collapsed": false,
    "ExecuteTime": {
     "end_time": "2024-04-20T11:14:53.238411Z",
     "start_time": "2024-04-20T11:14:53.231046Z"
    }
   },
   "id": "90334ae01dff76e0",
   "execution_count": 88
  },
  {
   "cell_type": "markdown",
   "source": [
    "Notice how all the prior code is simplified into a single line where the structure of the dictionary is provided for each `student` in `students`.\n",
    "\n",
    "We can even simplify further as follows:"
   ],
   "metadata": {
    "collapsed": false
   },
   "id": "56db365b7ca27b9"
  },
  {
   "cell_type": "code",
   "outputs": [
    {
     "name": "stdout",
     "output_type": "stream",
     "text": [
      "{'Hermione': 'Gruffindor', 'Harry': 'Gruffindor', 'Ron': 'Gruffindor'}\n"
     ]
    }
   ],
   "source": [
    "students = [\"Hermione\", \"Harry\", \"Ron\"]\n",
    "\n",
    "gryffindors = {student: \"Gruffindor\" for student in students}\n",
    "\n",
    "# gryffindors = {\"name\": student for student in students, \"house\": \"Gryffindor\"}\n",
    "print(gryffindors)"
   ],
   "metadata": {
    "collapsed": false,
    "ExecuteTime": {
     "end_time": "2024-04-20T11:17:32.182935Z",
     "start_time": "2024-04-20T11:17:32.176673Z"
    }
   },
   "id": "b40fcd924b32e0c5",
   "execution_count": 89
  },
  {
   "cell_type": "markdown",
   "source": [
    "Notice how the dictionary will be constructed with key-value pairs."
   ],
   "metadata": {
    "collapsed": false
   },
   "id": "ed81b8056b74aa03"
  },
  {
   "cell_type": "markdown",
   "source": [
    "## enumerate\n",
    "\n",
    "We may wish to provide some ranking of each student. In the text editor window, code as follows:"
   ],
   "metadata": {
    "collapsed": false
   },
   "id": "8d7ff21014ff14ce"
  },
  {
   "cell_type": "code",
   "outputs": [
    {
     "name": "stdout",
     "output_type": "stream",
     "text": [
      "1 Hermione\n",
      "2 Harry\n",
      "3 Ron\n"
     ]
    }
   ],
   "source": [
    "students = [\"Hermione\", \"Harry\", \"Ron\"]\n",
    "\n",
    "for i in range(len(students)):\n",
    "    print(i + 1, students[i])"
   ],
   "metadata": {
    "collapsed": false,
    "ExecuteTime": {
     "end_time": "2024-04-20T11:24:21.802857Z",
     "start_time": "2024-04-20T11:24:21.797958Z"
    }
   },
   "id": "63718ec43ae14d1c",
   "execution_count": 92
  },
  {
   "cell_type": "markdown",
   "source": [
    "Notice how each student is enumerated when running this code.\n",
    "\n",
    "Utilizing enumerate, we can do the same:"
   ],
   "metadata": {
    "collapsed": false
   },
   "id": "9ab0ac09709e43d4"
  },
  {
   "cell_type": "code",
   "outputs": [
    {
     "name": "stdout",
     "output_type": "stream",
     "text": [
      "1 Hermione\n",
      "2 Harry\n",
      "3 Ron\n",
      "1 Hermione\n",
      "2 Harry\n",
      "3 Ron\n"
     ]
    }
   ],
   "source": [
    "students = [\"Hermione\", \"Harry\", \"Ron\"]\n",
    "\n",
    "for i, student in enumerate(students):\n",
    "    print(i + 1, student)\n",
    "\n",
    "for i, student in enumerate(students, start=1):\n",
    "    print(i, student)"
   ],
   "metadata": {
    "collapsed": false,
    "ExecuteTime": {
     "end_time": "2024-04-20T11:29:13.145415Z",
     "start_time": "2024-04-20T11:29:13.140322Z"
    }
   },
   "id": "6c3ae22fb1459c58",
   "execution_count": 95
  },
  {
   "cell_type": "markdown",
   "source": [
    "Notice how enumerate presents the index and the value of each `student`.\n",
    "\n",
    "You cna learn more in Python's documentation of [enumerate](https://docs.python.org/3/library/functions.html#enumerate)"
   ],
   "metadata": {
    "collapsed": false
   },
   "id": "6788fa9abd2cdcef"
  },
  {
   "cell_type": "markdown",
   "source": [
    "## Generators and Iterators\n",
    "\n",
    "In Python, there is a way to protect against your system running out of resources the problems they are addressing become too large.\n",
    "\n",
    "In the United States, it's customary to \"count sheep\" in one's mind when one is having a hard time falling asleep.\n",
    "\n",
    "Code as follows:"
   ],
   "metadata": {
    "collapsed": false
   },
   "id": "9e43f14e3f5d4033"
  },
  {
   "cell_type": "code",
   "outputs": [
    {
     "name": "stdout",
     "output_type": "stream",
     "text": [
      "\n",
      "🐑\n",
      "🐑🐑\n",
      "🐑🐑🐑\n"
     ]
    }
   ],
   "source": [
    "n = int(input(\"What's n?\"))\n",
    "for i in range(n):\n",
    "    print(\"🐑\" * i)"
   ],
   "metadata": {
    "collapsed": false,
    "ExecuteTime": {
     "end_time": "2024-04-20T11:32:42.601969Z",
     "start_time": "2024-04-20T11:32:40.573941Z"
    }
   },
   "id": "aabe1c71755bb85c",
   "execution_count": 96
  },
  {
   "cell_type": "markdown",
   "source": [
    "Notice how this program will count the number of sheep you ask of it.\n",
    "\n",
    "We cna make our program more sophisticated by adding a `main` function by coding as follows:"
   ],
   "metadata": {
    "collapsed": false
   },
   "id": "f4d725c2908de83b"
  },
  {
   "cell_type": "code",
   "outputs": [
    {
     "name": "stdout",
     "output_type": "stream",
     "text": [
      "\n",
      "🐑\n",
      "🐑🐑\n",
      "🐑🐑🐑\n"
     ]
    }
   ],
   "source": [
    "def main():\n",
    "    n = int(input(\"What's n?\"))\n",
    "    for i in range(n):\n",
    "        print(\"🐑\" * i)\n",
    "\n",
    "\n",
    "if __name__ == '__main__':\n",
    "    main()"
   ],
   "metadata": {
    "collapsed": false,
    "ExecuteTime": {
     "end_time": "2024-04-20T11:35:37.531591Z",
     "start_time": "2024-04-20T11:35:35.495804Z"
    }
   },
   "id": "f22610f56bd99ae0",
   "execution_count": 97
  },
  {
   "cell_type": "markdown",
   "source": [
    "Notice how a `main` function is provided.\n",
    "\n",
    "We have been getting into the habit of abstracting away parts of our code.\n",
    "\n",
    "We can call a sheep function by modifying our code as follows:"
   ],
   "metadata": {
    "collapsed": false
   },
   "id": "9229c72d54884cb5"
  },
  {
   "cell_type": "code",
   "outputs": [
    {
     "name": "stdout",
     "output_type": "stream",
     "text": [
      "\n",
      "🐑\n",
      "🐑🐑\n",
      "🐑🐑🐑\n"
     ]
    }
   ],
   "source": [
    "def main():\n",
    "    n = int(input(\"What's n?\"))\n",
    "    for i in range(n):\n",
    "        print(sheep(i))\n",
    "\n",
    "\n",
    "def sheep(n):\n",
    "    return \"🐑\" * n\n",
    "\n",
    "if __name__ == '__main__':\n",
    "    main()"
   ],
   "metadata": {
    "collapsed": false,
    "ExecuteTime": {
     "end_time": "2024-04-20T11:38:23.921105Z",
     "start_time": "2024-04-20T11:38:19.756443Z"
    }
   },
   "id": "fa75599069a98752",
   "execution_count": 99
  },
  {
   "cell_type": "markdown",
   "source": [
    "Notice how the main function does the iteration.\n",
    "\n",
    "We can provide the `sheep` function more abilites. \n",
    "\n",
    "Code as follows:"
   ],
   "metadata": {
    "collapsed": false
   },
   "id": "25ba198615cb30c"
  },
  {
   "cell_type": "code",
   "outputs": [
    {
     "name": "stdout",
     "output_type": "stream",
     "text": [
      "\n",
      "🐑\n",
      "🐑🐑\n",
      "🐑🐑🐑\n"
     ]
    }
   ],
   "source": [
    "def main():\n",
    "    n = int(input(\"What's n?\"))\n",
    "    for s in sheep(n):\n",
    "        print(s)\n",
    "\n",
    "\n",
    "def sheep(n):\n",
    "    flock = []\n",
    "    for i in range(n):\n",
    "        flock.append(\"🐑\" * i)\n",
    "    return flock\n",
    "\n",
    "\n",
    "if __name__ == '__main__':\n",
    "    main()"
   ],
   "metadata": {
    "collapsed": false,
    "ExecuteTime": {
     "end_time": "2024-04-20T11:41:08.258769Z",
     "start_time": "2024-04-20T11:41:06.971438Z"
    }
   },
   "id": "a503c54956d56cb8",
   "execution_count": 100
  },
  {
   "cell_type": "markdown",
   "source": [
    "Notice how we create  a flock of sheep and return the `flock`.\n",
    "\n",
    "Executing our code, you might try different numbers of sheep such as `10`, `100`, and `10000`. What if you asked for `1000000` sheep, your program might completely hang or ctush. Because you have attempted to generate a massive list of sheep, your computer may be struggling to complete the computation.\n",
    "\n",
    "The `yield` generator can solve this problem by returning a small bit of the result at a time.\n",
    "\n",
    "Code as follows:"
   ],
   "metadata": {
    "collapsed": false
   },
   "id": "5fdf8ba8317c9963"
  },
  {
   "cell_type": "code",
   "outputs": [
    {
     "name": "stdout",
     "output_type": "stream",
     "text": [
      "\n",
      "🐑\n",
      "🐑🐑\n",
      "🐑🐑🐑\n"
     ]
    }
   ],
   "source": [
    "def main():\n",
    "    n = int(input(\"What's n?\"))\n",
    "    for s in sheep(n):\n",
    "        print(s)\n",
    "\n",
    "\n",
    "def sheep(n):\n",
    "    for i in range(n):\n",
    "        yield \"🐑\" * i\n",
    "    \n",
    "if __name__ == '__main__':\n",
    "    main()"
   ],
   "metadata": {
    "collapsed": false,
    "ExecuteTime": {
     "end_time": "2024-04-20T11:46:45.505411Z",
     "start_time": "2024-04-20T11:46:44.613328Z"
    }
   },
   "id": "374069c8b8deac12",
   "execution_count": 101
  },
  {
   "cell_type": "markdown",
   "source": [
    "Notice how `yield` provides only one value at a time while the `for` loop keeps working.\n",
    "\n",
    "You can learn more in Python's documentation of [generators](https://docs.python.org/3/howto/functional.html#generators)\n",
    "\n",
    "Also see [iterators](https://docs.python.org/3/howto/functional.html#iterators)"
   ],
   "metadata": {
    "collapsed": false
   },
   "id": "d39261cf955995b4"
  },
  {
   "cell_type": "markdown",
   "source": [
    "## Congratulations!\n",
    "\n",
    "As you exit from this course, you have more of a mental model and toolbox to adress programming-realted problems.\n",
    "\n",
    "First, you learned about functions and variables.\n",
    "Second, you learned about conditionals.\n",
    "Third, you learned about loops.\n",
    "Fourth, you learned about exceptions.\n",
    "Fifth, you learned about libraries.\n",
    "Six, you learned aobut unit tests.\n",
    "Seventh, you learned about file I/O.\n",
    "Eighth, you learned about object-oriented programming.\n",
    "Today, you learned about many other tools you can use."
   ],
   "metadata": {
    "collapsed": false
   },
   "id": "d0d50739cd9f51bf"
  },
  {
   "cell_type": "markdown",
   "source": [
    "## This was CS50!\n",
    "\n",
    "Creating a final program together, type `code say.py` in your terminal window and code as follows:"
   ],
   "metadata": {
    "collapsed": false
   },
   "id": "b9391ca1f59a8888"
  },
  {
   "cell_type": "code",
   "outputs": [
    {
     "name": "stdout",
     "output_type": "stream",
     "text": [
      "  _____\n",
      "| CS50! |\n",
      "  =====\n",
      "     \\\n",
      "      \\\n",
      "        ^__^\n",
      "        (oo)\\_______\n",
      "        (__)\\       )\\/\\\n",
      "            ||----w |\n",
      "            ||     ||\n"
     ]
    }
   ],
   "source": [
    "import cowsay\n",
    "import pyttsx3\n",
    "\n",
    "\n",
    "engine = pyttsx3.init()\n",
    "this = input(\"What's this?\")\n",
    "cowsay.cow(this)\n",
    "engine.say(this)\n",
    "engine.runAndWait()"
   ],
   "metadata": {
    "collapsed": false,
    "ExecuteTime": {
     "end_time": "2024-04-20T12:21:54.502728Z",
     "start_time": "2024-04-20T12:21:48.794106Z"
    }
   },
   "id": "457311fd9275647d",
   "execution_count": 103
  },
  {
   "cell_type": "markdown",
   "source": [
    "Notice how running this program provides you with a spirited send-off.\n",
    "\n",
    "Our great hope is that you will use what you learned in this course to address real problems in the world, making out globe a better place.\n",
    "\n",
    "This is CS50!"
   ],
   "metadata": {
    "collapsed": false
   },
   "id": "e90288e7cb86d036"
  }
 ],
 "metadata": {
  "kernelspec": {
   "display_name": "Python 3",
   "language": "python",
   "name": "python3"
  },
  "language_info": {
   "codemirror_mode": {
    "name": "ipython",
    "version": 2
   },
   "file_extension": ".py",
   "mimetype": "text/x-python",
   "name": "python",
   "nbconvert_exporter": "python",
   "pygments_lexer": "ipython2",
   "version": "2.7.6"
  }
 },
 "nbformat": 4,
 "nbformat_minor": 5
}
