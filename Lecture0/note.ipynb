{
 "cells": [
  {
   "cell_type": "code",
   "execution_count": 1,
   "id": "initial_id",
   "metadata": {
    "collapsed": true,
    "ExecuteTime": {
     "end_time": "2024-03-05T14:43:37.737786Z",
     "start_time": "2024-03-05T14:43:34.823014Z"
    }
   },
   "outputs": [
    {
     "name": "stdout",
     "output_type": "stream",
     "text": [
      "hello, world\n"
     ]
    }
   ],
   "source": [
    "name = input(\"What's your name? \")\n",
    "print(\"hello, world\")"
   ]
  },
  {
   "cell_type": "code",
   "outputs": [
    {
     "name": "stdout",
     "output_type": "stream",
     "text": [
      "hello, name\n"
     ]
    }
   ],
   "source": [
    "name = input(\"What's your name?\")\n",
    "print(\"hello, name\")"
   ],
   "metadata": {
    "collapsed": false,
    "ExecuteTime": {
     "end_time": "2024-03-05T14:44:26.250083Z",
     "start_time": "2024-03-05T14:44:24.266037Z"
    }
   },
   "id": "626e7dd8e047d30d",
   "execution_count": 2
  },
  {
   "cell_type": "code",
   "outputs": [
    {
     "name": "stdout",
     "output_type": "stream",
     "text": [
      "hello,\n",
      "jay\n"
     ]
    }
   ],
   "source": [
    "name = input(\"What's your name?\")\n",
    "print(\"hello,\")\n",
    "print(name)"
   ],
   "metadata": {
    "collapsed": false,
    "ExecuteTime": {
     "end_time": "2024-03-05T14:45:20.704818Z",
     "start_time": "2024-03-05T14:45:19.153501Z"
    }
   },
   "id": "ffb32374069d7e91",
   "execution_count": 3
  },
  {
   "cell_type": "code",
   "outputs": [
    {
     "name": "stdout",
     "output_type": "stream",
     "text": [
      "hello, \n",
      "jay\n"
     ]
    }
   ],
   "source": [
    "# Ask the user for their name\n",
    "name = input(\"What's your name?\")\n",
    "print(\"hello, \")\n",
    "print(name)"
   ],
   "metadata": {
    "collapsed": false,
    "ExecuteTime": {
     "end_time": "2024-03-05T14:46:56.358670Z",
     "start_time": "2024-03-05T14:46:54.780218Z"
    }
   },
   "id": "c54058177077fa00",
   "execution_count": 4
  },
  {
   "cell_type": "markdown",
   "source": [
    "# Pseudocode"
   ],
   "metadata": {
    "collapsed": false
   },
   "id": "fb91e27f8ae7eb0a"
  },
  {
   "cell_type": "code",
   "outputs": [
    {
     "name": "stdout",
     "output_type": "stream",
     "text": [
      "hello,\n",
      "jay\n"
     ]
    }
   ],
   "source": [
    "# Ask the user for their name\n",
    "name = input(\"What's your name?\")\n",
    "\n",
    "# Print hello\n",
    "print(\"hello,\")\n",
    "\n",
    "# Print the name input\n",
    "print(name)"
   ],
   "metadata": {
    "collapsed": false,
    "ExecuteTime": {
     "end_time": "2024-03-05T14:49:34.254382Z",
     "start_time": "2024-03-05T14:49:32.702757Z"
    }
   },
   "id": "f7e818ccd674594a",
   "execution_count": 5
  },
  {
   "cell_type": "markdown",
   "source": [
    "# Further improving your first python program"
   ],
   "metadata": {
    "collapsed": false
   },
   "id": "eb1206a7c94a40bc"
  },
  {
   "cell_type": "code",
   "outputs": [
    {
     "name": "stdout",
     "output_type": "stream",
     "text": [
      "hello, jay\n"
     ]
    }
   ],
   "source": [
    "# Ask the user for their name\n",
    "name = input(\"What's your name?\")\n",
    "\n",
    "# Print hello and the inputted name\n",
    "print(\"hello, \" + name)"
   ],
   "metadata": {
    "collapsed": false,
    "ExecuteTime": {
     "end_time": "2024-03-05T14:51:30.232579Z",
     "start_time": "2024-03-05T14:51:28.307561Z"
    }
   },
   "id": "2a9af3569ddadcb9",
   "execution_count": 6
  },
  {
   "cell_type": "code",
   "outputs": [
    {
     "name": "stdout",
     "output_type": "stream",
     "text": [
      "hello, jay\n"
     ]
    }
   ],
   "source": [
    "# Use comma , to pass in multiple arguments by editing our code:\n",
    "# Ask the user for their name\n",
    "name = input(\"What's your name? \")\n",
    "\n",
    "# Print hello and the inputted name\n",
    "print(\"hello,\", name)"
   ],
   "metadata": {
    "collapsed": false,
    "ExecuteTime": {
     "end_time": "2024-03-05T14:54:05.790004Z",
     "start_time": "2024-03-05T14:54:03.642231Z"
    }
   },
   "id": "44c1f06ea58a5558",
   "execution_count": 7
  },
  {
   "cell_type": "markdown",
   "source": [
    "# Strings and Paremeters"
   ],
   "metadata": {
    "collapsed": false
   },
   "id": "9e57766d5f42037e"
  },
  {
   "cell_type": "code",
   "outputs": [
    {
     "name": "stdout",
     "output_type": "stream",
     "text": [
      "hello,\n",
      "jay\n"
     ]
    }
   ],
   "source": [
    "# Ask the user for their name\n",
    "name = input(\"What's your name? \")\n",
    "print(\"hello,\")\n",
    "print(name)"
   ],
   "metadata": {
    "collapsed": false,
    "ExecuteTime": {
     "end_time": "2024-03-05T14:57:13.820546Z",
     "start_time": "2024-03-05T14:57:11.935708Z"
    }
   },
   "id": "510a8f543b96c33a",
   "execution_count": 8
  },
  {
   "cell_type": "code",
   "outputs": [
    {
     "name": "stdout",
     "output_type": "stream",
     "text": [
      "hello,jay\n"
     ]
    }
   ],
   "source": [
    "# Ask the user for their name\n",
    "name = input(\"What's your name? \")\n",
    "print(\"hello,\", end=\"\")\n",
    "print(name)"
   ],
   "metadata": {
    "collapsed": false,
    "ExecuteTime": {
     "end_time": "2024-03-05T14:59:13.545498Z",
     "start_time": "2024-03-05T14:59:10.983530Z"
    }
   },
   "id": "43a93a9f562d64ba",
   "execution_count": 9
  },
  {
   "cell_type": "code",
   "outputs": [
    {
     "name": "stdout",
     "output_type": "stream",
     "text": [
      "helle, \"friend\"\n"
     ]
    }
   ],
   "source": [
    "# wrong example\n",
    "# print(\"hello,\"friend\"\")\n",
    "print(\"helle, \\\"friend\\\"\")"
   ],
   "metadata": {
    "collapsed": false,
    "ExecuteTime": {
     "end_time": "2024-03-07T11:42:25.018757Z",
     "start_time": "2024-03-07T11:42:25.011612Z"
    }
   },
   "id": "2a7f2d27dc8aa1e9",
   "execution_count": 1
  },
  {
   "cell_type": "markdown",
   "source": [
    "# Formatting String"
   ],
   "metadata": {
    "collapsed": false
   },
   "id": "c51bad056992599c"
  },
  {
   "cell_type": "code",
   "outputs": [
    {
     "name": "stdout",
     "output_type": "stream",
     "text": [
      "hello, jay\n"
     ]
    }
   ],
   "source": [
    "# elegant way to use strings\n",
    "name = input(\"What's your name?\")\n",
    "print(f\"hello, {name}\")"
   ],
   "metadata": {
    "collapsed": false,
    "ExecuteTime": {
     "end_time": "2024-03-07T13:48:00.266922Z",
     "start_time": "2024-03-07T13:47:58.408127Z"
    }
   },
   "id": "232be2dbaa493f",
   "execution_count": 3
  },
  {
   "cell_type": "markdown",
   "source": [
    "# More on String\n",
    "- ensure that the input of your user is corrected or checked.\n",
    "- remove whitespace from a string\n",
    "- by utilizing the method `strip` on `string`, will strip all whitespace on the left and right of the user input."
   ],
   "metadata": {
    "collapsed": false
   },
   "id": "caf81b928416b5a0"
  },
  {
   "cell_type": "code",
   "outputs": [
    {
     "name": "stdout",
     "output_type": "stream",
     "text": [
      "hello, Jay\n"
     ]
    }
   ],
   "source": [
    "# Ask the user for their name\n",
    "name = input(\"What's your name?\")\n",
    "\n",
    "# Remove whitespace from the str\n",
    "name = name.strip()\n",
    "\n",
    "#Print the output\n",
    "print(f\"hello, {name}\")"
   ],
   "metadata": {
    "collapsed": false,
    "ExecuteTime": {
     "end_time": "2024-03-07T14:07:20.570610Z",
     "start_time": "2024-03-07T14:07:15.758636Z"
    }
   },
   "id": "cc99dfae8e5776ab",
   "execution_count": 5
  },
  {
   "cell_type": "code",
   "outputs": [
    {
     "name": "stdout",
     "output_type": "stream",
     "text": [
      "hello, Jay\n"
     ]
    }
   ],
   "source": [
    "# using the `title` method to case the user's name\n",
    "name = input(\"What's your name?\")\n",
    "# Remove whitespace from the str\n",
    "name = name.strip()\n",
    "\n",
    "# Capitalize the first letter of each word\n",
    "name = name.title()\n",
    "\n",
    "# Print the output\n",
    "print(f\"hello, {name}\")"
   ],
   "metadata": {
    "collapsed": false,
    "ExecuteTime": {
     "end_time": "2024-03-07T14:10:17.247955Z",
     "start_time": "2024-03-07T14:10:14.777824Z"
    }
   },
   "id": "305a2467e04ea278",
   "execution_count": 7
  },
  {
   "cell_type": "code",
   "outputs": [
    {
     "name": "stdout",
     "output_type": "stream",
     "text": [
      "hello, Jay\n"
     ]
    }
   ],
   "source": [
    "# modifying code more efficient:\n",
    "\n",
    "# Ask the user for their name\n",
    "name = input(\"What's your name?\")\n",
    "\n",
    "# Remove whitespace from the str and capitalize the first letter of each word\n",
    "name = name.strip().title()\n",
    "\n",
    "# Print the output\n",
    "print(f\"hello, {name}\")"
   ],
   "metadata": {
    "collapsed": false,
    "ExecuteTime": {
     "end_time": "2024-03-07T14:18:57.652173Z",
     "start_time": "2024-03-07T14:18:52.988180Z"
    }
   },
   "id": "764b0ecfc0f2cb59",
   "execution_count": 9
  },
  {
   "cell_type": "code",
   "outputs": [
    {
     "name": "stdout",
     "output_type": "stream",
     "text": [
      "hello, Jay\n"
     ]
    }
   ],
   "source": [
    "# Even go further\n",
    "\n",
    "# Ask the user for their name, remove whitespace from the str and capitalized the first letter of each word\n",
    "name = input(\"What's your name?\").strip().title()\n",
    "\n",
    "# Print the output\n",
    "print(f\"hello, {name}\")"
   ],
   "metadata": {
    "collapsed": false,
    "ExecuteTime": {
     "end_time": "2024-03-07T14:21:12.127197Z",
     "start_time": "2024-03-07T14:21:09.425034Z"
    }
   },
   "id": "b047fb47b6dca27e",
   "execution_count": 10
  },
  {
   "cell_type": "markdown",
   "source": [
    "# Integers or int\n",
    "- an integer is inferred to as an `int`\n",
    "- `%` is modulo operator"
   ],
   "metadata": {
    "collapsed": false
   },
   "id": "9726a58d1aa51547"
  },
  {
   "cell_type": "code",
   "outputs": [
    {
     "name": "stdout",
     "output_type": "stream",
     "text": [
      "3\n"
     ]
    }
   ],
   "source": [
    "# calculator.py\n",
    "\n",
    "x = 1\n",
    "y = 2\n",
    "\n",
    "z = x + y\n",
    "\n",
    "print(z)"
   ],
   "metadata": {
    "collapsed": false,
    "ExecuteTime": {
     "end_time": "2024-03-07T14:24:27.229173Z",
     "start_time": "2024-03-07T14:24:27.223460Z"
    }
   },
   "id": "65894f5cfecb9d08",
   "execution_count": 11
  },
  {
   "cell_type": "code",
   "outputs": [
    {
     "name": "stdout",
     "output_type": "stream",
     "text": [
      "12\n"
     ]
    }
   ],
   "source": [
    "x = input(\"What's x?\")\n",
    "y = input(\"What's y?\")\n",
    "\n",
    "z = x + y\n",
    "\n",
    "print(z)"
   ],
   "metadata": {
    "collapsed": false,
    "ExecuteTime": {
     "end_time": "2024-03-07T14:26:48.992747Z",
     "start_time": "2024-03-07T14:26:44.790961Z"
    }
   },
   "id": "4ceb1b67bdf49839",
   "execution_count": 12
  },
  {
   "cell_type": "markdown",
   "source": [
    "the output is `12`, what's this?"
   ],
   "metadata": {
    "collapsed": false
   },
   "id": "8ca8d737b4609fa5"
  },
  {
   "cell_type": "code",
   "outputs": [
    {
     "name": "stdout",
     "output_type": "stream",
     "text": [
      "3\n"
     ]
    }
   ],
   "source": [
    "x = input(\"What's x?\")\n",
    "y = input(\"What's y?\")\n",
    "\n",
    "z = int(x) + int(y)\n",
    "\n",
    "print(z)"
   ],
   "metadata": {
    "collapsed": false,
    "ExecuteTime": {
     "end_time": "2024-03-07T14:28:48.019673Z",
     "start_time": "2024-03-07T14:28:46.441226Z"
    }
   },
   "id": "7ca32446c8cdb392",
   "execution_count": 13
  },
  {
   "cell_type": "code",
   "outputs": [
    {
     "name": "stdout",
     "output_type": "stream",
     "text": [
      "4.6\n"
     ]
    }
   ],
   "source": [
    "# Improving the code:\n",
    "\n",
    "x = float(input(\"What's x?\"))\n",
    "y = float(input(\"What's y?\"))\n",
    "\n",
    "print(x + y)"
   ],
   "metadata": {
    "collapsed": false,
    "ExecuteTime": {
     "end_time": "2024-03-07T14:30:16.741833Z",
     "start_time": "2024-03-07T14:30:11.535481Z"
    }
   },
   "id": "e8918ca8a34aaa7a",
   "execution_count": 14
  },
  {
   "cell_type": "markdown",
   "source": [
    "`round` a number to the nearset integer"
   ],
   "metadata": {
    "collapsed": false
   },
   "id": "9b1bfb5032d3c98a"
  },
  {
   "cell_type": "code",
   "outputs": [
    {
     "name": "stdout",
     "output_type": "stream",
     "text": [
      "5\n"
     ]
    }
   ],
   "source": [
    "# Get the user's input\n",
    "x = float(input(\"What's x?\"))\n",
    "y = float(input(\"What's y?\"))\n",
    "\n",
    "# Creat a rounded result\n",
    "z = round(x + y)\n",
    "\n",
    "# Print the result\n",
    "print(z)"
   ],
   "metadata": {
    "collapsed": false,
    "ExecuteTime": {
     "end_time": "2024-03-07T14:33:34.703419Z",
     "start_time": "2024-03-07T14:33:30.041861Z"
    }
   },
   "id": "58cd74cb5db9b1d1",
   "execution_count": 15
  },
  {
   "cell_type": "markdown",
   "source": [
    "Format the output of long number, e.g. rather than seeing `1000`, you may wish to see `1,000`"
   ],
   "metadata": {
    "collapsed": false
   },
   "id": "3878d8e971bcc41f"
  },
  {
   "cell_type": "code",
   "outputs": [
    {
     "name": "stdout",
     "output_type": "stream",
     "text": [
      "1,200\n"
     ]
    }
   ],
   "source": [
    "# Get the user's input\n",
    "x = float(input(\"What's x? \"))\n",
    "y = float(input(\"What's y?\"))\n",
    "\n",
    "# Creat a rounded result \n",
    "z = round(x + y)\n",
    "\n",
    "# Print the formatted result\n",
    "print(f\"{z:,}\")"
   ],
   "metadata": {
    "collapsed": false,
    "ExecuteTime": {
     "end_time": "2024-03-07T14:37:54.550888Z",
     "start_time": "2024-03-07T14:37:49.791266Z"
    }
   },
   "id": "fe5215792bcedc69",
   "execution_count": 17
  },
  {
   "cell_type": "markdown",
   "source": [
    "# More on float"
   ],
   "metadata": {
    "collapsed": false
   },
   "id": "f9e1f0520991f505"
  },
  {
   "cell_type": "code",
   "outputs": [
    {
     "name": "stdout",
     "output_type": "stream",
     "text": [
      "0.6666666666666666\n"
     ]
    }
   ],
   "source": [
    "# round floating point value:\n",
    "\n",
    "# Get the user's input\n",
    "x = float(input(\"What's x? \"))\n",
    "y = float(input(\"What's y? \"))\n",
    "\n",
    "# Calculate the result\n",
    "z = x / y\n",
    "\n",
    "# Print the result\n",
    "print(z)"
   ],
   "metadata": {
    "collapsed": false,
    "ExecuteTime": {
     "end_time": "2024-03-07T14:41:05.450402Z",
     "start_time": "2024-03-07T14:40:57.167313Z"
    }
   },
   "id": "9e50d9c6aae4d913",
   "execution_count": 18
  },
  {
   "cell_type": "code",
   "outputs": [
    {
     "name": "stdout",
     "output_type": "stream",
     "text": [
      "1\n"
     ]
    }
   ],
   "source": [
    "# round floating point value:\n",
    "\n",
    "# Get the user's input\n",
    "x = float(input(\"What's x? \"))\n",
    "y = float(input(\"What's y? \"))\n",
    "\n",
    "# Calculate the result\n",
    "z = round(x / y)\n",
    "\n",
    "# Print the result\n",
    "print(z)"
   ],
   "metadata": {
    "collapsed": false,
    "ExecuteTime": {
     "end_time": "2024-03-07T14:42:15.062612Z",
     "start_time": "2024-03-07T14:42:11.531253Z"
    }
   },
   "id": "82f0a7af2e82e88c",
   "execution_count": 19
  },
  {
   "cell_type": "code",
   "outputs": [
    {
     "name": "stdout",
     "output_type": "stream",
     "text": [
      "0.67\n"
     ]
    }
   ],
   "source": [
    "# using `fstring` to format the output as follows:\n",
    "\n",
    "# Get the user's input\n",
    "x = float(input(\"What's x?\"))\n",
    "y = float(input(\"What's y? \"))\n",
    "\n",
    "# Calculate the result\n",
    "z = x / y\n",
    "\n",
    "# Print the result\n",
    "print(f\"{z:.2f}\")"
   ],
   "metadata": {
    "collapsed": false,
    "ExecuteTime": {
     "end_time": "2024-03-07T14:44:44.792016Z",
     "start_time": "2024-03-07T14:44:42.503268Z"
    }
   },
   "id": "4d5cf1fc9df42b54",
   "execution_count": 20
  },
  {
   "cell_type": "markdown",
   "source": [
    "# Def\n",
    "Creat out own functions!"
   ],
   "metadata": {
    "collapsed": false
   },
   "id": "1adbd560b3382271"
  },
  {
   "cell_type": "code",
   "outputs": [
    {
     "name": "stdout",
     "output_type": "stream",
     "text": [
      "hello\n",
      "jay\n"
     ]
    }
   ],
   "source": [
    "def hello():\n",
    "    print(\"hello\")\n",
    "\n",
    "name = input(\"What's your name? \")\n",
    "hello()\n",
    "print(name)"
   ],
   "metadata": {
    "collapsed": false,
    "ExecuteTime": {
     "end_time": "2024-03-07T14:47:34.276704Z",
     "start_time": "2024-03-07T14:47:32.771081Z"
    }
   },
   "id": "8bb0bc28af9252c5",
   "execution_count": 21
  },
  {
   "cell_type": "code",
   "outputs": [
    {
     "name": "stdout",
     "output_type": "stream",
     "text": [
      "hello, jay\n"
     ]
    }
   ],
   "source": [
    "# Improving out code:\n",
    "\n",
    "# Creat our own function\n",
    "def hello(to):\n",
    "    print(\"hello,\",to)\n",
    "\n",
    "# Output using our own function\n",
    "name = input(\"What's your name?\")\n",
    "hello(name)"
   ],
   "metadata": {
    "collapsed": false,
    "ExecuteTime": {
     "end_time": "2024-03-07T14:50:47.779106Z",
     "start_time": "2024-03-07T14:50:46.106763Z"
    }
   },
   "id": "5c63f029dfc3dccb",
   "execution_count": 24
  },
  {
   "cell_type": "code",
   "outputs": [
    {
     "name": "stdout",
     "output_type": "stream",
     "text": [
      "hello, jay\n",
      "hello, world\n"
     ]
    }
   ],
   "source": [
    "# Adding a default value to hello:\n",
    "\n",
    "# Creat our own function\n",
    "def hello(to=\"world\"):\n",
    "    print(\"hello,\", to)\n",
    "\n",
    "# Output using our own function\n",
    "name = input(\"What's your name?\")\n",
    "hello(name)\n",
    "\n",
    "# Output without passing the expected arguments\n",
    "hello()"
   ],
   "metadata": {
    "collapsed": false,
    "ExecuteTime": {
     "end_time": "2024-03-07T14:53:48.564543Z",
     "start_time": "2024-03-07T14:53:47.125307Z"
    }
   },
   "id": "49ed14322d910fe3",
   "execution_count": 26
  },
  {
   "cell_type": "code",
   "outputs": [],
   "source": [
    "# We don't have to our function at the start of our program. We can move it down, but we need to tell the compiler that we have a `main` function and a separate `hello` function\n",
    "\n",
    "def main():\n",
    "    \n",
    "    # Output using our own function\n",
    "    name = input(\"What's your name?\")\n",
    "    hello(name)\n",
    "    \n",
    "    # Output without passing the excepted arguments\n",
    "    hello()\n",
    "\n",
    "# Creat our own function\n",
    "def hello(to=\"word\"):\n",
    "    print(\"hello,\", to)"
   ],
   "metadata": {
    "collapsed": false,
    "ExecuteTime": {
     "end_time": "2024-03-07T14:58:35.537872Z",
     "start_time": "2024-03-07T14:58:35.534108Z"
    }
   },
   "id": "e1279f17fbc7b7d9",
   "execution_count": 27
  },
  {
   "cell_type": "code",
   "outputs": [
    {
     "name": "stdout",
     "output_type": "stream",
     "text": [
      "hello, jay\n",
      "hello, world\n"
     ]
    }
   ],
   "source": [
    "# We don't have to our function at the start of our program. We can move it down, but we need to tell the compiler that we have a `main` function and a separate `hello` function\n",
    "\n",
    "def main():\n",
    "    # Output using our own function\n",
    "    name = input(\"What's your name?\")\n",
    "    hello(name)\n",
    "\n",
    "    # Output without passing the excepted arguments\n",
    "    hello()\n",
    "\n",
    "\n",
    "# Creat our own function\n",
    "def hello(to=\"world\"):\n",
    "    print(\"hello,\", to)\n",
    "\n",
    "\n",
    "main()\n"
   ],
   "metadata": {
    "collapsed": false,
    "ExecuteTime": {
     "end_time": "2024-03-07T15:01:04.862783Z",
     "start_time": "2024-03-07T15:01:03.752264Z"
    }
   },
   "id": "3eea159e023b6ef8",
   "execution_count": 29
  },
  {
   "cell_type": "markdown",
   "source": [
    "# Returning Values"
   ],
   "metadata": {
    "collapsed": false
   },
   "id": "c533abf44d180a43"
  },
  {
   "cell_type": "code",
   "outputs": [
    {
     "name": "stdout",
     "output_type": "stream",
     "text": [
      "x squared is  4\n"
     ]
    }
   ],
   "source": [
    "def main():\n",
    "    x = int(input(\"What's x?\"))\n",
    "    print(\"x squared is \",square(x))\n",
    "\n",
    "\n",
    "def square(n):\n",
    "    return n*n\n",
    "\n",
    "main()"
   ],
   "metadata": {
    "collapsed": false,
    "ExecuteTime": {
     "end_time": "2024-03-07T15:03:57.535080Z",
     "start_time": "2024-03-07T15:03:55.828493Z"
    }
   },
   "id": "bda0f9201164e9c6",
   "execution_count": 31
  },
  {
   "cell_type": "markdown",
   "source": [
    "# Summing up"
   ],
   "metadata": {
    "collapsed": false
   },
   "id": "f4ab35cee9259a6c"
  },
  {
   "cell_type": "markdown",
   "source": [
    "- Creating your first programs in python;\n",
    "- Functions\n",
    "- Bugs;\n",
    "- Comments;\n",
    "- Pseudocode;\n",
    "- String;\n",
    "- Parameters\n",
    "- Formatted Strings;\n",
    "- Integers;\n",
    "- Principles of readability;\n",
    "- Floats;\n",
    "- Creating your own functions;and\n",
    "- Return values."
   ],
   "metadata": {
    "collapsed": false
   },
   "id": "4ff0cfb3d66b1625"
  }
 ],
 "metadata": {
  "kernelspec": {
   "display_name": "Python 3",
   "language": "python",
   "name": "python3"
  },
  "language_info": {
   "codemirror_mode": {
    "name": "ipython",
    "version": 2
   },
   "file_extension": ".py",
   "mimetype": "text/x-python",
   "name": "python",
   "nbconvert_exporter": "python",
   "pygments_lexer": "ipython2",
   "version": "2.7.6"
  }
 },
 "nbformat": 4,
 "nbformat_minor": 5
}
