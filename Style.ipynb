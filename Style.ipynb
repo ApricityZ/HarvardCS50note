{
 "cells": [
  {
   "cell_type": "markdown",
   "source": [
    "# PEP8"
   ],
   "metadata": {
    "collapsed": false
   },
   "id": "c96bccd804b05744"
  },
  {
   "cell_type": "markdown",
   "source": [
    "https://peps.python.org/pep-0008"
   ],
   "metadata": {
    "collapsed": false
   },
   "id": "3d9da5f906703b99"
  },
  {
   "cell_type": "markdown",
   "source": [
    "pylit"
   ],
   "metadata": {
    "collapsed": false
   },
   "id": "fb46c5bbcae4e067"
  },
  {
   "cell_type": "markdown",
   "source": [
    "pycodestyle"
   ],
   "metadata": {
    "collapsed": false
   },
   "id": "d6a72f833b31c10"
  },
  {
   "cell_type": "markdown",
   "source": [
    "black"
   ],
   "metadata": {
    "collapsed": false
   },
   "id": "a6032bac590ad975"
  },
  {
   "cell_type": "code",
   "execution_count": null,
   "outputs": [],
   "source": [],
   "metadata": {
    "collapsed": false
   },
   "id": "de696af13031f67b"
  }
 ],
 "metadata": {
  "kernelspec": {
   "display_name": "Python 3",
   "language": "python",
   "name": "python3"
  },
  "language_info": {
   "codemirror_mode": {
    "name": "ipython",
    "version": 2
   },
   "file_extension": ".py",
   "mimetype": "text/x-python",
   "name": "python",
   "nbconvert_exporter": "python",
   "pygments_lexer": "ipython2",
   "version": "2.7.6"
  }
 },
 "nbformat": 4,
 "nbformat_minor": 5
}
