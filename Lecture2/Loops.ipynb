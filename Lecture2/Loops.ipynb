{
 "cells": [
  {
   "cell_type": "markdown",
   "source": [
    "# Lecture 2\n",
    "- Loops\n",
    "- While Loops\n",
    "- For Loops\n",
    "- Improving with User Input\n",
    "- More About Lists\n",
    "- Length \n",
    "- Dictionaries\n",
    "- Mario\n",
    "- Summing Up\n"
   ],
   "metadata": {
    "collapsed": false
   },
   "id": "399f0727c2a02a50"
  },
  {
   "cell_type": "markdown",
   "source": [
    "# Loops\n",
    "A way to do something over and over again"
   ],
   "metadata": {
    "collapsed": false
   },
   "id": "51249fb2b485d727"
  },
  {
   "cell_type": "code",
   "outputs": [],
   "source": [
    "# cat.py\n",
    "\n",
    "print(\"meow\")\n",
    "print(\"meow\")\n",
    "print(\"meow\")"
   ],
   "metadata": {
    "collapsed": false
   },
   "id": "4855c8060afac9cf",
   "execution_count": null
  },
  {
   "cell_type": "markdown",
   "source": [
    "# While Loops"
   ],
   "metadata": {
    "collapsed": false
   },
   "id": "84309925d793c480"
  },
  {
   "cell_type": "code",
   "outputs": [],
   "source": [
    "i = 3\n",
    "while i != 0:\n",
    "    print(\"meow\")"
   ],
   "metadata": {
    "collapsed": false
   },
   "id": "e8b13d1dd90a2f15",
   "execution_count": null
  },
  {
   "cell_type": "code",
   "outputs": [
    {
     "name": "stdout",
     "output_type": "stream",
     "text": [
      "meow\n",
      "meow\n",
      "meow\n"
     ]
    }
   ],
   "source": [
    "i = 3\n",
    "while i != 0:\n",
    "    print(\"meow\")\n",
    "    i = i - 1"
   ],
   "metadata": {
    "collapsed": false,
    "ExecuteTime": {
     "end_time": "2024-03-08T11:54:23.540580Z",
     "start_time": "2024-03-08T11:54:23.536744Z"
    }
   },
   "id": "391de469f2038eba",
   "execution_count": 3
  },
  {
   "cell_type": "code",
   "outputs": [
    {
     "name": "stdout",
     "output_type": "stream",
     "text": [
      "meow\n",
      "meow\n",
      "meow\n"
     ]
    }
   ],
   "source": [
    "i = 1\n",
    "while i <= 3:\n",
    "    print(\"meow\")\n",
    "    i = i + 1"
   ],
   "metadata": {
    "collapsed": false,
    "ExecuteTime": {
     "end_time": "2024-03-08T11:56:30.576451Z",
     "start_time": "2024-03-08T11:56:30.572697Z"
    }
   },
   "id": "1adb5b4a04ba1b3b",
   "execution_count": 4
  },
  {
   "cell_type": "code",
   "outputs": [
    {
     "name": "stdout",
     "output_type": "stream",
     "text": [
      "meow\n",
      "meow\n",
      "meow\n"
     ]
    }
   ],
   "source": [
    "i = 0\n",
    "while i < 3:\n",
    "    print(\"meow\")\n",
    "    i = i + 1"
   ],
   "metadata": {
    "collapsed": false,
    "ExecuteTime": {
     "end_time": "2024-03-08T11:56:54.865881Z",
     "start_time": "2024-03-08T11:56:54.862908Z"
    }
   },
   "id": "b2d5ef4d37e317f",
   "execution_count": 5
  },
  {
   "cell_type": "markdown",
   "source": [
    "# For Loops"
   ],
   "metadata": {
    "collapsed": false
   },
   "id": "e35bbec58288cc62"
  },
  {
   "cell_type": "code",
   "outputs": [
    {
     "name": "stdout",
     "output_type": "stream",
     "text": [
      "meow\n",
      "meow\n",
      "meow\n"
     ]
    }
   ],
   "source": [
    "# Beginning by talking a new variable type called `list`\n",
    "\n",
    "for i in [0, 1, 2]:\n",
    "    print(\"meow\")"
   ],
   "metadata": {
    "collapsed": false,
    "ExecuteTime": {
     "end_time": "2024-03-08T11:59:34.899414Z",
     "start_time": "2024-03-08T11:59:34.895897Z"
    }
   },
   "id": "207f9e99bdc1f808",
   "execution_count": 6
  },
  {
   "cell_type": "code",
   "outputs": [
    {
     "name": "stdout",
     "output_type": "stream",
     "text": [
      "meow\n",
      "meow\n",
      "meow\n"
     ]
    }
   ],
   "source": [
    "for i in range(3):\n",
    "    print(\"meow\")"
   ],
   "metadata": {
    "collapsed": false,
    "ExecuteTime": {
     "end_time": "2024-03-08T12:00:42.364417Z",
     "start_time": "2024-03-08T12:00:42.361431Z"
    }
   },
   "id": "444f50c9d47dd737",
   "execution_count": 7
  },
  {
   "cell_type": "code",
   "outputs": [
    {
     "name": "stdout",
     "output_type": "stream",
     "text": [
      "meow\n",
      "meow\n",
      "meow\n"
     ]
    }
   ],
   "source": [
    "# Representing such a variable `i` does not have any other significance in our code as a single underscore `_`\n",
    "\n",
    "for _ in range(3):\n",
    "    print(\"meow\")"
   ],
   "metadata": {
    "collapsed": false,
    "ExecuteTime": {
     "end_time": "2024-03-08T12:02:51.351126Z",
     "start_time": "2024-03-08T12:02:51.348317Z"
    }
   },
   "id": "2f7ecc8ff12f82ed",
   "execution_count": 8
  },
  {
   "cell_type": "code",
   "outputs": [
    {
     "name": "stdout",
     "output_type": "stream",
     "text": [
      "meowmeowmeow\n"
     ]
    }
   ],
   "source": [
    "# To stretch your mind to the possibilities within python:\n",
    "\n",
    "print(\"meow\" * 3)"
   ],
   "metadata": {
    "collapsed": false,
    "ExecuteTime": {
     "end_time": "2024-03-08T12:04:05.031526Z",
     "start_time": "2024-03-08T12:04:05.028447Z"
    }
   },
   "id": "8166e42c4e99caf9",
   "execution_count": 9
  },
  {
   "cell_type": "code",
   "outputs": [
    {
     "name": "stdout",
     "output_type": "stream",
     "text": [
      "meow\n",
      "meow\n",
      "meow\n"
     ]
    }
   ],
   "source": [
    "# Improve code\n",
    "\n",
    "print(\"meow\\n\" * 3)"
   ],
   "metadata": {
    "collapsed": false,
    "ExecuteTime": {
     "end_time": "2024-03-08T12:04:42.357545Z",
     "start_time": "2024-03-08T12:04:42.354818Z"
    }
   },
   "id": "c045b58c12c92066",
   "execution_count": 10
  },
  {
   "cell_type": "code",
   "outputs": [
    {
     "name": "stdout",
     "output_type": "stream",
     "text": [
      "meow\n",
      "meow\n",
      "meow\n"
     ]
    }
   ],
   "source": [
    "print(\"meow\\n\" * 3, end=\"\")"
   ],
   "metadata": {
    "collapsed": false,
    "ExecuteTime": {
     "end_time": "2024-03-08T12:05:42.565835Z",
     "start_time": "2024-03-08T12:05:42.562467Z"
    }
   },
   "id": "9a25a6ab4031a70d",
   "execution_count": 12
  },
  {
   "cell_type": "markdown",
   "source": [
    "# Improving with User Input"
   ],
   "metadata": {
    "collapsed": false
   },
   "id": "3a5b0865d58d7252"
  },
  {
   "cell_type": "code",
   "outputs": [],
   "source": [
    "# A common paradigm within Python is to use `while` loop to validate the input of the user\n",
    "\n",
    "while True:\n",
    "    n = int(input(\"What's n? \"))\n",
    "    if n < 0:\n",
    "        continue\n",
    "    else:\n",
    "        break"
   ],
   "metadata": {
    "collapsed": false,
    "ExecuteTime": {
     "end_time": "2024-03-08T12:08:42.618578Z",
     "start_time": "2024-03-08T12:08:34.827078Z"
    }
   },
   "id": "3463da28ba8da96a",
   "execution_count": 13
  },
  {
   "cell_type": "markdown",
   "source": [
    "`continue` explicitly tells Python to go to next iteration of a loop.\n",
    "`break`, on the other hand, tell Python to \"break out\" of a loop before it has finished all of its iteration."
   ],
   "metadata": {
    "collapsed": false
   },
   "id": "c8dfde9f3b9a8944"
  },
  {
   "cell_type": "code",
   "outputs": [
    {
     "name": "stdout",
     "output_type": "stream",
     "text": [
      "meow\n",
      "meow\n",
      "meow\n"
     ]
    }
   ],
   "source": [
    "# `continue` is redundant is this case\n",
    "\n",
    "while True:\n",
    "    n = int(input(\"What's n? \"))\n",
    "    if n > 0:\n",
    "        break\n",
    "\n",
    "\n",
    "for _ in range(n):\n",
    "    print(\"meow\")"
   ],
   "metadata": {
    "collapsed": false,
    "ExecuteTime": {
     "end_time": "2024-03-08T12:28:09.013892Z",
     "start_time": "2024-03-08T12:28:06.679089Z"
    }
   },
   "id": "84f765a6506fe64",
   "execution_count": 14
  },
  {
   "cell_type": "code",
   "outputs": [
    {
     "name": "stdout",
     "output_type": "stream",
     "text": [
      "meow\n",
      "meow\n",
      "meow\n",
      "meow\n",
      "meow\n"
     ]
    }
   ],
   "source": [
    "def main():\n",
    "    # pass\n",
    "    meow(get_number())\n",
    "\n",
    "def get_number():\n",
    "    while True:\n",
    "        n = int(input(\"What's n?\"))\n",
    "        if n > 0:\n",
    "            break\n",
    "    return n\n",
    "\n",
    "\n",
    "def meow(n):\n",
    "    for _ in range(n):\n",
    "        print(\"meow\")\n",
    "\n",
    "main()"
   ],
   "metadata": {
    "collapsed": false,
    "ExecuteTime": {
     "end_time": "2024-03-08T12:31:06.238518Z",
     "start_time": "2024-03-08T12:31:04.587498Z"
    }
   },
   "id": "3d6ea2d412dbf2f0",
   "execution_count": 17
  },
  {
   "cell_type": "markdown",
   "source": [
    "# More about list"
   ],
   "metadata": {
    "collapsed": false
   },
   "id": "1c0c476114a0d6df"
  },
  {
   "cell_type": "code",
   "outputs": [
    {
     "name": "stdout",
     "output_type": "stream",
     "text": [
      "Hermoine\n",
      "Harry\n",
      "Ron\n"
     ]
    }
   ],
   "source": [
    "students = [\"Hermoine\", \"Harry\", \"Ron\"]\n",
    "\n",
    "for student in students:\n",
    "    print(student)"
   ],
   "metadata": {
    "collapsed": false,
    "ExecuteTime": {
     "end_time": "2024-03-08T12:33:08.401902Z",
     "start_time": "2024-03-08T12:33:08.399090Z"
    }
   },
   "id": "4878833bc1c402cb",
   "execution_count": 20
  },
  {
   "cell_type": "markdown",
   "source": [
    "# Length\n",
    "we can utilize `len` as a way of checking the length of the `list`"
   ],
   "metadata": {
    "collapsed": false
   },
   "id": "bf4fb3db11230949"
  },
  {
   "cell_type": "code",
   "outputs": [
    {
     "name": "stdout",
     "output_type": "stream",
     "text": [
      "1 Hermoine\n",
      "2 Harry\n",
      "3 Ron\n"
     ]
    }
   ],
   "source": [
    "students = [\"Hermoine\", \"Harry\", \"Ron\"]\n",
    "\n",
    "for i in range(len(students)):\n",
    "    print(i + 1, students[i])"
   ],
   "metadata": {
    "collapsed": false,
    "ExecuteTime": {
     "end_time": "2024-03-08T13:28:34.514999Z",
     "start_time": "2024-03-08T13:28:34.503694Z"
    }
   },
   "id": "e01cd9d1d770e967",
   "execution_count": 21
  },
  {
   "cell_type": "markdown",
   "source": [
    "# Dictionaries\n",
    "`dict`s or dictionaries is a data structure that allow you associate keys with values."
   ],
   "metadata": {
    "collapsed": false
   },
   "id": "1426d42863f0d017"
  },
  {
   "cell_type": "code",
   "outputs": [],
   "source": [
    "# Using `list`s \n",
    "students = [\"Hermione\", \"Harry\", \"Ron\", \"Draco\"]\n",
    "houses = [\"Gryffindor\", \"Gryffindor\", \"Gryffindor\", \"Slytherin\"]"
   ],
   "metadata": {
    "collapsed": false,
    "ExecuteTime": {
     "end_time": "2024-03-08T13:33:44.091235Z",
     "start_time": "2024-03-08T13:33:44.086539Z"
    }
   },
   "id": "f57ff75b851e0fbd",
   "execution_count": 22
  },
  {
   "cell_type": "code",
   "outputs": [
    {
     "name": "stdout",
     "output_type": "stream",
     "text": [
      "Gryffindor\n"
     ]
    }
   ],
   "source": [
    "# using a `dict` :\n",
    "\n",
    "students = {\n",
    "    \"Hermione\": \"Gryffindor\", # Do not forget `,`\n",
    "    \"Harry\": \"Gryffindor\",\n",
    "    \"Ron\": \"Gryffindor\",\n",
    "    \"Draco\": \"Slytherin\"\n",
    "}\n",
    "print(students[\"Hermione\"])"
   ],
   "metadata": {
    "collapsed": false,
    "ExecuteTime": {
     "end_time": "2024-03-08T13:36:26.676746Z",
     "start_time": "2024-03-08T13:36:26.671887Z"
    }
   },
   "id": "288ccc2fd1e712e1",
   "execution_count": 23
  },
  {
   "cell_type": "code",
   "outputs": [
    {
     "name": "stdout",
     "output_type": "stream",
     "text": [
      "Hermione\n",
      "Harry\n",
      "Ron\n",
      "Draco\n"
     ]
    }
   ],
   "source": [
    "students = {\n",
    "    \"Hermione\": \"Gryffindor\", # Do not forget `,`\n",
    "    \"Harry\": \"Gryffindor\",\n",
    "    \"Ron\": \"Gryffindor\",\n",
    "    \"Draco\": \"Slytherin\"\n",
    "}\n",
    "for student in students:\n",
    "    print(student)"
   ],
   "metadata": {
    "collapsed": false,
    "ExecuteTime": {
     "end_time": "2024-03-08T13:37:30.866346Z",
     "start_time": "2024-03-08T13:37:30.863148Z"
    }
   },
   "id": "5c3394ee1a2e08dc",
   "execution_count": 24
  },
  {
   "cell_type": "markdown",
   "source": [
    "The for Loop will only iterate through all the keys"
   ],
   "metadata": {
    "collapsed": false
   },
   "id": "32d8edc338130b6"
  },
  {
   "cell_type": "code",
   "outputs": [
    {
     "name": "stdout",
     "output_type": "stream",
     "text": [
      "Hermione Gryffindor\n",
      "Harry Gryffindor\n",
      "Ron Gryffindor\n",
      "Draco Slytherin\n"
     ]
    }
   ],
   "source": [
    "students = {\n",
    "    \"Hermione\": \"Gryffindor\", # Do not forget `,`\n",
    "    \"Harry\": \"Gryffindor\",\n",
    "    \"Ron\": \"Gryffindor\",\n",
    "    \"Draco\": \"Slytherin\"\n",
    "}\n",
    "for student in students:\n",
    "    print(student, students[student])"
   ],
   "metadata": {
    "collapsed": false,
    "ExecuteTime": {
     "end_time": "2024-03-08T13:39:02.707201Z",
     "start_time": "2024-03-08T13:39:02.702321Z"
    }
   },
   "id": "535196c9616ef034",
   "execution_count": 25
  },
  {
   "cell_type": "code",
   "outputs": [
    {
     "name": "stdout",
     "output_type": "stream",
     "text": [
      "Hermione,Gryffindor\n",
      "Harry,Gryffindor\n",
      "Ron,Gryffindor\n",
      "Draco,Slytherin\n"
     ]
    }
   ],
   "source": [
    "students = {\n",
    "    \"Hermione\": \"Gryffindor\", # Do not forget `,`\n",
    "    \"Harry\": \"Gryffindor\",\n",
    "    \"Ron\": \"Gryffindor\",\n",
    "    \"Draco\": \"Slytherin\"\n",
    "}\n",
    "for student in students:\n",
    "    print(student, students[student], sep=\",\")"
   ],
   "metadata": {
    "collapsed": false,
    "ExecuteTime": {
     "end_time": "2024-03-08T13:39:56.485788Z",
     "start_time": "2024-03-08T13:39:56.482326Z"
    }
   },
   "id": "8fca3c4f7fe202cd",
   "execution_count": 26
  },
  {
   "cell_type": "markdown",
   "source": [
    "What if we have more information about our students?"
   ],
   "metadata": {
    "collapsed": false
   },
   "id": "397faed706e6a563"
  },
  {
   "cell_type": "code",
   "outputs": [],
   "source": [
    "# Having a lot of data associated with multiple keys\n",
    "\n",
    "students = [\n",
    "    {\"name\": \"Hermione\", \"house\": \"Gryffindor\", \"patronus\": \"Otter\"},\n",
    "    {\"name\": \"Harry\", \"house\": \"Gryffindor\", \"patronus\": \"Stag\"},\n",
    "    {\"name\": \"Ron\", \"house\": \"Gryffindor\", \"patronus\": \"Jack Russell terrier\"}\n",
    "]"
   ],
   "metadata": {
    "collapsed": false,
    "ExecuteTime": {
     "end_time": "2024-03-08T13:47:54.714908Z",
     "start_time": "2024-03-08T13:47:54.710963Z"
    }
   },
   "id": "292dfc2f5077a47f",
   "execution_count": 28
  },
  {
   "cell_type": "code",
   "outputs": [
    {
     "name": "stdout",
     "output_type": "stream",
     "text": [
      "Hermione, Gryffindor, Otter\n",
      "Harry, Gryffindor, Stag\n",
      "Ron, Gryffindor, Jack Russell terrier\n"
     ]
    }
   ],
   "source": [
    "students = [\n",
    "    {\"name\": \"Hermione\", \"house\": \"Gryffindor\", \"patronus\": \"Otter\"},\n",
    "    {\"name\": \"Harry\", \"house\": \"Gryffindor\", \"patronus\": \"Stag\"},\n",
    "    {\"name\": \"Ron\", \"house\": \"Gryffindor\", \"patronus\": \"Jack Russell terrier\"}\n",
    "]\n",
    "for student in students:\n",
    "    print(student[\"name\"], student[\"house\"], student[\"patronus\"], sep=\", \")"
   ],
   "metadata": {
    "collapsed": false,
    "ExecuteTime": {
     "end_time": "2024-03-08T13:49:30.054653Z",
     "start_time": "2024-03-08T13:49:30.051200Z"
    }
   },
   "id": "5d6fe270ffa9f9da",
   "execution_count": 29
  },
  {
   "cell_type": "markdown",
   "source": [
    "# Mario"
   ],
   "metadata": {
    "collapsed": false
   },
   "id": "a229c47817b087a7"
  },
  {
   "cell_type": "code",
   "outputs": [
    {
     "name": "stdout",
     "output_type": "stream",
     "text": [
      "#\n",
      "#\n",
      "#\n"
     ]
    }
   ],
   "source": [
    "print(\"#\")\n",
    "print(\"#\")\n",
    "print(\"#\")"
   ],
   "metadata": {
    "collapsed": false,
    "ExecuteTime": {
     "end_time": "2024-03-08T13:50:25.425840Z",
     "start_time": "2024-03-08T13:50:25.422836Z"
    }
   },
   "id": "c48fb3e76d4ac0d5",
   "execution_count": 31
  },
  {
   "cell_type": "code",
   "outputs": [
    {
     "name": "stdout",
     "output_type": "stream",
     "text": [
      "#\n",
      "#\n",
      "#\n"
     ]
    }
   ],
   "source": [
    "for _ in range(3):\n",
    "    print(\"#\")"
   ],
   "metadata": {
    "collapsed": false,
    "ExecuteTime": {
     "end_time": "2024-03-08T13:50:41.546008Z",
     "start_time": "2024-03-08T13:50:41.542444Z"
    }
   },
   "id": "b5b940349742690e",
   "execution_count": 32
  },
  {
   "cell_type": "code",
   "outputs": [
    {
     "name": "stdout",
     "output_type": "stream",
     "text": [
      "#\n",
      "#\n",
      "#\n"
     ]
    }
   ],
   "source": [
    "def main():\n",
    "    # pass\n",
    "    print_column(3)\n",
    "\n",
    "\n",
    "def print_column(height):\n",
    "    for _ in range(height):\n",
    "        print(\"#\")\n",
    "\n",
    "main()"
   ],
   "metadata": {
    "collapsed": false,
    "ExecuteTime": {
     "end_time": "2024-03-08T13:52:20.964053Z",
     "start_time": "2024-03-08T13:52:20.960250Z"
    }
   },
   "id": "d04c2ac07e713e68",
   "execution_count": 33
  },
  {
   "cell_type": "code",
   "outputs": [
    {
     "name": "stdout",
     "output_type": "stream",
     "text": [
      "????\n"
     ]
    }
   ],
   "source": [
    "def main():\n",
    "   print_row(4) \n",
    "   \n",
    "   \n",
    "def print_row(width):\n",
    "    print(\"?\" * width)\n",
    "\n",
    "main()"
   ],
   "metadata": {
    "collapsed": false,
    "ExecuteTime": {
     "end_time": "2024-03-08T13:53:49.081018Z",
     "start_time": "2024-03-08T13:53:49.076858Z"
    }
   },
   "id": "959ee9bf9a6c01d1",
   "execution_count": 34
  },
  {
   "cell_type": "code",
   "outputs": [
    {
     "name": "stdout",
     "output_type": "stream",
     "text": [
      "#####\n",
      "#####\n",
      "#####\n",
      "#####\n",
      "#####\n"
     ]
    }
   ],
   "source": [
    "def main():\n",
    "    print_square(5)\n",
    "\n",
    "\n",
    "def print_square(size):\n",
    "    for i in range(size):\n",
    "        for j in range(size):\n",
    "            print(\"#\", end=\"\")\n",
    "            \n",
    "        # Print blank line\n",
    "        print()\n",
    "\n",
    "main()"
   ],
   "metadata": {
    "collapsed": false,
    "ExecuteTime": {
     "end_time": "2024-03-08T13:57:05.775682Z",
     "start_time": "2024-03-08T13:57:05.771886Z"
    }
   },
   "id": "fec1b44c6a85b423",
   "execution_count": 35
  },
  {
   "cell_type": "code",
   "outputs": [
    {
     "name": "stdout",
     "output_type": "stream",
     "text": [
      "#####\n",
      "#####\n",
      "#####\n",
      "#####\n",
      "#####\n"
     ]
    }
   ],
   "source": [
    "# We can further abstract away our code:\n",
    "\n",
    "def main():\n",
    "    print_square(5)\n",
    "\n",
    "\n",
    "def print_square(size):\n",
    "    for _ in range(size):\n",
    "        print_row(size)\n",
    "\n",
    "def print_row(width):\n",
    "    print(\"#\" * width)\n",
    "\n",
    "main()"
   ],
   "metadata": {
    "collapsed": false,
    "ExecuteTime": {
     "end_time": "2024-03-08T14:01:03.142060Z",
     "start_time": "2024-03-08T14:01:03.138593Z"
    }
   },
   "id": "74df1443894baa1a",
   "execution_count": 36
  },
  {
   "cell_type": "markdown",
   "source": [
    "# Summing Up\n",
    "- Loops\n",
    "- while\n",
    "- for\n",
    "- len\n",
    "- list\n",
    "- dict"
   ],
   "metadata": {
    "collapsed": false
   },
   "id": "898b4ec170a22520"
  }
 ],
 "metadata": {
  "kernelspec": {
   "display_name": "Python 3",
   "language": "python",
   "name": "python3"
  },
  "language_info": {
   "codemirror_mode": {
    "name": "ipython",
    "version": 2
   },
   "file_extension": ".py",
   "mimetype": "text/x-python",
   "name": "python",
   "nbconvert_exporter": "python",
   "pygments_lexer": "ipython2",
   "version": "2.7.6"
  }
 },
 "nbformat": 4,
 "nbformat_minor": 5
}
