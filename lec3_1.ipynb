{
 "cells": [
  {
   "cell_type": "markdown",
   "source": [
    "# Exceptions"
   ],
   "metadata": {
    "collapsed": false
   }
  },
  {
   "cell_type": "code",
   "execution_count": null,
   "metadata": {
    "collapsed": true
   },
   "outputs": [],
   "source": [
    "print(\"Hello)"
   ]
  },
  {
   "cell_type": "markdown",
   "source": [],
   "metadata": {
    "collapsed": false
   }
  },
  {
   "cell_type": "markdown",
   "source": [
    "### SyntaxError"
   ],
   "metadata": {
    "collapsed": false
   }
  },
  {
   "cell_type": "markdown",
   "source": [
    "ValueError: invalid literal for int() with base 10: 'jfa'"
   ],
   "metadata": {
    "collapsed": false
   }
  },
  {
   "cell_type": "markdown",
   "source": [
    "#### ValurError"
   ],
   "metadata": {
    "collapsed": false
   }
  },
  {
   "cell_type": "code",
   "execution_count": null,
   "outputs": [],
   "source": [
    "# number.py\n",
    "try:\n",
    "    x = int(input(\"What's x?\"))\n",
    "    print(f\"x is {x}\")\n",
    "    # if you input \"cat\" ,it will print \"ValueError: invalid literal for int() with base 10: 'cat'\"\n",
    "except ValueError:\n",
    "    print(\"x is no tan integer\")\n"
   ],
   "metadata": {
    "collapsed": false
   }
  },
  {
   "cell_type": "markdown",
   "source": [
    "#### NameError"
   ],
   "metadata": {
    "collapsed": false
   }
  },
  {
   "cell_type": "code",
   "execution_count": 10,
   "outputs": [
    {
     "name": "stdout",
     "output_type": "stream",
     "text": [
      "x is no tan integer\n",
      "x is 2\n"
     ]
    }
   ],
   "source": [
    "# number.py\n",
    "try:\n",
    "    x = int(input(\"What's x?\"))\n",
    "\n",
    "    # if you input \"cat\" ,it will print \"ValueError: invalid literal for int() with base 10: 'cat'\"\n",
    "except ValueError:\n",
    "    print(\"x is no an integer\")\n",
    "# the input value(the item on the right of =) won't be copyed to x, so may be lead to  \"NameError\"\n",
    "print(f\"x is {x}\") # notice the highlight"
   ],
   "metadata": {
    "collapsed": false
   }
  },
  {
   "cell_type": "markdown",
   "source": [
    "### try-except-else"
   ],
   "metadata": {
    "collapsed": false
   }
  },
  {
   "cell_type": "code",
   "execution_count": 1,
   "outputs": [
    {
     "name": "stdout",
     "output_type": "stream",
     "text": [
      "x is 10\n"
     ]
    }
   ],
   "source": [
    "# number.py\n",
    "try:\n",
    "    x = int(input(\"What's x?\"))\n",
    "\n",
    "    # if you input \"cat\" ,it will print \"ValueError: invalid literal for int() with base 10: 'cat'\"\n",
    "except ValueError:\n",
    "    print(\"x is no an integer\")\n",
    "# the input value(the item on the right of =) won't be copyed to x, so may be lead to  \"NameError\"\n",
    "else:\n",
    "    print(f\"x is {x}\")"
   ],
   "metadata": {
    "collapsed": false,
    "ExecuteTime": {
     "end_time": "2023-11-26T11:38:00.737073900Z",
     "start_time": "2023-11-26T11:37:57.429552Z"
    }
   }
  },
  {
   "cell_type": "markdown",
   "source": [
    "一直请求输入，直到用户输入整数"
   ],
   "metadata": {
    "collapsed": false
   }
  },
  {
   "cell_type": "code",
   "execution_count": 2,
   "outputs": [
    {
     "name": "stdout",
     "output_type": "stream",
     "text": [
      "x is not an integer\n",
      "x is not an integer\n",
      "x is not an integer\n",
      "x is not an integer\n",
      "x is 1\n"
     ]
    }
   ],
   "source": [
    "while True:\n",
    "    try:\n",
    "        x = int(input(\"What's x?\"))\n",
    "    except ValueError:\n",
    "        print(\"x is not an integer\")\n",
    "    else:\n",
    "        break\n",
    "\n",
    "print(f\"x is {x}\")\n"
   ],
   "metadata": {
    "collapsed": false,
    "ExecuteTime": {
     "end_time": "2023-11-26T11:42:20.271176700Z",
     "start_time": "2023-11-26T11:42:09.636752200Z"
    }
   }
  },
  {
   "cell_type": "code",
   "execution_count": 5,
   "outputs": [
    {
     "name": "stdout",
     "output_type": "stream",
     "text": [
      "1\n"
     ]
    }
   ],
   "source": [
    "def main():\n",
    "    x = getint()\n",
    "    print(x)\n",
    "    \n",
    "def getint():\n",
    "        while True:\n",
    "            try:\n",
    "                x = int(input(\"What's x?\"))\n",
    "            except ValueError:\n",
    "                print(\"x is not an integer\")\n",
    "            else:\n",
    "                break\n",
    "        return x\n",
    "main()"
   ],
   "metadata": {
    "collapsed": false,
    "ExecuteTime": {
     "end_time": "2023-11-26T11:50:37.588354800Z",
     "start_time": "2023-11-26T11:50:36.346350600Z"
    }
   }
  },
  {
   "cell_type": "markdown",
   "source": [
    "考虑将line 12 中的 break 替换为return\n",
    "return同样可以种植循环，同时可以返回值"
   ],
   "metadata": {
    "collapsed": false
   }
  },
  {
   "cell_type": "code",
   "execution_count": 6,
   "outputs": [
    {
     "name": "stdout",
     "output_type": "stream",
     "text": [
      "1\n"
     ]
    }
   ],
   "source": [
    "def main():\n",
    "    x = getint()\n",
    "    print(x)\n",
    "    \n",
    "def getint():\n",
    "        while True:\n",
    "            try:\n",
    "                x = int(input(\"What's x?\"))\n",
    "            except ValueError:\n",
    "                print(\"x is not an integer\")\n",
    "            else:\n",
    "                return x\n",
    "main()"
   ],
   "metadata": {
    "collapsed": false,
    "ExecuteTime": {
     "end_time": "2023-11-26T11:52:08.105479600Z",
     "start_time": "2023-11-26T11:52:05.864065300Z"
    }
   }
  },
  {
   "cell_type": "markdown",
   "source": [
    "考虑这种写法：会更好吗？"
   ],
   "metadata": {
    "collapsed": false
   }
  },
  {
   "cell_type": "code",
   "execution_count": 7,
   "outputs": [
    {
     "name": "stdout",
     "output_type": "stream",
     "text": [
      "x is not an integer\n",
      "x is not an integer\n",
      "1\n"
     ]
    }
   ],
   "source": [
    "def main():\n",
    "    x = getint()\n",
    "    print(x)\n",
    "    \n",
    "def getint():\n",
    "        while True:\n",
    "            try:\n",
    "                return int(input(\"What's x?\"))  # 虽然形式上更加简洁，但是理解起来更麻烦\n",
    "            except ValueError:\n",
    "                print(\"x is not an integer\")\n",
    "            \n",
    "main()"
   ],
   "metadata": {
    "collapsed": false,
    "ExecuteTime": {
     "end_time": "2023-11-26T11:53:06.215494500Z",
     "start_time": "2023-11-26T11:53:00.280836300Z"
    }
   }
  },
  {
   "cell_type": "markdown",
   "source": [
    "### pass\n",
    "不跳出循环"
   ],
   "metadata": {
    "collapsed": false
   }
  },
  {
   "cell_type": "code",
   "execution_count": 8,
   "outputs": [
    {
     "name": "stdout",
     "output_type": "stream",
     "text": [
      "1\n"
     ]
    }
   ],
   "source": [
    "def main():\n",
    "    x = getint()\n",
    "    print(x)\n",
    "    \n",
    "def getint():\n",
    "        while True:\n",
    "            try:\n",
    "                return int(input(\"What's x?\"))  # 虽然形式上更加简洁，但是理解起来更麻烦\n",
    "            except ValueError:\n",
    "                pass\n",
    "            \n",
    "main()"
   ],
   "metadata": {
    "collapsed": false,
    "ExecuteTime": {
     "end_time": "2023-11-26T11:56:00.168892200Z",
     "start_time": "2023-11-26T11:55:51.625019400Z"
    }
   }
  },
  {
   "cell_type": "markdown",
   "source": [
    "在python中，缩进表示一种相关性"
   ],
   "metadata": {
    "collapsed": false
   }
  },
  {
   "cell_type": "code",
   "execution_count": 4,
   "outputs": [
    {
     "name": "stdout",
     "output_type": "stream",
     "text": [
      "x is 1\n"
     ]
    }
   ],
   "source": [
    "def main():\n",
    "    x = get_int(\"What's x?\")\n",
    "    print(f\"x is {x}\")\n",
    "    \n",
    "def get_int(prompt):\n",
    "        while True:\n",
    "            try:\n",
    "                return int(input(prompt))  # 虽然形式上更加简洁，但是理解起来更麻烦\n",
    "            except ValueError:\n",
    "                pass\n",
    "            \n",
    "main()"
   ],
   "metadata": {
    "collapsed": false,
    "ExecuteTime": {
     "end_time": "2023-11-27T10:34:09.139360200Z",
     "start_time": "2023-11-27T10:34:07.426595600Z"
    }
   }
  },
  {
   "cell_type": "markdown",
   "source": [
    "### raise\n"
   ],
   "metadata": {
    "collapsed": false
   }
  },
  {
   "cell_type": "code",
   "execution_count": null,
   "outputs": [],
   "source": [
    "  "
   ],
   "metadata": {
    "collapsed": false
   }
  }
 ],
 "metadata": {
  "kernelspec": {
   "display_name": "Python 3",
   "language": "python",
   "name": "python3"
  },
  "language_info": {
   "codemirror_mode": {
    "name": "ipython",
    "version": 2
   },
   "file_extension": ".py",
   "mimetype": "text/x-python",
   "name": "python",
   "nbconvert_exporter": "python",
   "pygments_lexer": "ipython2",
   "version": "2.7.6"
  }
 },
 "nbformat": 4,
 "nbformat_minor": 0
}
