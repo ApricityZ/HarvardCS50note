{
 "cells": [
  {
   "cell_type": "markdown",
   "source": [
    "- File I/O is the ability of a program to take a file as input or creat a file as output"
   ],
   "metadata": {
    "collapsed": false
   },
   "id": "204d8a3790ed591f"
  },
  {
   "cell_type": "code",
   "outputs": [
    {
     "name": "stdout",
     "output_type": "stream",
     "text": [
      "hello,Jay\n"
     ]
    }
   ],
   "source": [
    "name = input(\"What's your name?\")\n",
    "print(f\"hello,{name}\")"
   ],
   "metadata": {
    "collapsed": false,
    "ExecuteTime": {
     "end_time": "2024-04-15T09:10:56.981110Z",
     "start_time": "2024-04-15T09:10:44.651800Z"
    }
   },
   "id": "4f5f5d37faf92a65",
   "execution_count": 1
  },
  {
   "cell_type": "code",
   "outputs": [
    {
     "name": "stdout",
     "output_type": "stream",
     "text": [
      "hello,jay\n",
      "hello,jay\n",
      "hello,jay\n"
     ]
    }
   ],
   "source": [
    "names = []\n",
    "\n",
    "for _ in range(3):\n",
    "    name = input(\"What's your name?\")\n",
    "    names.append(name)\n",
    "\n",
    "\n",
    "for name in names:\n",
    "    print(f\"hello,{name}\")"
   ],
   "metadata": {
    "collapsed": false,
    "ExecuteTime": {
     "end_time": "2024-04-15T09:14:30.700761Z",
     "start_time": "2024-04-15T09:14:27.040789Z"
    }
   },
   "id": "c856992bf585e092",
   "execution_count": 3
  },
  {
   "cell_type": "markdown",
   "source": [
    "## Open\n",
    "open is a function built into Python that allows you to open a file and utilize it in your program.\n",
    "The open function allows you to open a file such that you can read from if or write to it."
   ],
   "metadata": {
    "collapsed": false
   },
   "id": "1103e7999af527ac"
  },
  {
   "cell_type": "code",
   "outputs": [],
   "source": [
    "name = input(\"What's your name?\")\n",
    "\n",
    "file = open(\"names.txt\", \"w\")\n",
    "file.write(name)\n",
    "file.close()"
   ],
   "metadata": {
    "collapsed": false,
    "ExecuteTime": {
     "end_time": "2024-04-15T10:22:48.738946Z",
     "start_time": "2024-04-15T10:22:46.094220Z"
    }
   },
   "id": "94d04bbba8e684a8",
   "execution_count": 4
  },
  {
   "cell_type": "code",
   "outputs": [],
   "source": [
    "name = input(\"What's your name?\")\n",
    "\n",
    "file = open(\"names.txt\", \"a\")\n",
    "file.write(name)\n",
    "file.close()"
   ],
   "metadata": {
    "collapsed": false,
    "ExecuteTime": {
     "end_time": "2024-04-15T10:27:17.435010Z",
     "start_time": "2024-04-15T10:27:10.369646Z"
    }
   },
   "id": "23c8191c1fd4fbff",
   "execution_count": 6
  },
  {
   "cell_type": "code",
   "outputs": [],
   "source": [
    "name = input(\"What's your name?\")\n",
    "\n",
    "file = open(\"names.txt\", \"a\")\n",
    "file.write(f\"{name}\\n\")\n",
    "file.close()"
   ],
   "metadata": {
    "collapsed": false,
    "ExecuteTime": {
     "end_time": "2024-04-15T10:28:59.725560Z",
     "start_time": "2024-04-15T10:28:58.239734Z"
    }
   },
   "id": "aeea405d18ef4d8a",
   "execution_count": 10
  },
  {
   "cell_type": "markdown",
   "source": [
    "## with\n",
    "The keyword `with` allow you to automate the closing of a file"
   ],
   "metadata": {
    "collapsed": false
   },
   "id": "6127eb86df88a092"
  },
  {
   "cell_type": "code",
   "outputs": [],
   "source": [
    "name = input(\"What's your name?\")\n",
    "\n",
    "with open(\"names.txt\", \"a\") as file:\n",
    "    file.write(f\"{name}\\n\")"
   ],
   "metadata": {
    "collapsed": false,
    "ExecuteTime": {
     "end_time": "2024-04-15T10:31:05.800260Z",
     "start_time": "2024-04-15T10:30:58.025762Z"
    }
   },
   "id": "3ee4542c5382b172",
   "execution_count": 11
  },
  {
   "cell_type": "code",
   "outputs": [
    {
     "name": "stdout",
     "output_type": "stream",
     "text": [
      "hello, j\n",
      "\n",
      "hello, J\n",
      "\n",
      "hello, A\n",
      "\n",
      "hello, Little\n"
     ]
    }
   ],
   "source": [
    "with open(\"names.txt\", \"r\") as box:\n",
    "    lines = box.readlines()\n",
    "    \n",
    "for line in lines:\n",
    "    print(\"hello,\", line)"
   ],
   "metadata": {
    "collapsed": false,
    "ExecuteTime": {
     "end_time": "2024-04-15T10:33:50.898615Z",
     "start_time": "2024-04-15T10:33:50.892722Z"
    }
   },
   "id": "2c83f9ea789f6ff3",
   "execution_count": 12
  },
  {
   "cell_type": "code",
   "outputs": [
    {
     "name": "stdout",
     "output_type": "stream",
     "text": [
      "hello, j\n",
      "hello, J\n",
      "hello, A\n",
      "hello, Little\n"
     ]
    }
   ],
   "source": [
    "with open(\"names.txt\", \"r\") as box:\n",
    "    lines = box.readlines()\n",
    "\n",
    "for line in lines:\n",
    "    print(\"hello,\", line.rstrip())\n"
   ],
   "metadata": {
    "collapsed": false,
    "ExecuteTime": {
     "end_time": "2024-04-15T10:37:11.388994Z",
     "start_time": "2024-04-15T10:37:11.383358Z"
    }
   },
   "id": "c6a6dd6cee9400f",
   "execution_count": 13
  },
  {
   "cell_type": "code",
   "outputs": [
    {
     "name": "stdout",
     "output_type": "stream",
     "text": [
      "hello, j\n",
      "hello, J\n",
      "hello, A\n",
      "hello, Little\n"
     ]
    }
   ],
   "source": [
    "with open(\"names.txt\", \"r\") as box:\n",
    "    for line in lines:\n",
    "        print(\"hello,\", line.rstrip())\n"
   ],
   "metadata": {
    "collapsed": false,
    "ExecuteTime": {
     "end_time": "2024-04-15T10:38:02.623294Z",
     "start_time": "2024-04-15T10:38:02.619582Z"
    }
   },
   "id": "695fb0b9d9595a7a",
   "execution_count": 15
  },
  {
   "cell_type": "code",
   "outputs": [
    {
     "name": "stdout",
     "output_type": "stream",
     "text": [
      "hello, A\n",
      "hello, J\n",
      "hello, Little\n",
      "hello, j\n",
      "hello, jay\n",
      "hello, jay\n",
      "hello, jay\n"
     ]
    }
   ],
   "source": [
    "with open(\"names.txt\", \"r\") as file:\n",
    "    for line in lines:\n",
    "        names.append(line.rstrip())\n",
    "\n",
    "for name in sorted(names):\n",
    "    print(f\"hello, {name}\")"
   ],
   "metadata": {
    "collapsed": false,
    "ExecuteTime": {
     "end_time": "2024-04-15T10:39:25.108830Z",
     "start_time": "2024-04-15T10:39:25.103346Z"
    }
   },
   "id": "cdd351111947b3b6",
   "execution_count": 16
  },
  {
   "cell_type": "markdown",
   "source": [
    "# CSV\n",
    "CSV stands for \"comma separated values.\""
   ],
   "metadata": {
    "collapsed": false
   },
   "id": "a84f0172eec66b41"
  },
  {
   "cell_type": "code",
   "outputs": [
    {
     "name": "stdout",
     "output_type": "stream",
     "text": [
      "Hermoine is in Gryffindor\n",
      "Harry is in Gryffindor\n",
      "Ron is in Gryffindor\n",
      "Draco is in Slytherin\n"
     ]
    }
   ],
   "source": [
    "with open(\"students.csv\") as file:\n",
    "    for line in file:\n",
    "        row = line.rstrip().split(\",\")\n",
    "        print(f\"{row[0]} is in {row[1]}\")"
   ],
   "metadata": {
    "collapsed": false,
    "ExecuteTime": {
     "end_time": "2024-04-16T05:34:01.897506Z",
     "start_time": "2024-04-16T05:34:01.892268Z"
    }
   },
   "id": "4f30dfc1d09e76ab",
   "execution_count": 2
  },
  {
   "cell_type": "code",
   "outputs": [
    {
     "name": "stdout",
     "output_type": "stream",
     "text": [
      "Hermoine is in Gryffindor\n",
      "Harry is in Gryffindor\n",
      "Ron is in Gryffindor\n",
      "Draco is in Slytherin\n"
     ]
    }
   ],
   "source": [
    "with open(\"students.csv\") as file:\n",
    "    for line in file:\n",
    "        name, house = line.rstrip().split(\",\")\n",
    "        print(f\"{name} is in {house}\")"
   ],
   "metadata": {
    "collapsed": false,
    "ExecuteTime": {
     "end_time": "2024-04-16T05:36:11.220826Z",
     "start_time": "2024-04-16T05:36:11.215013Z"
    }
   },
   "id": "911ca49c76a09d92",
   "execution_count": 3
  },
  {
   "cell_type": "code",
   "outputs": [
    {
     "name": "stdout",
     "output_type": "stream",
     "text": [
      "Draco is in Slytherin\n",
      "Harry is in Gryffindor\n",
      "Hermoine is in Gryffindor\n",
      "Ron is in Gryffindor\n"
     ]
    }
   ],
   "source": [
    "# sorted output\n",
    "students = []\n",
    "\n",
    "with open(\"students.csv\") as file:\n",
    "    for line in file:\n",
    "        name, house = line.rstrip().split(\",\")\n",
    "        students.append(f\"{name} is in {house}\")\n",
    "\n",
    "for student in sorted(students):\n",
    "    print(student)"
   ],
   "metadata": {
    "collapsed": false,
    "ExecuteTime": {
     "end_time": "2024-04-16T05:38:50.992044Z",
     "start_time": "2024-04-16T05:38:50.985615Z"
    }
   },
   "id": "3624bfb5a04e91f0",
   "execution_count": 4
  },
  {
   "cell_type": "code",
   "outputs": [
    {
     "name": "stdout",
     "output_type": "stream",
     "text": [
      "Hermoine is in Gryffindor\n",
      "Harry is in Gryffindor\n",
      "Ron is in Gryffindor\n",
      "Draco is in Slytherin\n"
     ]
    }
   ],
   "source": [
    "# Recall that Python allows for `dictionaries` where a key can be associated with a value.\n",
    "\n",
    "students = []\n",
    "\n",
    "with open(\"students.csv\") as file:\n",
    "    for line in file:\n",
    "        name, house = line.rstrip().split(\",\")\n",
    "        student = {}\n",
    "        student[\"name\"] = name\n",
    "        student[\"house\"] = house\n",
    "        students.append(student)\n",
    "\n",
    "for student in students:\n",
    "    print(f\"{student['name']} is in {student['house']}\")"
   ],
   "metadata": {
    "collapsed": false,
    "ExecuteTime": {
     "end_time": "2024-04-16T05:42:24.852743Z",
     "start_time": "2024-04-16T05:42:24.846800Z"
    }
   },
   "id": "b0032cb1c93d4ad5",
   "execution_count": 5
  },
  {
   "cell_type": "code",
   "outputs": [
    {
     "name": "stdout",
     "output_type": "stream",
     "text": [
      "Hermoine is in Gryffindor\n",
      "Harry is in Gryffindor\n",
      "Ron is in Gryffindor\n",
      "Draco is in Slytherin\n"
     ]
    }
   ],
   "source": [
    "\n",
    "students = []\n",
    "\n",
    "with open(\"students.csv\") as file:\n",
    "    for line in file:\n",
    "        name, house = line.rstrip().split(\",\")\n",
    "        student = {\"name\": name, \"house\": house}\n",
    "        students.append(student)\n",
    "\n",
    "for student in students:\n",
    "    print(f\"{student['name']} is in {student['house']}\")"
   ],
   "metadata": {
    "collapsed": false,
    "ExecuteTime": {
     "end_time": "2024-04-16T05:44:17.594116Z",
     "start_time": "2024-04-16T05:44:17.588974Z"
    }
   },
   "id": "962df7950db34c30",
   "execution_count": 6
  },
  {
   "cell_type": "code",
   "outputs": [
    {
     "name": "stdout",
     "output_type": "stream",
     "text": [
      "Draco is in Slytherin\n",
      "Harry is in Gryffindor\n",
      "Hermoine is in Gryffindor\n",
      "Ron is in Gryffindor\n"
     ]
    }
   ],
   "source": [
    "students = []\n",
    "\n",
    "with open(\"students.csv\") as file:\n",
    "    for line in file:\n",
    "        name, house = line.rstrip().split(\",\")\n",
    "        student = {\"name\": name, \"house\": house}\n",
    "        students.append(student)\n",
    "\n",
    "def get_name(student):\n",
    "    return student[\"name\"]\n",
    "\n",
    "for student in sorted(students, key=get_name):\n",
    "    print(f\"{student['name']} is in {student['house']}\")\n"
   ],
   "metadata": {
    "collapsed": false,
    "ExecuteTime": {
     "end_time": "2024-04-16T05:46:33.372570Z",
     "start_time": "2024-04-16T05:46:33.366692Z"
    }
   },
   "id": "d693876cd684af7e",
   "execution_count": 7
  },
  {
   "cell_type": "code",
   "outputs": [
    {
     "ename": "ValueError",
     "evalue": "too many values to unpack (expected 2)",
     "output_type": "error",
     "traceback": [
      "\u001B[1;31m---------------------------------------------------------------------------\u001B[0m",
      "\u001B[1;31mValueError\u001B[0m                                Traceback (most recent call last)",
      "Cell \u001B[1;32mIn[9], line 5\u001B[0m\n\u001B[0;32m      3\u001B[0m \u001B[38;5;28;01mwith\u001B[39;00m \u001B[38;5;28mopen\u001B[39m(\u001B[38;5;124m\"\u001B[39m\u001B[38;5;124mstudents.csv\u001B[39m\u001B[38;5;124m\"\u001B[39m) \u001B[38;5;28;01mas\u001B[39;00m file:\n\u001B[0;32m      4\u001B[0m     \u001B[38;5;28;01mfor\u001B[39;00m line \u001B[38;5;129;01min\u001B[39;00m file:\n\u001B[1;32m----> 5\u001B[0m         name, house \u001B[38;5;241m=\u001B[39m line\u001B[38;5;241m.\u001B[39mrstrip()\u001B[38;5;241m.\u001B[39msplit(\u001B[38;5;124m\"\u001B[39m\u001B[38;5;124m,\u001B[39m\u001B[38;5;124m\"\u001B[39m)\n\u001B[0;32m      6\u001B[0m         student \u001B[38;5;241m=\u001B[39m {\u001B[38;5;124m\"\u001B[39m\u001B[38;5;124mname\u001B[39m\u001B[38;5;124m\"\u001B[39m: name, \u001B[38;5;124m\"\u001B[39m\u001B[38;5;124mhouse\u001B[39m\u001B[38;5;124m\"\u001B[39m: house}\n\u001B[0;32m      7\u001B[0m         students\u001B[38;5;241m.\u001B[39mappend(student)\n",
      "\u001B[1;31mValueError\u001B[0m: too many values to unpack (expected 2)"
     ]
    }
   ],
   "source": [
    "students = []\n",
    "\n",
    "with open(\"students.csv\") as file:\n",
    "    for line in file:\n",
    "        name, house = line.rstrip().split(\",\")\n",
    "        student = {\"name\": name, \"house\": house}\n",
    "        students.append(student)\n",
    "\n",
    "def get_name(student):\n",
    "    return student[\"name\"]\n",
    "\n",
    "for student in sorted(students, key=lambda student: student[\"name\"]):\n",
    "    print(f\"{student['name']} is in {student['house']}\")\n"
   ],
   "metadata": {
    "collapsed": false,
    "ExecuteTime": {
     "end_time": "2024-04-16T05:50:15.566615Z",
     "start_time": "2024-04-16T05:50:15.509236Z"
    }
   },
   "id": "c6af6266d603dd5e",
   "execution_count": 9
  },
  {
   "cell_type": "code",
   "outputs": [
    {
     "name": "stdout",
     "output_type": "stream",
     "text": [
      "Draco is in Malfoy Manor\n",
      "Harry is in Number Four, Privet Drive\n",
      "Ron is in The Burrow\n"
     ]
    }
   ],
   "source": [
    "import csv\n",
    "\n",
    "students = []\n",
    "\n",
    "with open(\"students.csv\") as file:\n",
    "    reader = csv.reader(file)\n",
    "    for row in reader:\n",
    "        students.append({\"name\": row[0], \"home\": row[1]})\n",
    "\n",
    "for student in sorted(students, key=lambda student: student[\"name\"]):\n",
    "    print(f\"{student['name']} is in {student['home']}\")"
   ],
   "metadata": {
    "collapsed": false,
    "ExecuteTime": {
     "end_time": "2024-04-16T06:03:29.887286Z",
     "start_time": "2024-04-16T06:03:29.880695Z"
    }
   },
   "id": "afc2be23d1026dc8",
   "execution_count": 13
  },
  {
   "cell_type": "code",
   "outputs": [
    {
     "name": "stdout",
     "output_type": "stream",
     "text": [
      "Draco is in Malfoy Manor\n",
      "Harry is in Number Four, Privet Drive\n",
      "Ron is in The Burrow\n"
     ]
    }
   ],
   "source": [
    "import csv\n",
    "\n",
    "students = []\n",
    "\n",
    "with open(\"students.csv\") as file:\n",
    "    reader = csv.DictReader(file)\n",
    "    for row in reader:\n",
    "        students.append({\"name\": row[\"name\"], \"home\": row[\"home\"]})\n",
    "\n",
    "for student in sorted(students, key=lambda student: student[\"name\"]):\n",
    "    print(f\"{student['name']} is in {student['home']}\")\n"
   ],
   "metadata": {
    "collapsed": false,
    "ExecuteTime": {
     "end_time": "2024-04-16T06:05:18.063022Z",
     "start_time": "2024-04-16T06:05:18.056370Z"
    }
   },
   "id": "8028c063758dd91",
   "execution_count": 14
  },
  {
   "cell_type": "code",
   "outputs": [],
   "source": [
    "# Write to a CSV file\n",
    "\n",
    "import csv\n",
    "\n",
    "name = input(\"What's your name?\")\n",
    "home = input(\"What's your home?\")\n",
    "\n",
    "with open(\"students.csv\", \"a\") as file:\n",
    "    writer = csv.DictWriter(file, fieldnames=[\"name\", \"home\"])\n",
    "    writer.writerow({\"name\": name, \"home\": home})"
   ],
   "metadata": {
    "collapsed": false,
    "ExecuteTime": {
     "end_time": "2024-04-16T06:11:37.786336Z",
     "start_time": "2024-04-16T06:11:31.775089Z"
    }
   },
   "id": "c119fb5f2206cce1",
   "execution_count": 15
  },
  {
   "cell_type": "code",
   "outputs": [],
   "source": [
    "import sys\n",
    "from PIL import Image\n",
    "\n",
    "images = []\n",
    "\n",
    "for arg in sys.argv[1:]:\n",
    "    image = Image.open(arg)\n",
    "    images.append(image)\n",
    "\n",
    "images[0].save(\n",
    "    \"costumes.gif\", save_all=True, append_images=[images[1]], duration=200, loop=0\n",
    ")\n"
   ],
   "metadata": {
    "collapsed": false
   },
   "id": "fff4106b397ee871"
  },
  {
   "cell_type": "markdown",
   "source": [
    "# Summing up\n",
    "Now, we have not only seen that we can write and read files textually---we can also read and write files using ones and zeros. We can't wait to see what you achieve with these naw abilities next.\n",
    "- File I/O\n",
    "- open\n",
    "- with\n",
    "- CSV\n",
    "- PIL"
   ],
   "metadata": {
    "collapsed": false
   },
   "id": "7b684863b19f6d9e"
  }
 ],
 "metadata": {
  "kernelspec": {
   "display_name": "Python 3",
   "language": "python",
   "name": "python3"
  },
  "language_info": {
   "codemirror_mode": {
    "name": "ipython",
    "version": 2
   },
   "file_extension": ".py",
   "mimetype": "text/x-python",
   "name": "python",
   "nbconvert_exporter": "python",
   "pygments_lexer": "ipython2",
   "version": "2.7.6"
  }
 },
 "nbformat": 4,
 "nbformat_minor": 5
}
