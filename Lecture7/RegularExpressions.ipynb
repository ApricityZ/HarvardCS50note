{
 "cells": [
  {
   "cell_type": "markdown",
   "source": [
    "- Regular Expressions\n",
    "- Case Sensitivity\n",
    "- Cleaning Up User Input\n",
    "- Extractiong User Input\n",
    "- Summing Up\n"
   ],
   "metadata": {
    "collapsed": false
   },
   "id": "7858c4f7882c3211"
  },
  {
   "cell_type": "markdown",
   "source": [
    "# Regular Expressions\n",
    "Regular expressions or \"regexes\" will enable us to examine patterns within our code. \n",
    "For example, we might want to validate that an email address is formatted correctly.\n",
    "Regular expressions will enable us to examine expressions in this fashion."
   ],
   "metadata": {
    "collapsed": false
   },
   "id": "3d9cf3653df03a24"
  },
  {
   "cell_type": "code",
   "outputs": [],
   "source": [
    "email = input(\"What's your email?\").strip()\n",
    "\n",
    "if \"@\" in email:\n",
    "    print(\"Valid\")\n",
    "else:\n",
    "    print(\"Invalid\")"
   ],
   "metadata": {
    "collapsed": false
   },
   "id": "3e5a1ae8dcfb6d9e",
   "execution_count": null
  },
  {
   "cell_type": "code",
   "outputs": [],
   "source": [
    "email = input().strip()\n",
    "\n",
    "if \"@\" in email and \".\" in email:\n",
    "    print(\"Valid\")\n",
    "else:\n",
    "    print(\"Invalid\")"
   ],
   "metadata": {
    "collapsed": false
   },
   "id": "343971dd06dd776e",
   "execution_count": null
  },
  {
   "cell_type": "code",
   "outputs": [],
   "source": [
    "# Improve\n",
    "\n",
    "email = input().strip()\n",
    "\n",
    "username, domain = email.split(\"@\")\n",
    "\n",
    "if username and \".\" in domain:\n",
    "    print(\"Valid\")\n",
    "else:\n",
    "    print(\"Invalid\")"
   ],
   "metadata": {
    "collapsed": false
   },
   "id": "1fe3476fbc06da80",
   "execution_count": null
  },
  {
   "cell_type": "code",
   "outputs": [],
   "source": [
    "email = input(\"What's your email?\").strip()\n",
    "\n",
    "username, domain = email.split(\"@\")\n",
    "\n",
    "if username and domain.endswith(\".edu\"):\n",
    "    print(\"Valid\")\n",
    "else:\n",
    "    print(\"Invalid\")"
   ],
   "metadata": {
    "collapsed": false
   },
   "id": "60e7399542c547e7",
   "execution_count": null
  },
  {
   "cell_type": "code",
   "outputs": [],
   "source": [
    "# 使用Re库\n",
    "\n",
    "import re\n",
    "\n",
    "email = input(\"What's your email?\").strip()\n",
    "\n",
    "if re.search(\"@\", email):\n",
    "    print(\"Valid\")\n",
    "else:\n",
    "    print(\"Invalid\")"
   ],
   "metadata": {
    "collapsed": false
   },
   "id": "64b00e5770b95148",
   "execution_count": null
  },
  {
   "cell_type": "markdown",
   "source": [
    "## Vocabulary\n",
    "\\. any character except a new line\n",
    "\\* 0 or more repetitions\n",
    "\\+ 1 or more repetitions\n",
    "? 0 or 1 repetition\n",
    "{m} m repetitions\n",
    "{m,n} m-n repetitions"
   ],
   "metadata": {
    "collapsed": false
   },
   "id": "e2ae13d97cb1fd23"
  },
  {
   "cell_type": "code",
   "outputs": [],
   "source": [
    "import re\n",
    "\n",
    "email = input().strip()\n",
    "\n",
    "if re.search(\".+@.+\", email):\n",
    "    print(\"Valid\")\n",
    "else:\n",
    "    print(\"Invalid\")"
   ],
   "metadata": {
    "collapsed": false
   },
   "id": "8e9ed734696f82fd",
   "execution_count": null
  },
  {
   "cell_type": "code",
   "outputs": [],
   "source": [
    "import re\n",
    "\n",
    "email = input(\"What's your email?\").strip()\n",
    "\n",
    "if re.search(\".+@.+.edu\", email):\n",
    "    print(\"Valid\")\n",
    "else:\n",
    "    print(\"Invalid\")"
   ],
   "metadata": {
    "collapsed": false
   },
   "id": "6559b76a38cac266",
   "execution_count": null
  },
  {
   "cell_type": "code",
   "outputs": [],
   "source": [
    "import re\n",
    "\n",
    "email = input(\"What's your email?\").strip()\n",
    "\n",
    "if re.search(\".+@.+\\.edu\", email):  # 使用转义字符\n",
    "    print(\"Valid\")\n",
    "else:\n",
    "    print(\"Invalid\")\n"
   ],
   "metadata": {
    "collapsed": false
   },
   "id": "7a786a42eaa07a2f"
  },
  {
   "cell_type": "markdown",
   "source": [
    "## Row String"
   ],
   "metadata": {
    "collapsed": false
   },
   "id": "6d72867df02982f0"
  },
  {
   "cell_type": "code",
   "outputs": [],
   "source": [
    "import re\n",
    "\n",
    "email = input(\"What's your email?\").strip()\n",
    "\n",
    "if re.search(r\"^.+@.+\\.edu\", email):\n",
    "    print(\"Valid\")\n",
    "else:\n",
    "    print(\"Invalid\")\n"
   ],
   "metadata": {
    "collapsed": false
   },
   "id": "a673c7dff0101a11"
  },
  {
   "cell_type": "markdown",
   "source": [
    "# 解决开头和结尾的匹配\n",
    "^ matches the start of the string\n",
    "$ matches the end of the string or just before the newline at the end of the string"
   ],
   "metadata": {
    "collapsed": false
   },
   "id": "44442db5dbf3cadf"
  },
  {
   "cell_type": "code",
   "outputs": [],
   "source": [
    "import re\n",
    "\n",
    "email = input().strip()\n",
    "\n",
    "if re.search(r\"^.+@.+\\.edu$\", email):\n",
    "    print(\"Valid\")\n",
    "else:\n",
    "    print(\"Invalid\")"
   ],
   "metadata": {
    "collapsed": false
   },
   "id": "6d0c85250044e7b3",
   "execution_count": null
  },
  {
   "cell_type": "code",
   "outputs": [],
   "source": [
    "import re\n",
    "\n",
    "email = input(\"What's your email? \").strip()\n",
    "\n",
    "if re.search(r\"^.+@.+\\.edu$\", email):\n",
    "    print(\"Valid\")\n",
    "else:\n",
    "    print(\"Invalid\")"
   ],
   "metadata": {
    "collapsed": false
   },
   "id": "7943b686466c1b24",
   "execution_count": null
  },
  {
   "cell_type": "markdown",
   "source": [
    "## 集合和补集\n",
    "[] set of characters\n",
    "[^] set of characters"
   ],
   "metadata": {
    "collapsed": false
   },
   "id": "eb632cae7b895f27"
  },
  {
   "cell_type": "code",
   "outputs": [],
   "source": [
    "import re\n",
    "\n",
    "email = input().strip()\n",
    "\n",
    "if re.search(r\"^[^@]+@[^@]+\\.edu$\", email):\n",
    "    print(\"Valid\")\n",
    "else:\n",
    "    print(\"Invalid\")"
   ],
   "metadata": {
    "collapsed": false
   },
   "id": "bd4fdd2019b8039e",
   "execution_count": null
  },
  {
   "cell_type": "code",
   "outputs": [],
   "source": [
    "import re\n",
    "\n",
    "email = input().strip()\n",
    "\n",
    "if re.search(r\"^[a-zA-Z0-9_]+@[a-zA-Z0-9_]+\\.edu$\", email): # `_` just is a `_` symple\n",
    "    print(\"Valid\")\n",
    "else:\n",
    "    print(\"Invalid\")"
   ],
   "metadata": {
    "collapsed": false
   },
   "id": "584cea09258e66fb",
   "execution_count": null
  },
  {
   "cell_type": "code",
   "outputs": [],
   "source": [
    "import re\n",
    "\n",
    "email = input().strip()\n",
    "\n",
    "if re.search(r\"^\\w+@\\w+\\.edu\", email):  # `\\w` is same with `[a-zA-Z0-9_]`\n",
    "    print(\"Valid\")\n",
    "else:\n",
    "    print(\"Invalid\")"
   ],
   "metadata": {
    "collapsed": false
   },
   "id": "ec62e5d5459a6fe1",
   "execution_count": null
  },
  {
   "cell_type": "markdown",
   "source": [
    "# Additional patterns \n",
    "\\d decimal digit\n",
    "\\D not a decimal digit\n",
    "\\s whitespace character\n",
    "\\S not a whitespace character\n",
    "\\w word character, as well as numbers and the underscore\n",
    "\\W not a word chatacter"
   ],
   "metadata": {
    "collapsed": false
   },
   "id": "852c70e4d0246171"
  },
  {
   "cell_type": "code",
   "outputs": [],
   "source": [
    "import re\n",
    "\n",
    "email = input().strip()\n",
    "\n",
    "if re.search(r\"^\\w+@\\w.+\\.(com|edu|gov|net|org)$\", email):  # `|` has the impact of `or`\n",
    "    print(\"Valid\")\n",
    "else:\n",
    "    print(\"Invalid\")"
   ],
   "metadata": {
    "collapsed": false
   },
   "id": "dc3a421f45469bd1"
  },
  {
   "cell_type": "markdown",
   "source": [
    "## Adding even more symbols to our vocabulary\n",
    "A|B either A or B\n",
    "(...) a group\n",
    "(?:...) non-capturing version"
   ],
   "metadata": {
    "collapsed": false
   },
   "id": "c4acb2e183718764"
  },
  {
   "cell_type": "markdown",
   "source": [
    "## Case Sensitivity\n",
    "To illustrate how you mighr adress issues around case sensitivity, where there is a difference between EDU and edu "
   ],
   "metadata": {
    "collapsed": false
   },
   "id": "514970590a22492f"
  },
  {
   "cell_type": "code",
   "outputs": [],
   "source": [
    "import re\n",
    "\n",
    "email = input().strip()\n",
    "\n",
    "if re.search(r\"^\\w+@\\w+\\.edu$\", email):\n",
    "    print(\"Valid\")\n",
    "else:\n",
    "    print(\"Invalid\")"
   ],
   "metadata": {
    "collapsed": false
   },
   "id": "c0bc60c07811c572",
   "execution_count": null
  },
  {
   "cell_type": "markdown",
   "source": [
    "## Some built-in flag variables are:\n",
    "re.IGNORECASE\n",
    "re.MULTILINE\n",
    "re.DOTALL"
   ],
   "metadata": {
    "collapsed": false
   },
   "id": "bac49311523cc4fb"
  },
  {
   "cell_type": "code",
   "outputs": [],
   "source": [
    "import re\n",
    "\n",
    "email = input().strip()\n",
    "\n",
    "if re.search(r\"^\\w+@\\w+\\.edu$\", email, re.IGNORECASE):\n",
    "    print(\"Valid\")\n",
    "else:\n",
    "    print(\"Invalid\")"
   ],
   "metadata": {
    "collapsed": false
   },
   "id": "fa8c44f4082b11eb",
   "execution_count": null
  },
  {
   "cell_type": "code",
   "outputs": [],
   "source": [
    "# 解决出现比如`malan@cs50.harvard.edu`\n",
    "\n",
    "import re\n",
    "\n",
    "email = input().strip()\n",
    "\n",
    "if re.search(r\"^\\w+@(\\w+\\.)?\\w+\\.edu$\", email, re.IGNORECASE):\n",
    "    print(\"Valid\")\n",
    "else:\n",
    "    print(\"Invalid\")\n",
    "# \"\"\"\n",
    "# Notice `(\\w+\\.)?` communucates to the compiler that this new expression can be there once or not at all.\n",
    "# Hence, both `malan@cs50.harvard.edu` and `malan@harvard.edu` are considered valid.\n",
    "# \"\"\""
   ],
   "metadata": {
    "collapsed": false
   },
   "id": "7134c4eaaad28b7b",
   "execution_count": null
  },
  {
   "cell_type": "code",
   "outputs": [],
   "source": [
    "re.search(r\"^[a-zA-Z0-9.!#$%&'*+\\/=?^_`{|}~-]+@[a-zA-Z0-9](?:[a-zA-Z0-9-]{0,61}[a-zA-Z0-9])?(?:\\.[a-zA-Z0-9](?:[a-zA-Z0-9-]{0,61}[a-zA-Z0-9])?)*$\")"
   ],
   "metadata": {
    "collapsed": false
   },
   "id": "40a125807859f238"
  },
  {
   "cell_type": "markdown",
   "source": [
    "Interestingly, the full expression that one would have to type to ensure that a valid email is :\n",
    "`^[a-zA-Z0-9.!#$%&'*+\\/=?^_`{|{~-]+@[a-zA-Z0-9](`"
   ],
   "metadata": {
    "collapsed": false
   },
   "id": "c177116b6c10c343"
  },
  {
   "cell_type": "markdown",
   "source": [
    "## Clean Up User Input\n",
    "You should never expect your user to always follow your hopes for celean input. Indeed, user will often voilate your intentions as a programmer."
   ],
   "metadata": {
    "collapsed": false
   },
   "id": "75f7534f1e0fc0be"
  },
  {
   "cell_type": "code",
   "outputs": [],
   "source": [
    "name = input(\"What's your name?\").strip()\n",
    "print(f\"hello, {name}\")"
   ],
   "metadata": {
    "collapsed": false
   },
   "id": "4b3952689b4c4e77",
   "execution_count": null
  },
  {
   "cell_type": "code",
   "outputs": [],
   "source": [
    "name = input().strip()\n",
    "if \",\" in name:\n",
    "    last, first = name.split(\",\")\n",
    "    name = f\"{first} {last}\"\n",
    "print(f\"hello, {name}\")"
   ],
   "metadata": {
    "collapsed": false
   },
   "id": "a3207773870e2b04",
   "execution_count": null
  },
  {
   "cell_type": "code",
   "outputs": [],
   "source": [
    "import re\n",
    "\n",
    "name = input().strip()\n",
    "matches = re.search(r\"^(.+),(.+)$\", name)\n",
    "if matches:\n",
    "    last, first = matches.groups()\n",
    "    name = first + \" \" +last\n",
    "print(f\"hello, {name}\")"
   ],
   "metadata": {
    "collapsed": false
   },
   "id": "6a469573fce1188",
   "execution_count": null
  },
  {
   "cell_type": "code",
   "outputs": [],
   "source": [
    "import re\n",
    "\n",
    "name = input().strip()\n",
    "matches = re.search(r\"^(.+), (.+)$\", name)\n",
    "print(matches)\n",
    "if matches:\n",
    "    name = matches.group(2) + \" \" + matches.group(1)\n",
    "print(f\"hello, {name}\")"
   ],
   "metadata": {
    "collapsed": false
   },
   "id": "74e29e3ef3908c0f",
   "execution_count": null
  },
  {
   "cell_type": "code",
   "outputs": [],
   "source": [
    "import re\n",
    "\n",
    "name = input().strip()\n",
    "matches = re.search(r\"^(.+), *(.+)$\", name)\n",
    "if matches:\n",
    "    name = matches.group(2) + \" \" +matches.group(1)\n",
    "print(f\"hello, {name}\")"
   ],
   "metadata": {
    "collapsed": false
   },
   "id": "7e8a99f160aa16af",
   "execution_count": null
  },
  {
   "cell_type": "code",
   "outputs": [],
   "source": [
    "import re\n",
    "\n",
    "name = input(\"What's your name?\").strip()\n",
    "if matches := re.search(r\"^(.+), *(.+)$\", name):\n",
    "    name = matches.group(2) + \" \" + matches.group(1)\n",
    "print(f\"hello, {name}\")"
   ],
   "metadata": {
    "collapsed": false
   },
   "id": "7e0e72b973ba20e4",
   "execution_count": null
  },
  {
   "cell_type": "markdown",
   "source": [
    "# Extracting User Input\n",
    "Now, let's extract some specific information from user input"
   ],
   "metadata": {
    "collapsed": false
   },
   "id": "20738fdbde93a6b3"
  },
  {
   "cell_type": "code",
   "outputs": [],
   "source": [
    "# twitter.py\n",
    "\n",
    "url = input(\"URL: \").strip()\n",
    "print(url) # Extracting User InputNow, let's extract some specific information from user input"
   ],
   "metadata": {
    "collapsed": false
   },
   "id": "f860877363a335d9"
  },
  {
   "cell_type": "code",
   "outputs": [
    {
     "name": "stdout",
     "output_type": "stream",
     "text": [
      "Username: davidjmalan\n"
     ]
    }
   ],
   "source": [
    "url = input(\"URL:\").strip()\n",
    "\n",
    "username = url.replace(\"https://twitter.com/\",\"\")\n",
    "\n",
    "print(f\"Username: {username}\")"
   ],
   "metadata": {
    "collapsed": false,
    "ExecuteTime": {
     "end_time": "2024-04-17T02:17:19.076979Z",
     "start_time": "2024-04-17T02:17:18.097699Z"
    }
   },
   "id": "58832ad7d97898aa",
   "execution_count": 17
  },
  {
   "cell_type": "code",
   "outputs": [
    {
     "name": "stdout",
     "output_type": "stream",
     "text": [
      "Username: tps://twitter.com/davidjmalan\n"
     ]
    }
   ],
   "source": [
    "url = input(\"URL:\").strip()\n",
    "\n",
    "username = url.removeprefix(\"https://twitter.com/\")\n",
    "\n",
    "print(f\"Username: {username}\")\n"
   ],
   "metadata": {
    "collapsed": false,
    "ExecuteTime": {
     "end_time": "2024-04-17T02:18:53.961699Z",
     "start_time": "2024-04-17T02:18:49.285585Z"
    }
   },
   "id": "88e61f8dba9e0a0c",
   "execution_count": 19
  },
  {
   "cell_type": "code",
   "outputs": [
    {
     "name": "stdout",
     "output_type": "stream",
     "text": [
      "Username: davidjmalan\n"
     ]
    }
   ],
   "source": [
    "import re\n",
    "\n",
    "url = input().strip()\n",
    "\n",
    "username = re.sub(r\"https://twitter.com/\", \"\", url)\n",
    "print(f\"Username: {username}\")"
   ],
   "metadata": {
    "collapsed": false,
    "ExecuteTime": {
     "end_time": "2024-04-17T02:22:58.718461Z",
     "start_time": "2024-04-17T02:22:57.145935Z"
    }
   },
   "id": "3038306a71df418c",
   "execution_count": 21
  },
  {
   "cell_type": "code",
   "outputs": [],
   "source": [
    "import re\n",
    "\n",
    "url = input().strip()\n",
    "\n",
    "username = re.sub(r\"^(https?://)?(www\\.)?twitter\\.com/\", \"\", url)\n",
    "print(f\"Username: {username}\")\n"
   ],
   "metadata": {
    "collapsed": false
   },
   "id": "fded072aaa801c"
  },
  {
   "cell_type": "code",
   "outputs": [
    {
     "name": "stdout",
     "output_type": "stream",
     "text": [
      "Username:davidjmalan\n"
     ]
    }
   ],
   "source": [
    "import re\n",
    "\n",
    "url = input().strip()\n",
    "\n",
    "matches = re.search(r\"^https?://(www\\.)?twitter\\.com/(.+)$\", url, re.IGNORECASE)\n",
    "if matches:\n",
    "    print(f\"Username: {matches.group(2)}\")"
   ],
   "metadata": {
    "collapsed": false,
    "ExecuteTime": {
     "end_time": "2024-04-17T03:28:28.189574Z",
     "start_time": "2024-04-17T03:28:20.759238Z"
    }
   },
   "id": "2663b42ae96d4507",
   "execution_count": 22
  },
  {
   "cell_type": "code",
   "outputs": [
    {
     "name": "stdout",
     "output_type": "stream",
     "text": [
      "Username: davidjmalan\n"
     ]
    }
   ],
   "source": [
    "import re\n",
    "\n",
    "url = input().strip()\n",
    "\n",
    "if matches := re.search(r\"^https?://(?:www\\.)?twitter\\.com/(.+)$\", url, re.IGNORECASE):\n",
    "    print(f\"Username: {matches.group(1)}\")\n"
   ],
   "metadata": {
    "collapsed": false,
    "ExecuteTime": {
     "end_time": "2024-04-17T03:30:17.745124Z",
     "start_time": "2024-04-17T03:30:16.811149Z"
    }
   },
   "id": "8ad79ccbadd9f4cf",
   "execution_count": 24
  },
  {
   "cell_type": "code",
   "outputs": [
    {
     "name": "stdout",
     "output_type": "stream",
     "text": [
      "Username: davidjmalan\n"
     ]
    }
   ],
   "source": [
    "import re\n",
    "\n",
    "url = input().strip()\n",
    "\n",
    "if matches := re.search(r\"^https?://(?:www\\.)?twitter\\.com/([a-z0-9_]+)\", url, re.IGNORECASE):\n",
    "    print(f\"Username: {matches.group(1)}\")\n"
   ],
   "metadata": {
    "collapsed": false,
    "ExecuteTime": {
     "end_time": "2024-04-17T03:31:48.523085Z",
     "start_time": "2024-04-17T03:31:47.256774Z"
    }
   },
   "id": "e278a429ac8a3009",
   "execution_count": 25
  },
  {
   "cell_type": "markdown",
   "source": [
    "# Summing Up\n",
    "- Regular Expressions\n",
    "- Case Sensitivity\n",
    "- Clean Up User Input\n",
    "- Extractiong User Input"
   ],
   "metadata": {
    "collapsed": false
   },
   "id": "bf845d895f899798"
  }
 ],
 "metadata": {
  "kernelspec": {
   "display_name": "Python 3",
   "language": "python",
   "name": "python3"
  },
  "language_info": {
   "codemirror_mode": {
    "name": "ipython",
    "version": 2
   },
   "file_extension": ".py",
   "mimetype": "text/x-python",
   "name": "python",
   "nbconvert_exporter": "python",
   "pygments_lexer": "ipython2",
   "version": "2.7.6"
  }
 },
 "nbformat": 4,
 "nbformat_minor": 5
}
